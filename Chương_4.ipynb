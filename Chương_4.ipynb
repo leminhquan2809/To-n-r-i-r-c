{
  "nbformat": 4,
  "nbformat_minor": 0,
  "metadata": {
    "colab": {
      "name": "Chương 4.ipynb",
      "provenance": [],
      "collapsed_sections": [],
      "authorship_tag": "ABX9TyPTOYTlHU5X3b0EQgwql4UQ",
      "include_colab_link": true
    },
    "kernelspec": {
      "name": "python3",
      "display_name": "Python 3"
    },
    "language_info": {
      "name": "python"
    }
  },
  "cells": [
    {
      "cell_type": "markdown",
      "metadata": {
        "id": "view-in-github",
        "colab_type": "text"
      },
      "source": [
        "<a href=\"https://colab.research.google.com/github/leminhquan2809/ToanRoiRac/blob/main/Ch%C6%B0%C6%A1ng_4.ipynb\" target=\"_parent\"><img src=\"https://colab.research.google.com/assets/colab-badge.svg\" alt=\"Open In Colab\"/></a>"
      ]
    },
    {
      "cell_type": "markdown",
      "source": [
        "# Sử dụng thư viện itertools với các phép toán hỗ trợ xử lý về tổ hợp"
      ],
      "metadata": {
        "id": "nfIv63t0Np-3"
      }
    },
    {
      "cell_type": "code",
      "execution_count": 4,
      "metadata": {
        "colab": {
          "base_uri": "https://localhost:8080/"
        },
        "id": "13WTgp3xNfpk",
        "outputId": "1d6f6692-b427-4d36-f816-7bdbbb7f7e84"
      },
      "outputs": [
        {
          "output_type": "stream",
          "name": "stdout",
          "text": [
            "1\n",
            "3\n",
            "6\n",
            "10\n",
            "15\n",
            "21\n",
            "28\n",
            "36\n",
            "45\n",
            "55\n"
          ]
        }
      ],
      "source": [
        "import itertools\n",
        "for i in itertools.accumulate([1,2,3,4,5,6,7,8,9,10]): \n",
        "  print(i)"
      ]
    },
    {
      "cell_type": "code",
      "source": [
        "for i in itertools.repeat('Red', 3): \n",
        "  print (i) "
      ],
      "metadata": {
        "id": "cpgD0r2kNy-X",
        "colab": {
          "base_uri": "https://localhost:8080/"
        },
        "outputId": "c084285e-cfc0-431b-c56e-35c5ecea7be0"
      },
      "execution_count": 5,
      "outputs": [
        {
          "output_type": "stream",
          "name": "stdout",
          "text": [
            "Red\n",
            "Red\n",
            "Red\n"
          ]
        }
      ]
    },
    {
      "cell_type": "code",
      "source": [
        "for i in ((i,j) for i in [1,2]for j in [6,7,8,9]):\n",
        "  print(i)"
      ],
      "metadata": {
        "id": "8Fxx0S06N3rP",
        "colab": {
          "base_uri": "https://localhost:8080/"
        },
        "outputId": "ea417292-82a6-4cef-f15b-63983c8f8f8e"
      },
      "execution_count": 6,
      "outputs": [
        {
          "output_type": "stream",
          "name": "stdout",
          "text": [
            "(1, 6)\n",
            "(1, 7)\n",
            "(1, 8)\n",
            "(1, 9)\n",
            "(2, 6)\n",
            "(2, 7)\n",
            "(2, 8)\n",
            "(2, 9)\n"
          ]
        }
      ]
    },
    {
      "cell_type": "code",
      "source": [
        "import itertools\n",
        "for i in itertools.product([1,2],[6,7,8,9]):\n",
        "  print(i)"
      ],
      "metadata": {
        "id": "8o5yzHkiOFuG",
        "colab": {
          "base_uri": "https://localhost:8080/"
        },
        "outputId": "605d3dfe-a7c1-464e-dce8-6a2d3c9ca046"
      },
      "execution_count": 9,
      "outputs": [
        {
          "output_type": "stream",
          "name": "stdout",
          "text": [
            "(1, 6)\n",
            "(1, 7)\n",
            "(1, 8)\n",
            "(1, 9)\n",
            "(2, 6)\n",
            "(2, 7)\n",
            "(2, 8)\n",
            "(2, 9)\n"
          ]
        }
      ]
    },
    {
      "cell_type": "code",
      "source": [
        "for i in itertools.product('AB', 'C', 'DEF'): \n",
        "  print(i) "
      ],
      "metadata": {
        "id": "cdhGRIsmORsx",
        "colab": {
          "base_uri": "https://localhost:8080/"
        },
        "outputId": "4a548b1d-5460-4139-911b-ed8627c9a8b1"
      },
      "execution_count": 10,
      "outputs": [
        {
          "output_type": "stream",
          "name": "stdout",
          "text": [
            "('A', 'C', 'D')\n",
            "('A', 'C', 'E')\n",
            "('A', 'C', 'F')\n",
            "('B', 'C', 'D')\n",
            "('B', 'C', 'E')\n",
            "('B', 'C', 'F')\n"
          ]
        }
      ]
    },
    {
      "cell_type": "code",
      "source": [
        "for i in itertools.product('24', 'IT', repeat = 2): \n",
        "  print (i)"
      ],
      "metadata": {
        "id": "oHA2iW0EOVGU",
        "colab": {
          "base_uri": "https://localhost:8080/"
        },
        "outputId": "ee68e94f-b37b-41d3-ee22-f3bde0d16c7f"
      },
      "execution_count": 11,
      "outputs": [
        {
          "output_type": "stream",
          "name": "stdout",
          "text": [
            "('2', 'I', '2', 'I')\n",
            "('2', 'I', '2', 'T')\n",
            "('2', 'I', '4', 'I')\n",
            "('2', 'I', '4', 'T')\n",
            "('2', 'T', '2', 'I')\n",
            "('2', 'T', '2', 'T')\n",
            "('2', 'T', '4', 'I')\n",
            "('2', 'T', '4', 'T')\n",
            "('4', 'I', '2', 'I')\n",
            "('4', 'I', '2', 'T')\n",
            "('4', 'I', '4', 'I')\n",
            "('4', 'I', '4', 'T')\n",
            "('4', 'T', '2', 'I')\n",
            "('4', 'T', '2', 'T')\n",
            "('4', 'T', '4', 'I')\n",
            "('4', 'T', '4', 'T')\n"
          ]
        }
      ]
    },
    {
      "cell_type": "code",
      "source": [
        "from itertools import permutations\n",
        "for i in permutations('ABC'):\n",
        "  print(i)"
      ],
      "metadata": {
        "id": "lLJGSh-9OYc5",
        "colab": {
          "base_uri": "https://localhost:8080/"
        },
        "outputId": "8b1ae709-a102-4c10-b7d2-edd5bc3aba3f"
      },
      "execution_count": 13,
      "outputs": [
        {
          "output_type": "stream",
          "name": "stdout",
          "text": [
            "('A', 'B', 'C')\n",
            "('A', 'C', 'B')\n",
            "('B', 'A', 'C')\n",
            "('B', 'C', 'A')\n",
            "('C', 'A', 'B')\n",
            "('C', 'B', 'A')\n"
          ]
        }
      ]
    },
    {
      "cell_type": "code",
      "source": [
        "from itertools import permutations\n",
        "for i in permutations('ABC',2):\n",
        "  print(i)"
      ],
      "metadata": {
        "id": "pgnrpVtaOw8b",
        "colab": {
          "base_uri": "https://localhost:8080/"
        },
        "outputId": "a4e8d327-d85b-41dd-a63b-63699642b066"
      },
      "execution_count": 14,
      "outputs": [
        {
          "output_type": "stream",
          "name": "stdout",
          "text": [
            "('A', 'B')\n",
            "('A', 'C')\n",
            "('B', 'A')\n",
            "('B', 'C')\n",
            "('C', 'A')\n",
            "('C', 'B')\n"
          ]
        }
      ]
    },
    {
      "cell_type": "code",
      "source": [
        "for i in itertools.combinations('ABCDE',3):\n",
        "  print(i)"
      ],
      "metadata": {
        "id": "oD-RuQNEO9RA",
        "colab": {
          "base_uri": "https://localhost:8080/"
        },
        "outputId": "132a429e-8293-4ec6-da37-8f42312a03f0"
      },
      "execution_count": 15,
      "outputs": [
        {
          "output_type": "stream",
          "name": "stdout",
          "text": [
            "('A', 'B', 'C')\n",
            "('A', 'B', 'D')\n",
            "('A', 'B', 'E')\n",
            "('A', 'C', 'D')\n",
            "('A', 'C', 'E')\n",
            "('A', 'D', 'E')\n",
            "('B', 'C', 'D')\n",
            "('B', 'C', 'E')\n",
            "('B', 'D', 'E')\n",
            "('C', 'D', 'E')\n"
          ]
        }
      ]
    },
    {
      "cell_type": "code",
      "source": [
        "import itertools \n",
        "nhaccu = 'Đàn Trống Sáo Bo'.split() \n",
        "chonmua2mon = list(itertools.combinations(nhaccu, 2)) \n",
        "chonmua2mon "
      ],
      "metadata": {
        "id": "MoYyzWCZO9Lz",
        "colab": {
          "base_uri": "https://localhost:8080/"
        },
        "outputId": "477af292-4c6a-42e7-937c-6d26d246b37c"
      },
      "execution_count": 16,
      "outputs": [
        {
          "output_type": "execute_result",
          "data": {
            "text/plain": [
              "[('Đàn', 'Trống'),\n",
              " ('Đàn', 'Sáo'),\n",
              " ('Đàn', 'Bo'),\n",
              " ('Trống', 'Sáo'),\n",
              " ('Trống', 'Bo'),\n",
              " ('Sáo', 'Bo')]"
            ]
          },
          "metadata": {},
          "execution_count": 16
        }
      ]
    },
    {
      "cell_type": "code",
      "source": [
        "for i in itertools.combinations_with_replacement('ABCDE', 3): \n",
        "  print (i) "
      ],
      "metadata": {
        "id": "wKmT8tPvPM55",
        "colab": {
          "base_uri": "https://localhost:8080/"
        },
        "outputId": "9f3f11cb-ed13-4c47-dc95-44a01ca8057f"
      },
      "execution_count": 17,
      "outputs": [
        {
          "output_type": "stream",
          "name": "stdout",
          "text": [
            "('A', 'A', 'A')\n",
            "('A', 'A', 'B')\n",
            "('A', 'A', 'C')\n",
            "('A', 'A', 'D')\n",
            "('A', 'A', 'E')\n",
            "('A', 'B', 'B')\n",
            "('A', 'B', 'C')\n",
            "('A', 'B', 'D')\n",
            "('A', 'B', 'E')\n",
            "('A', 'C', 'C')\n",
            "('A', 'C', 'D')\n",
            "('A', 'C', 'E')\n",
            "('A', 'D', 'D')\n",
            "('A', 'D', 'E')\n",
            "('A', 'E', 'E')\n",
            "('B', 'B', 'B')\n",
            "('B', 'B', 'C')\n",
            "('B', 'B', 'D')\n",
            "('B', 'B', 'E')\n",
            "('B', 'C', 'C')\n",
            "('B', 'C', 'D')\n",
            "('B', 'C', 'E')\n",
            "('B', 'D', 'D')\n",
            "('B', 'D', 'E')\n",
            "('B', 'E', 'E')\n",
            "('C', 'C', 'C')\n",
            "('C', 'C', 'D')\n",
            "('C', 'C', 'E')\n",
            "('C', 'D', 'D')\n",
            "('C', 'D', 'E')\n",
            "('C', 'E', 'E')\n",
            "('D', 'D', 'D')\n",
            "('D', 'D', 'E')\n",
            "('D', 'E', 'E')\n",
            "('E', 'E', 'E')\n"
          ]
        }
      ]
    },
    {
      "cell_type": "markdown",
      "source": [
        "# Ôn luyện cơ bản về Python: Hàm ngẫu nhiên toán học và lặp trong Python"
      ],
      "metadata": {
        "id": "XGUfI9_vPPP4"
      }
    },
    {
      "cell_type": "markdown",
      "source": [
        "Cơ bản về hàm ngẫu nhiên trong Python"
      ],
      "metadata": {
        "id": "nUFFFHpyPSf7"
      }
    },
    {
      "cell_type": "code",
      "source": [
        "import random \n",
        "random.choice(['Táo', 'Lê', 'Ổi', 'Chuối'])"
      ],
      "metadata": {
        "id": "G33NhkE0POQL",
        "colab": {
          "base_uri": "https://localhost:8080/",
          "height": 36
        },
        "outputId": "02aded97-b443-40ba-f30e-b39a3b1c1835"
      },
      "execution_count": 18,
      "outputs": [
        {
          "output_type": "execute_result",
          "data": {
            "text/plain": [
              "'Táo'"
            ],
            "application/vnd.google.colaboratory.intrinsic+json": {
              "type": "string"
            }
          },
          "metadata": {},
          "execution_count": 18
        }
      ]
    },
    {
      "cell_type": "code",
      "source": [
        "random.random()"
      ],
      "metadata": {
        "id": "DIXYQoTrPYSH",
        "colab": {
          "base_uri": "https://localhost:8080/"
        },
        "outputId": "52361405-7277-49ba-bcde-2fc46a6ff728"
      },
      "execution_count": 19,
      "outputs": [
        {
          "output_type": "execute_result",
          "data": {
            "text/plain": [
              "0.25145393728734533"
            ]
          },
          "metadata": {},
          "execution_count": 19
        }
      ]
    },
    {
      "cell_type": "code",
      "source": [
        "random. uniform(4.9, 10.0)"
      ],
      "metadata": {
        "id": "5UPFJfkqPcIm",
        "colab": {
          "base_uri": "https://localhost:8080/"
        },
        "outputId": "963a2e80-8545-45bc-bf6b-3223f3b1c0f3"
      },
      "execution_count": 20,
      "outputs": [
        {
          "output_type": "execute_result",
          "data": {
            "text/plain": [
              "9.746272969734653"
            ]
          },
          "metadata": {},
          "execution_count": 20
        }
      ]
    },
    {
      "cell_type": "code",
      "source": [
        "random.randrange(6) "
      ],
      "metadata": {
        "id": "QyXQRm7yPerb",
        "colab": {
          "base_uri": "https://localhost:8080/"
        },
        "outputId": "306d56fb-ba97-459f-a714-ed6cbcfc4292"
      },
      "execution_count": 21,
      "outputs": [
        {
          "output_type": "execute_result",
          "data": {
            "text/plain": [
              "0"
            ]
          },
          "metadata": {},
          "execution_count": 21
        }
      ]
    },
    {
      "cell_type": "code",
      "source": [
        "random.randrange(50, 500)"
      ],
      "metadata": {
        "id": "gFD4GO5uPhmS",
        "colab": {
          "base_uri": "https://localhost:8080/"
        },
        "outputId": "494bc3fe-9c10-4f82-ec9b-8bce1c4aa595"
      },
      "execution_count": 22,
      "outputs": [
        {
          "output_type": "execute_result",
          "data": {
            "text/plain": [
              "182"
            ]
          },
          "metadata": {},
          "execution_count": 22
        }
      ]
    },
    {
      "cell_type": "code",
      "source": [
        "random.randrange(20, 100, 2)"
      ],
      "metadata": {
        "id": "QHZPEgy7PjwH",
        "colab": {
          "base_uri": "https://localhost:8080/"
        },
        "outputId": "8963739a-6bd0-40a6-de71-7ce6c8ec9046"
      },
      "execution_count": 23,
      "outputs": [
        {
          "output_type": "execute_result",
          "data": {
            "text/plain": [
              "94"
            ]
          },
          "metadata": {},
          "execution_count": 23
        }
      ]
    },
    {
      "cell_type": "code",
      "source": [
        "random.sample(range(100), 10)"
      ],
      "metadata": {
        "id": "4UBBUF-TPl2t",
        "colab": {
          "base_uri": "https://localhost:8080/"
        },
        "outputId": "cd1bedc9-a2b2-4342-9442-880b7f303192"
      },
      "execution_count": 26,
      "outputs": [
        {
          "output_type": "execute_result",
          "data": {
            "text/plain": [
              "[48, 20, 66, 39, 60, 6, 73, 1, 56, 22]"
            ]
          },
          "metadata": {},
          "execution_count": 26
        }
      ]
    },
    {
      "cell_type": "code",
      "source": [
        "random.sample(range(10, 100), 15)"
      ],
      "metadata": {
        "id": "f0C45zedPp4B",
        "colab": {
          "base_uri": "https://localhost:8080/"
        },
        "outputId": "83490ec3-aa5c-4a1c-e55c-489a24e036d7"
      },
      "execution_count": 27,
      "outputs": [
        {
          "output_type": "execute_result",
          "data": {
            "text/plain": [
              "[61, 62, 73, 67, 27, 46, 54, 87, 74, 14, 48, 93, 59, 18, 85]"
            ]
          },
          "metadata": {},
          "execution_count": 27
        }
      ]
    },
    {
      "cell_type": "code",
      "source": [
        "chars = ['a', 'b', 'c', 'd', 'e', 'f', 'g', 'h', 'i', 'j'] \n",
        "rand5_char = random.sample(chars, 5) \n",
        "print (rand5_char) "
      ],
      "metadata": {
        "id": "2hbrIsRNPt_p",
        "colab": {
          "base_uri": "https://localhost:8080/"
        },
        "outputId": "ba3b43cf-01c0-45d7-8b20-279dee8b6056"
      },
      "execution_count": 25,
      "outputs": [
        {
          "output_type": "stream",
          "name": "stdout",
          "text": [
            "['d', 'i', 'j', 'f', 'h']\n"
          ]
        }
      ]
    },
    {
      "cell_type": "markdown",
      "source": [
        "Ứng dụng minh họa: Vẽ ngẫu nhiên Eclipse"
      ],
      "metadata": {
        "id": "V-BmWX7UTVfg"
      }
    },
    {
      "cell_type": "code",
      "source": [
        "import matplotlib.pyplot as plt\n",
        "import numpy.random as rnd\n",
        "from matplotlib.patches import Ellipse\n",
        "\n",
        "NUM = 250\n",
        "\n",
        "ells = [Ellipse(xy=rnd.rand(2)*10, width=rnd.rand(),\n",
        "                height=rnd.rand(), angle=rnd.rand()*360)\n",
        "        for i in range(NUM)]\n",
        "\n",
        "fig = plt.figure(0)\n",
        "ax = fig.add_subplot(111, aspect='equal')\n",
        "for e in ells:\n",
        "  ax.add_artist(e)\n",
        "  e.set_clip_box(ax.bbox)\n",
        "  e.set_alpha(rnd.rand())\n",
        "  e.set_facecolor(rnd.rand(3))\n",
        "\n",
        "ax.set_xlim(0,10)\n",
        "ax.set_ylim(0,10)\n",
        "\n",
        "plt.show()"
      ],
      "metadata": {
        "id": "pVlxbGYBP_RD",
        "colab": {
          "base_uri": "https://localhost:8080/",
          "height": 269
        },
        "outputId": "860b8216-534f-416c-e7ad-d545369f1e3e"
      },
      "execution_count": 32,
      "outputs": [
        {
          "output_type": "display_data",
          "data": {
            "text/plain": [
              "<Figure size 432x288 with 1 Axes>"
            ],
            "image/png": "[encoded data removed]"
          },
          "metadata": {
            "needs_background": "light"
          }
        }
      ]
    },
    {
      "cell_type": "code",
      "source": [
        "import matplotlib.pyplot as plt\n",
        "import numpy.random as rnd\n",
        "from matplotlib.patches import Ellipse\n",
        "\n",
        "NUM = 250\n",
        "\n",
        "ells = [Ellipse(xy=rnd.rand(2)*10, width=rnd.rand(),\n",
        "                height=rnd.rand(), angle=rnd.rand()*360)\n",
        "        for i in range(NUM)]\n",
        "\n",
        "fig = plt.figure(0)\n",
        "ax = fig.add_subplot(111, aspect='equal')\n",
        "for e in ells:\n",
        "  ax.add_artist(e)\n",
        "  e.set_clip_box(ax.bbox)\n",
        "  e.set_alpha(rnd.rand())\n",
        "  e.set_facecolor(rnd.rand(3))\n",
        "\n",
        "ax.set_xlim(0,10)\n",
        "ax.set_ylim(0,10)\n",
        "\n",
        "plt.show()"
      ],
      "metadata": {
        "colab": {
          "base_uri": "https://localhost:8080/",
          "height": 269
        },
        "id": "YmfZEejyX0GX",
        "outputId": "014628b1-0097-42bf-cc71-449fc0277c96"
      },
      "execution_count": 47,
      "outputs": [
        {
          "output_type": "display_data",
          "data": {
            "text/plain": [
              "<Figure size 432x288 with 1 Axes>"
            ],
            "image/png": "[encoded data removed]"
          },
          "metadata": {
            "needs_background": "light"
          }
        }
      ]
    },
    {
      "cell_type": "markdown",
      "source": [
        "Bài toán ứng dụng 1: Giới thiệu Roullete Wheel – “Chiếc nón kì diệu” "
      ],
      "metadata": {
        "id": "Tube1h7_TaSy"
      }
    },
    {
      "cell_type": "code",
      "source": [
        "from __future__ import division\n",
        "import numpy as np \n",
        "import random,pdb\n",
        "import operator\n",
        "\n",
        "def roulette_selection(weights):\n",
        "\n",
        "  sorted_indexed_weights = sorted(enumerate(weights), key=operator.itemgetter(1));\n",
        "  indices, sorted_weights = zip(*sorted_indexed_weights);\n",
        "\n",
        "  tot_sum = sum(sorted_weights)\n",
        "  prob = [x/tot_sum for x in sorted_weights]\n",
        "  cum_prob = np.cumsum(prob)\n",
        "\n",
        "  random_num = random.random()\n",
        "\n",
        "  for index_value, cum_prob_value in zip(indices,cum_prob):\n",
        "    if random_num < cum_prob_value:\n",
        "      return index_value"
      ],
      "metadata": {
        "id": "y3Lqouu-Tydz"
      },
      "execution_count": 41,
      "outputs": []
    },
    {
      "cell_type": "code",
      "source": [
        "xanhdo =[87, 3, 20]\n",
        "for i in range(20): \n",
        "  print (roulette_selection(xanhdo))"
      ],
      "metadata": {
        "colab": {
          "base_uri": "https://localhost:8080/"
        },
        "id": "g8YFDK0SWfKW",
        "outputId": "63c530ca-bf0a-4ce8-eb6e-23b6e4a139a0"
      },
      "execution_count": 40,
      "outputs": [
        {
          "output_type": "stream",
          "name": "stdout",
          "text": [
            "2\n",
            "0\n",
            "0\n",
            "0\n",
            "2\n",
            "0\n",
            "0\n",
            "0\n",
            "0\n",
            "0\n",
            "0\n",
            "2\n",
            "0\n",
            "0\n",
            "0\n",
            "0\n",
            "0\n",
            "2\n",
            "0\n",
            "0\n"
          ]
        }
      ]
    },
    {
      "cell_type": "code",
      "source": [
        "xanhdo =[27, 3, 30]\n",
        "for i in range(20): \n",
        "  print (roulette_selection(xanhdo))"
      ],
      "metadata": {
        "colab": {
          "base_uri": "https://localhost:8080/"
        },
        "id": "Me7crjOBWaUW",
        "outputId": "2538648c-bf74-425f-b0c8-ff90740788b3"
      },
      "execution_count": 39,
      "outputs": [
        {
          "output_type": "stream",
          "name": "stdout",
          "text": [
            "2\n",
            "2\n",
            "0\n",
            "0\n",
            "2\n",
            "0\n",
            "2\n",
            "0\n",
            "0\n",
            "2\n",
            "0\n",
            "2\n",
            "1\n",
            "0\n",
            "2\n",
            "0\n",
            "0\n",
            "2\n",
            "0\n",
            "0\n"
          ]
        }
      ]
    },
    {
      "cell_type": "markdown",
      "source": [
        "Bài toán ứng dụng 2: Chọn tập các camera quan sát hội chợ"
      ],
      "metadata": {
        "id": "recOWY23Woww"
      }
    },
    {
      "cell_type": "code",
      "source": [
        "def difference(A, B): \n",
        "  phantu_moi = 0\n",
        "  for x in A: \n",
        "    if x not in B: \n",
        "      phantu_moi = phantu_moi + 1 \n",
        "  return phantu_moi\n",
        "def add(A,B): \n",
        "  ketqua = B \n",
        "  for x in A: \n",
        "    if x not in B: \n",
        "      ketqua = ketqua + [x] \n",
        "  return ketqua \n",
        "I = [1, 3, 4, 6, 7] \n",
        "II = [4, 7, 8, 12] \n",
        "III = [2, 5, 9, 11, 13] \n",
        "IV = [1, 2, 18, 19, 21] \n",
        "V = [3, 6, 10, 12, 14] \n",
        "VI = [8, 14, 15, 16, 17] \n",
        "VII = [18, 21, 24, 25] \n",
        "VIII = [2, 10, 16, 23] \n",
        "IX = [1, 6, 11] \n",
        "X = [20, 22, 24, 25] \n",
        "XI = [2, 4, 6, 8] \n",
        "XII =[1, 6, 12, 17]\n",
        "cameras = [I, II, III, IV, V, VI, VII, VIII, IX, X, XI, XII] \n",
        "khuvuc = range(1,26)\n",
        "tapphu = []\n",
        "while len(tapphu)<len(khuvuc): \n",
        "  max_new_cameras = 0 \n",
        "  for camera in cameras: \n",
        "    max_new_cameras = max(difference(camera, tapphu), max_new_cameras) \n",
        "  luachon = 0 \n",
        "  while difference(cameras[luachon], tapphu) < max_new_cameras: \n",
        "    luachon = luachon +1\n",
        "  if (luachon < len(cameras)): \n",
        "    tapphu = add(cameras[luachon], tapphu) \n",
        "    print ('Camera: ', luachon+1, cameras[luachon], tapphu) "
      ],
      "metadata": {
        "colab": {
          "base_uri": "https://localhost:8080/"
        },
        "id": "qmsEinX6WmqD",
        "outputId": "84e05895-f170-4965-b9ed-f0b1a79779f4"
      },
      "execution_count": 46,
      "outputs": [
        {
          "output_type": "stream",
          "name": "stdout",
          "text": [
            "Camera:  1 [1, 3, 4, 6, 7] [1, 3, 4, 6, 7]\n",
            "Camera:  3 [2, 5, 9, 11, 13] [1, 3, 4, 6, 7, 2, 5, 9, 11, 13]\n",
            "Camera:  6 [8, 14, 15, 16, 17] [1, 3, 4, 6, 7, 2, 5, 9, 11, 13, 8, 14, 15, 16, 17]\n",
            "Camera:  7 [18, 21, 24, 25] [1, 3, 4, 6, 7, 2, 5, 9, 11, 13, 8, 14, 15, 16, 17, 18, 21, 24, 25]\n",
            "Camera:  5 [3, 6, 10, 12, 14] [1, 3, 4, 6, 7, 2, 5, 9, 11, 13, 8, 14, 15, 16, 17, 18, 21, 24, 25, 10, 12]\n",
            "Camera:  10 [20, 22, 24, 25] [1, 3, 4, 6, 7, 2, 5, 9, 11, 13, 8, 14, 15, 16, 17, 18, 21, 24, 25, 10, 12, 20, 22]\n",
            "Camera:  4 [1, 2, 18, 19, 21] [1, 3, 4, 6, 7, 2, 5, 9, 11, 13, 8, 14, 15, 16, 17, 18, 21, 24, 25, 10, 12, 20, 22, 19]\n",
            "Camera:  8 [2, 10, 16, 23] [1, 3, 4, 6, 7, 2, 5, 9, 11, 13, 8, 14, 15, 16, 17, 18, 21, 24, 25, 10, 12, 20, 22, 19, 23]\n"
          ]
        }
      ]
    },
    {
      "cell_type": "code",
      "source": [
        "tapphu.sort() \n",
        "print (tapphu) "
      ],
      "metadata": {
        "colab": {
          "base_uri": "https://localhost:8080/"
        },
        "id": "_nqU9goVXWJb",
        "outputId": "ea7b7434-676b-49b8-9acc-2e48af8bd46b"
      },
      "execution_count": 45,
      "outputs": [
        {
          "output_type": "stream",
          "name": "stdout",
          "text": [
            "[1, 2, 3, 4, 5, 6, 7, 8, 9, 10, 11, 12, 13, 14, 15, 16, 17, 18, 19, 20, 21, 22, 23, 24, 25]\n"
          ]
        }
      ]
    }
  ]
}