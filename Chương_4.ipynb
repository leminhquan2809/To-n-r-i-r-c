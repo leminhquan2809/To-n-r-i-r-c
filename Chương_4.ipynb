{
  "nbformat": 4,
  "nbformat_minor": 0,
  "metadata": {
    "colab": {
      "name": "Chương 4.ipynb",
      "provenance": [],
      "collapsed_sections": [],
      "authorship_tag": "ABX9TyNZNwu2cictYXrxiEMcH20y",
      "include_colab_link": true
    },
    "kernelspec": {
      "name": "python3",
      "display_name": "Python 3"
    },
    "language_info": {
      "name": "python"
    }
  },
  "cells": [
    {
      "cell_type": "markdown",
      "metadata": {
        "id": "view-in-github",
        "colab_type": "text"
      },
      "source": [
        "<a href=\"https://colab.research.google.com/github/leminhquan2809/ToanRoiRac/blob/main/Ch%C6%B0%C6%A1ng_4.ipynb\" target=\"_parent\"><img src=\"https://colab.research.google.com/assets/colab-badge.svg\" alt=\"Open In Colab\"/></a>"
      ]
    },
    {
      "cell_type": "markdown",
      "source": [
        "# Sử dụng thư viện itertools với các phép toán hỗ trợ xử lý về tổ hợp"
      ],
      "metadata": {
        "id": "nfIv63t0Np-3"
      }
    },
    {
      "cell_type": "code",
      "execution_count": 3,
      "metadata": {
        "colab": {
          "base_uri": "https://localhost:8080/"
        },
        "id": "13WTgp3xNfpk",
        "outputId": "1f17cae9-5e0c-4034-bc44-0afc0449b28e"
      },
      "outputs": [
        {
          "output_type": "stream",
          "name": "stdout",
          "text": [
            "1\n",
            "3\n",
            "6\n",
            "10\n",
            "15\n",
            "21\n",
            "28\n",
            "36\n",
            "45\n",
            "55\n"
          ]
        }
      ],
      "source": [
        "import itertools\n",
        "for i in itertools.accumulate([1,2,3,4,5,6,7,8,9,10]): \n",
        "  print(i)"
      ]
    },
    {
      "cell_type": "code",
      "source": [
        "for i in itertools.repeat('Red', 3): \n",
        "  print (i) "
      ],
      "metadata": {
        "id": "cpgD0r2kNy-X"
      },
      "execution_count": null,
      "outputs": []
    },
    {
      "cell_type": "code",
      "source": [
        "for i in ((i,j) for i in [1,2]for j in [6,7,8,9]):\n",
        "  print(i)"
      ],
      "metadata": {
        "id": "8Fxx0S06N3rP"
      },
      "execution_count": null,
      "outputs": []
    },
    {
      "cell_type": "code",
      "source": [
        "import itertools\n",
        "for i in intertools.product([1,2],[6,7,8,9]):\n",
        "  print(i)"
      ],
      "metadata": {
        "id": "8o5yzHkiOFuG"
      },
      "execution_count": null,
      "outputs": []
    },
    {
      "cell_type": "code",
      "source": [
        "for i in itertools.product('AB', 'C', 'DEF'): \n",
        "  print(i) "
      ],
      "metadata": {
        "id": "cdhGRIsmORsx"
      },
      "execution_count": null,
      "outputs": []
    },
    {
      "cell_type": "code",
      "source": [
        "for i in itertools.product('24', 'IT', repeat = 2): \n",
        "  print (i)"
      ],
      "metadata": {
        "id": "oHA2iW0EOVGU"
      },
      "execution_count": null,
      "outputs": []
    },
    {
      "cell_type": "code",
      "source": [
        "from intertools import permuttions\n",
        "for i in permutations('ABC'):\n",
        "  print(i)"
      ],
      "metadata": {
        "id": "lLJGSh-9OYc5"
      },
      "execution_count": null,
      "outputs": []
    },
    {
      "cell_type": "code",
      "source": [
        "from intertools import permutations\n",
        "for i in permutations('ABC',2):\n",
        "  print(i)"
      ],
      "metadata": {
        "id": "pgnrpVtaOw8b"
      },
      "execution_count": null,
      "outputs": []
    },
    {
      "cell_type": "code",
      "source": [
        "for i in intertools.combinations('ABCDE',3):\n",
        "  print(i)"
      ],
      "metadata": {
        "id": "oD-RuQNEO9RA"
      },
      "execution_count": null,
      "outputs": []
    },
    {
      "cell_type": "code",
      "source": [
        "import itertools \n",
        "nhaccu = 'Đàn Trống Sáo Bo'.split() \n",
        "chonmua2mon = list(itertools.combinations(nhaccu, 2)) \n",
        "chonmua2mon "
      ],
      "metadata": {
        "id": "MoYyzWCZO9Lz"
      },
      "execution_count": null,
      "outputs": []
    },
    {
      "cell_type": "code",
      "source": [
        "for i in itertools.combinations_with_replacement('ABCDE', 3): \n",
        "  print (i) "
      ],
      "metadata": {
        "id": "wKmT8tPvPM55"
      },
      "execution_count": null,
      "outputs": []
    },
    {
      "cell_type": "markdown",
      "source": [
        "# Ôn luyện cơ bản về Python: Hàm ngẫu nhiên toán học và lặp trong Python"
      ],
      "metadata": {
        "id": "XGUfI9_vPPP4"
      }
    },
    {
      "cell_type": "markdown",
      "source": [
        "Cơ bản về hàm ngẫu nhiên trong Python"
      ],
      "metadata": {
        "id": "nUFFFHpyPSf7"
      }
    },
    {
      "cell_type": "code",
      "source": [
        "import random \n",
        "random.choice(['Táo', 'Lê', 'Ổi', 'Chuối'])"
      ],
      "metadata": {
        "id": "G33NhkE0POQL"
      },
      "execution_count": null,
      "outputs": []
    },
    {
      "cell_type": "code",
      "source": [
        "random.random()"
      ],
      "metadata": {
        "id": "DIXYQoTrPYSH"
      },
      "execution_count": null,
      "outputs": []
    },
    {
      "cell_type": "code",
      "source": [
        "random. uniform(4.9, 10.0)"
      ],
      "metadata": {
        "id": "5UPFJfkqPcIm"
      },
      "execution_count": null,
      "outputs": []
    },
    {
      "cell_type": "code",
      "source": [
        "random.randrange(6) "
      ],
      "metadata": {
        "id": "QyXQRm7yPerb"
      },
      "execution_count": null,
      "outputs": []
    },
    {
      "cell_type": "code",
      "source": [
        "random.randrange(50, 500)"
      ],
      "metadata": {
        "id": "gFD4GO5uPhmS"
      },
      "execution_count": null,
      "outputs": []
    },
    {
      "cell_type": "code",
      "source": [
        "random.randrange(20, 100, 2)"
      ],
      "metadata": {
        "id": "QHZPEgy7PjwH"
      },
      "execution_count": null,
      "outputs": []
    },
    {
      "cell_type": "code",
      "source": [
        "random.sample(range(100), 10"
      ],
      "metadata": {
        "id": "4UBBUF-TPl2t"
      },
      "execution_count": null,
      "outputs": []
    },
    {
      "cell_type": "code",
      "source": [
        "random.sample(range(10, 100), 15)"
      ],
      "metadata": {
        "id": "f0C45zedPp4B"
      },
      "execution_count": null,
      "outputs": []
    },
    {
      "cell_type": "code",
      "source": [
        "chars = ['a', 'b', 'c', 'd', 'e', 'f', 'g', 'h', 'i', 'j'] \n",
        "rand5_char = random.sample(chars, 5) \n",
        "print (rand5_char) "
      ],
      "metadata": {
        "id": "2hbrIsRNPt_p"
      },
      "execution_count": null,
      "outputs": []
    },
    {
      "cell_type": "code",
      "source": [
        "import matplotlib.pyplot as plt\n",
        "import numpy.random as rnd\n",
        "from matplotlib.patches import Ellipse\n",
        "\n",
        "NUM = 250\n",
        "\n",
        "ells = [Ellipse(xy=rnd.rand(2)*10, width=rnd.rand(),\n",
        "                height=rnd.rand(),angle=rnd.rand(*360)\n",
        "                for i in range(NUM)]\n",
        "\n",
        "fig = plt.figure(0)\n",
        "ax = fig.add_subplot(111, aspect='equal')\n",
        "for e in ells:\n",
        "  ax.add_artist(e)\n",
        "  e.set_clip_box(ax.bbox)\n",
        "  e.set_alpha(rnd.rand())\n",
        "  e.set_facecolor(rnd.rand(3))\n",
        "\n",
        "ax.set_xlim(0,10)\n",
        "ax.set_ylim(0,10)\n",
        "\n",
        "plt.show()"
      ],
      "metadata": {
        "id": "pVlxbGYBP_RD"
      },
      "execution_count": null,
      "outputs": []
    }
  ]
}