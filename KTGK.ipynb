{
  "nbformat": 4,
  "nbformat_minor": 0,
  "metadata": {
    "colab": {
      "name": "KTGK.ipynb",
      "provenance": [],
      "collapsed_sections": [],
      "authorship_tag": "ABX9TyORLWub3tNkEYQn3jHGDLPm",
      "include_colab_link": true
    },
    "kernelspec": {
      "name": "python3",
      "display_name": "Python 3"
    },
    "language_info": {
      "name": "python"
    }
  },
  "cells": [
    {
      "cell_type": "markdown",
      "metadata": {
        "id": "view-in-github",
        "colab_type": "text"
      },
      "source": [
        "<a href=\"https://colab.research.google.com/github/leminhquan2809/ToanRoiRac/blob/main/KTGK.ipynb\" target=\"_parent\"><img src=\"https://colab.research.google.com/assets/colab-badge.svg\" alt=\"Open In Colab\"/></a>"
      ]
    },
    {
      "cell_type": "markdown",
      "source": [
        "# Lê Minh Quân - 2174802010835 "
      ],
      "metadata": {
        "id": "LiGD7abse0Oa"
      }
    },
    {
      "cell_type": "markdown",
      "source": [
        "# Bài 1 "
      ],
      "metadata": {
        "id": "yFUKs4U9XDnG"
      }
    },
    {
      "cell_type": "code",
      "execution_count": 6,
      "metadata": {
        "id": "i9PWiqyXQ_ua"
      },
      "outputs": [],
      "source": [
        "import math\n",
        "import sys\n",
        "class Graph():\n",
        "  def __init__(cung, dinh):\n",
        "    cung.x = dinh\n",
        "    cung.graph = [[0 for column in range(dinh)] \n",
        "                  for row in range(dinh)]\n",
        "  def inketqua(cung, L, a):\n",
        "    print (\"Đỉnh nguồn xuất phát từ:\")\n",
        "    for nut in range(cung.x):\n",
        "      print (a,\"đến đỉnh\",nut,\"độ dài đường đi là:\", L[nut])\n",
        "  def duongdinhonhat(cung, L, P):\n",
        "    min = sys.maxsize\n",
        "    for x in range(cung.x):\n",
        "      if L[x] < min and P[x] == False:\n",
        "        min = L[x]\n",
        "        min_index = x\n",
        "    return min_index\n",
        "  def timduongdi(cung, a):\n",
        "    L = [sys.maxsize] * cung.x\n",
        "    L[a] = 0\n",
        "    P = [False] * cung.x\n",
        "    for cout in range(cung.x):\n",
        "      u = cung.duongdinhonhat(L, P)\n",
        "      P[u] = True\n",
        "      for x in range(cung.x):\n",
        "        if cung.graph[u][x] > 0 and P[x] == False and L[x] > L[u] + cung.graph[u][x]:\n",
        "          L[x] = L[u] + cung.graph[u][x]\n",
        "    cung.inketqua(L, a)\n",
        "  \n",
        "g = Graph(6)"
      ]
    },
    {
      "cell_type": "code",
      "source": [
        "g.graph = [[0,11,4,0,0,0],\n",
        "           [0,0,5,0,5,0],\n",
        "           [0,0,0,16,0,0],\n",
        "           [0,0,0,0,0,8],\n",
        "           [0,0,0,6,0,16],\n",
        "           [0,0,0,0,0,0]\n",
        " ]\n",
        "g.timduongdi(0)"
      ],
      "metadata": {
        "colab": {
          "base_uri": "https://localhost:8080/"
        },
        "id": "SupBYYHtR9BB",
        "outputId": "b05cf83f-4f02-453f-bed7-3eeeb1af6a59"
      },
      "execution_count": 11,
      "outputs": [
        {
          "output_type": "stream",
          "name": "stdout",
          "text": [
            "Đỉnh nguồn xuất phát từ:\n",
            "0 đến đỉnh 0 độ dài đường đi là: 0\n",
            "0 đến đỉnh 1 độ dài đường đi là: 11\n",
            "0 đến đỉnh 2 độ dài đường đi là: 4\n",
            "0 đến đỉnh 3 độ dài đường đi là: 20\n",
            "0 đến đỉnh 4 độ dài đường đi là: 16\n",
            "0 đến đỉnh 5 độ dài đường đi là: 28\n"
          ]
        }
      ]
    },
    {
      "cell_type": "markdown",
      "source": [
        "INPUT:\n",
        "Dữ liệu nhập vào các đỉnh với các giá trị lần lượt của các đỉnh từ A đến F:\n",
        "\n",
        "Đỉnh A: [0,11,4,0,0,0]\n",
        "\n",
        "Đỉnh B: [0,0,5,0,5,0]\n",
        "\n",
        "Đỉnh C: [0,0,016,9,0]\n",
        "\n",
        "Đỉnh D: [0,0,0,0,0,8]\n",
        "\n",
        "Đỉnh E: [0,0,0,6,0,16]\n",
        "\n",
        "Đỉnh F: [0,0,0,0,0,0]\n",
        "\n",
        "OUTPUT: \n",
        "Trả về kết quả đường đi ngắn nhất từ đỉnh 0 đến các đỉnh:\n",
        "\n",
        "0  đến đỉnh  0 độ dài đường đi là:  0\n",
        "\n",
        "0  đến đỉnh  1 độ dài đường đi là:  11\n",
        "\n",
        "0  đến đỉnh  2 độ dài đường đi là:  4\n",
        "\n",
        "0  đến đỉnh  3 độ dài đường đi là:  20\n",
        "\n",
        "0  đến đỉnh  4 độ dài đường đi là:  16\n",
        "\n",
        "0  đến đỉnh  5 độ dài đường đi là:  28\n",
        "\n",
        "KẾT LUẬN:   \n",
        "Đây là đồ thị có hướng, gồm 6 đỉnh\n",
        "\n",
        "L(z) = 27 là độ dài đường đi ngắn nhất từ a đến z.\n",
        "\n",
        "Vậy đường đi ngắn nhất là: A → C → E → D → F."
      ],
      "metadata": {
        "id": "mX5tOoazWok6"
      }
    },
    {
      "cell_type": "markdown",
      "source": [
        "# Bài 2 "
      ],
      "metadata": {
        "id": "f1JxwQ3kYcG_"
      }
    },
    {
      "cell_type": "code",
      "source": [
        "import math\n",
        "import sys\n",
        "class Graph():\n",
        "  def __init__(cung, dinh):\n",
        "    cung.x = dinh\n",
        "    cung.graph = [[0 for column in range(dinh)] \n",
        "                  for row in range(dinh)]\n",
        "  def inketqua(cung, L, a):\n",
        "    print (\"Đỉnh nguồn xuất phát từ:\")\n",
        "    for nut in range(cung.x):\n",
        "      print (a,\"đến đỉnh\",nut,\"độ dài đường đi là:\", L[nut])\n",
        "  def duongdinhonhat(cung, L, P):\n",
        "    min = sys.maxsize\n",
        "    for x in range(cung.x):\n",
        "      if L[x] < min and P[x] == False:\n",
        "        min = L[x]\n",
        "        min_index = x\n",
        "    return min_index\n",
        "  def timduongdi(cung, a):\n",
        "    L = [sys.maxsize] * cung.x\n",
        "    L[a] = 0\n",
        "    P = [False] * cung.x\n",
        "    for cout in range(cung.x):\n",
        "      u = cung.duongdinhonhat(L, P)\n",
        "      P[u] = True\n",
        "      for x in range(cung.x):\n",
        "        if cung.graph[u][x] > 0 and P[x] == False and L[x] > L[u] + cung.graph[u][x]:\n",
        "          L[x] = L[u] + cung.graph[u][x]\n",
        "    cung.inketqua(L, a)\n",
        "  \n",
        "g = Graph(8)"
      ],
      "metadata": {
        "id": "-Oh5zlP5Yeos"
      },
      "execution_count": 12,
      "outputs": []
    },
    {
      "cell_type": "code",
      "source": [
        "g.graph =[[0,6,0,5,0,0,0,0],\n",
        " [6,0,7,0,0,0,15,0],\n",
        " [0,7,0,11,0,1,0,0],\n",
        " [5,0,11,0,11,9,0,0],\n",
        " [0,0,0,11,0,3,0,14],\n",
        " [0,0,1,9,3,0,3,0],\n",
        " [0,15,0,0,0,3,0,7],\n",
        " [0,0,0,0,14,0,7,0],\n",
        " ];\n",
        "g.timduongdi(0);"
      ],
      "metadata": {
        "colab": {
          "base_uri": "https://localhost:8080/"
        },
        "id": "AekoCM4rYhDf",
        "outputId": "5bac521b-d0e9-4b20-9b41-de2e4436dc46"
      },
      "execution_count": 13,
      "outputs": [
        {
          "output_type": "stream",
          "name": "stdout",
          "text": [
            "Đỉnh nguồn xuất phát từ:\n",
            "0 đến đỉnh 0 độ dài đường đi là: 0\n",
            "0 đến đỉnh 1 độ dài đường đi là: 6\n",
            "0 đến đỉnh 2 độ dài đường đi là: 13\n",
            "0 đến đỉnh 3 độ dài đường đi là: 5\n",
            "0 đến đỉnh 4 độ dài đường đi là: 16\n",
            "0 đến đỉnh 5 độ dài đường đi là: 14\n",
            "0 đến đỉnh 6 độ dài đường đi là: 17\n",
            "0 đến đỉnh 7 độ dài đường đi là: 24\n"
          ]
        }
      ]
    },
    {
      "cell_type": "markdown",
      "source": [
        "INPUT: Dữ liệu nhập vào các đỉnh với các giá trị lần lượt của các đỉnh từ 1 đến 8\n",
        "\n",
        "Đỉnh 1:[0,6,0,5,0,0,0,0]\n",
        "\n",
        "Đỉnh 2:[6,0,7,0,0,0,15,0]\n",
        "\n",
        "Đỉnh 3:[0,7,0,11,0,1,0,0]\n",
        "\n",
        "Đỉnh 4:[5,0,11,0,11,9,0,0]\n",
        "\n",
        "Đỉnh 5:[0,0,0,11,0,3,0,14]\n",
        "\n",
        "Đỉnh 6: [0,0,1,9,3,0,3,0]\n",
        "\n",
        "Đỉnh 7:[0,0,1,9,3,0,3,0]\n",
        "\n",
        "Đỉnh 8:[0,0,0,0,14,0,7,0]\n",
        "\n",
        "OUTPUT:\n",
        "Trả về kết quả đường đi ngắn nhất từ đỉnh 0 đến các đỉnh:\n",
        "\n",
        "1  đến đỉnh  2 độ dài đường đi là:  6\n",
        "\n",
        "1  đến đỉnh  3 độ dài đường đi là:  13\n",
        "\n",
        "1  đến đỉnh  4 độ dài đường đi là:  5\n",
        "\n",
        "1  đến đỉnh  5 độ dài đường đi là:  16\n",
        "\n",
        "1  đến đỉnh  6 độ dài đường đi là:  14\n",
        "\n",
        "1  đến đỉnh  7 độ dài đường đi là:  17\n",
        "\n",
        "1  đến đỉnh  8 độ dài đường đi là:  24\n",
        "\n",
        "KẾT LUẬN:\n",
        "\n",
        "Đây là đồ thị vô hướng, gồm 8 đỉnh\n",
        "\n",
        "L(z) = 24 là độ dài đường đi ngắn nhất từ 1 đến 8.\n",
        "\n",
        "Vậy đường đi ngắn nhất của đồ thị là đi từ đỉnh 1 → 4 → 6 → 7 → 8"
      ],
      "metadata": {
        "id": "Sba51afhaw-X"
      }
    }
  ]
}