{
  "nbformat": 4,
  "nbformat_minor": 0,
  "metadata": {
    "colab": {
      "name": "Chương 3.ipynb",
      "provenance": [],
      "collapsed_sections": [],
      "authorship_tag": "ABX9TyOlKuI0/aFtPdPKk0Mg4rql",
      "include_colab_link": true
    },
    "kernelspec": {
      "name": "python3",
      "display_name": "Python 3"
    },
    "language_info": {
      "name": "python"
    }
  },
  "cells": [
    {
      "cell_type": "markdown",
      "metadata": {
        "id": "view-in-github",
        "colab_type": "text"
      },
      "source": [
        "<a href=\"https://colab.research.google.com/github/leminhquan2809/ToanRoiRac/blob/main/Ch%C6%B0%C6%A1ng_3.ipynb\" target=\"_parent\"><img src=\"https://colab.research.google.com/assets/colab-badge.svg\" alt=\"Open In Colab\"/></a>"
      ]
    },
    {
      "cell_type": "markdown",
      "source": [
        "# Các nguyên lý: cộng, nhân. bù trừ\n"
      ],
      "metadata": {
        "id": "6ux7XWLsEgBA"
      }
    },
    {
      "cell_type": "markdown",
      "source": [
        "Các nguyên lý "
      ],
      "metadata": {
        "id": "4afNWZt0FTYu"
      }
    },
    {
      "cell_type": "code",
      "execution_count": 8,
      "metadata": {
        "colab": {
          "base_uri": "https://localhost:8080/"
        },
        "id": "JtzDS7SqEcC7",
        "outputId": "574a01ff-e234-4f72-88b1-2e298e5303da"
      },
      "outputs": [
        {
          "output_type": "stream",
          "name": "stdout",
          "text": [
            "Tên cầu thủ Việt Nam:  Văn Lâm\n",
            "Tên cầu thủ Việt Nam:  Tiến Dũng\n",
            "Tên cầu thủ Việt Nam:  Anh Đức\n",
            "Tên cầu thủ Việt Nam:  Công Phượng\n"
          ]
        }
      ],
      "source": [
        "bongda_VN = ['Văn Lâm', 'Tiến Dũng', 'Anh Đức', 'Công Phượng'] \n",
        "for cau_thu in bongda_VN: \n",
        "  print(\"Tên cầu thủ Việt Nam: \", cau_thu) "
      ]
    },
    {
      "cell_type": "code",
      "source": [
        "bongda_TG = ['Messi', 'Ronaldo', 'Thonglao', 'Mbappé'] \n",
        "for cau_thu in bongda_TG: \n",
        "  print(\"Tên cầu thủ thế giới: \", cau_thu) "
      ],
      "metadata": {
        "colab": {
          "base_uri": "https://localhost:8080/"
        },
        "id": "_Ix_e_OcE2Xh",
        "outputId": "e5e1875b-d49b-4b7f-da69-b5f7009df764"
      },
      "execution_count": 9,
      "outputs": [
        {
          "output_type": "stream",
          "name": "stdout",
          "text": [
            "Tên cầu thủ thế giới:  Messi\n",
            "Tên cầu thủ thế giới:  Ronaldo\n",
            "Tên cầu thủ thế giới:  Thonglao\n",
            "Tên cầu thủ thế giới:  Mbappé\n"
          ]
        }
      ]
    },
    {
      "cell_type": "code",
      "source": [
        "for bong_VN in bongda_VN: \n",
        "  for bong_TG in bongda_TG:\n",
        "    print (\"Khả năng tranh chấp quả bóng vàng giữa: \", bong_VN, \" với \", bong_TG)"
      ],
      "metadata": {
        "colab": {
          "base_uri": "https://localhost:8080/"
        },
        "id": "TMKIetacFW2Z",
        "outputId": "34a350e1-33b2-43d9-98d4-ad6caf6f1d9a"
      },
      "execution_count": 10,
      "outputs": [
        {
          "output_type": "stream",
          "name": "stdout",
          "text": [
            "Khả năng tranh chấp quả bóng vàng giữa:  Văn Lâm  với  Messi\n",
            "Khả năng tranh chấp quả bóng vàng giữa:  Văn Lâm  với  Ronaldo\n",
            "Khả năng tranh chấp quả bóng vàng giữa:  Văn Lâm  với  Thonglao\n",
            "Khả năng tranh chấp quả bóng vàng giữa:  Văn Lâm  với  Mbappé\n",
            "Khả năng tranh chấp quả bóng vàng giữa:  Tiến Dũng  với  Messi\n",
            "Khả năng tranh chấp quả bóng vàng giữa:  Tiến Dũng  với  Ronaldo\n",
            "Khả năng tranh chấp quả bóng vàng giữa:  Tiến Dũng  với  Thonglao\n",
            "Khả năng tranh chấp quả bóng vàng giữa:  Tiến Dũng  với  Mbappé\n",
            "Khả năng tranh chấp quả bóng vàng giữa:  Anh Đức  với  Messi\n",
            "Khả năng tranh chấp quả bóng vàng giữa:  Anh Đức  với  Ronaldo\n",
            "Khả năng tranh chấp quả bóng vàng giữa:  Anh Đức  với  Thonglao\n",
            "Khả năng tranh chấp quả bóng vàng giữa:  Anh Đức  với  Mbappé\n",
            "Khả năng tranh chấp quả bóng vàng giữa:  Công Phượng  với  Messi\n",
            "Khả năng tranh chấp quả bóng vàng giữa:  Công Phượng  với  Ronaldo\n",
            "Khả năng tranh chấp quả bóng vàng giữa:  Công Phượng  với  Thonglao\n",
            "Khả năng tranh chấp quả bóng vàng giữa:  Công Phượng  với  Mbappé\n"
          ]
        }
      ]
    },
    {
      "cell_type": "code",
      "source": [
        "N = 4 \n",
        "for i1 in range(0, N): \n",
        "  for i2 in range(0, N): \n",
        "    for i3 in range(0, N): \n",
        "      print (i1, i2, i3)"
      ],
      "metadata": {
        "colab": {
          "base_uri": "https://localhost:8080/"
        },
        "id": "fJaCoelrFaDw",
        "outputId": "03f91a69-bca2-4ab0-e39a-5ab12f93e675"
      },
      "execution_count": 12,
      "outputs": [
        {
          "output_type": "stream",
          "name": "stdout",
          "text": [
            "0 0 0\n",
            "0 0 1\n",
            "0 0 2\n",
            "0 0 3\n",
            "0 1 0\n",
            "0 1 1\n",
            "0 1 2\n",
            "0 1 3\n",
            "0 2 0\n",
            "0 2 1\n",
            "0 2 2\n",
            "0 2 3\n",
            "0 3 0\n",
            "0 3 1\n",
            "0 3 2\n",
            "0 3 3\n",
            "1 0 0\n",
            "1 0 1\n",
            "1 0 2\n",
            "1 0 3\n",
            "1 1 0\n",
            "1 1 1\n",
            "1 1 2\n",
            "1 1 3\n",
            "1 2 0\n",
            "1 2 1\n",
            "1 2 2\n",
            "1 2 3\n",
            "1 3 0\n",
            "1 3 1\n",
            "1 3 2\n",
            "1 3 3\n",
            "2 0 0\n",
            "2 0 1\n",
            "2 0 2\n",
            "2 0 3\n",
            "2 1 0\n",
            "2 1 1\n",
            "2 1 2\n",
            "2 1 3\n",
            "2 2 0\n",
            "2 2 1\n",
            "2 2 2\n",
            "2 2 3\n",
            "2 3 0\n",
            "2 3 1\n",
            "2 3 2\n",
            "2 3 3\n",
            "3 0 0\n",
            "3 0 1\n",
            "3 0 2\n",
            "3 0 3\n",
            "3 1 0\n",
            "3 1 1\n",
            "3 1 2\n",
            "3 1 3\n",
            "3 2 0\n",
            "3 2 1\n",
            "3 2 2\n",
            "3 2 3\n",
            "3 3 0\n",
            "3 3 1\n",
            "3 3 2\n",
            "3 3 3\n"
          ]
        }
      ]
    },
    {
      "cell_type": "code",
      "source": [
        "for i1 in range(0, N): \n",
        "  for i2 in range(0, N): \n",
        "    for i3 in range(0, N): \n",
        "      if i1 != i2 and i2 != i3 and i1 != i3: \n",
        "        print (i1, i2, i3)"
      ],
      "metadata": {
        "colab": {
          "base_uri": "https://localhost:8080/"
        },
        "id": "8PXQY3tlFZx8",
        "outputId": "687a938d-45df-45bc-e988-d28b82ab13ac"
      },
      "execution_count": 13,
      "outputs": [
        {
          "output_type": "stream",
          "name": "stdout",
          "text": [
            "0 1 2\n",
            "0 1 3\n",
            "0 2 1\n",
            "0 2 3\n",
            "0 3 1\n",
            "0 3 2\n",
            "1 0 2\n",
            "1 0 3\n",
            "1 2 0\n",
            "1 2 3\n",
            "1 3 0\n",
            "1 3 2\n",
            "2 0 1\n",
            "2 0 3\n",
            "2 1 0\n",
            "2 1 3\n",
            "2 3 0\n",
            "2 3 1\n",
            "3 0 1\n",
            "3 0 2\n",
            "3 1 0\n",
            "3 1 2\n",
            "3 2 0\n",
            "3 2 1\n"
          ]
        }
      ]
    },
    {
      "cell_type": "code",
      "source": [
        "for i1 in range(0, N): \n",
        "  for i2 in range(i1+1, N): \n",
        "    for i3 in range(i2+1, N): \n",
        "      print (i1, i2, i3) "
      ],
      "metadata": {
        "colab": {
          "base_uri": "https://localhost:8080/"
        },
        "id": "R9Z537gGFqyz",
        "outputId": "6217bb72-af6d-4406-a34e-fc15310ac4e4"
      },
      "execution_count": 14,
      "outputs": [
        {
          "output_type": "stream",
          "name": "stdout",
          "text": [
            "0 1 2\n",
            "0 1 3\n",
            "0 2 3\n",
            "1 2 3\n"
          ]
        }
      ]
    },
    {
      "cell_type": "code",
      "source": [
        "for i1 in range(0, N): \n",
        "  for i2 in range(i1, N): \n",
        "    for i3 in range(i2, N): \n",
        "      print (i1, i2, i3) "
      ],
      "metadata": {
        "colab": {
          "base_uri": "https://localhost:8080/"
        },
        "id": "2zo_luLLFu6X",
        "outputId": "3caa8a11-41e4-4647-cf33-de2b2029d7db"
      },
      "execution_count": 15,
      "outputs": [
        {
          "output_type": "stream",
          "name": "stdout",
          "text": [
            "0 0 0\n",
            "0 0 1\n",
            "0 0 2\n",
            "0 0 3\n",
            "0 1 1\n",
            "0 1 2\n",
            "0 1 3\n",
            "0 2 2\n",
            "0 2 3\n",
            "0 3 3\n",
            "1 1 1\n",
            "1 1 2\n",
            "1 1 3\n",
            "1 2 2\n",
            "1 2 3\n",
            "1 3 3\n",
            "2 2 2\n",
            "2 2 3\n",
            "2 3 3\n",
            "3 3 3\n"
          ]
        }
      ]
    },
    {
      "cell_type": "code",
      "source": [
        "print(bong_VN [i1], bong_VN [i2], bong_VN [i3])"
      ],
      "metadata": {
        "colab": {
          "base_uri": "https://localhost:8080/"
        },
        "id": "KWl_nBRwF5dv",
        "outputId": "de93f991-a6b9-4835-fb13-026f806a60c5"
      },
      "execution_count": 17,
      "outputs": [
        {
          "output_type": "stream",
          "name": "stdout",
          "text": [
            "g g g\n"
          ]
        }
      ]
    },
    {
      "cell_type": "code",
      "source": [
        "N = 3 \n",
        "ketqua = [] \n",
        "for i1 in range(0, N): \n",
        "  for i2 in range(i1, N): \n",
        "    for i3 in range(i2, N): \n",
        "      ketqua = ketqua + [(i1, i2, i3)]\n",
        "ketqua"
      ],
      "metadata": {
        "colab": {
          "base_uri": "https://localhost:8080/"
        },
        "id": "BzifAr55GD3g",
        "outputId": "2481d708-cf6a-4f2d-d2cc-c55e793a3401"
      },
      "execution_count": 19,
      "outputs": [
        {
          "output_type": "execute_result",
          "data": {
            "text/plain": [
              "[(0, 0, 0),\n",
              " (0, 0, 1),\n",
              " (0, 0, 2),\n",
              " (0, 1, 1),\n",
              " (0, 1, 2),\n",
              " (0, 2, 2),\n",
              " (1, 1, 1),\n",
              " (1, 1, 2),\n",
              " (1, 2, 2),\n",
              " (2, 2, 2)]"
            ]
          },
          "metadata": {},
          "execution_count": 19
        }
      ]
    },
    {
      "cell_type": "code",
      "source": [
        "ketqua[3] "
      ],
      "metadata": {
        "colab": {
          "base_uri": "https://localhost:8080/"
        },
        "id": "h4VthQ6eGLAZ",
        "outputId": "ae6b95ae-87b6-4060-b745-6ad461b0a5fa"
      },
      "execution_count": 20,
      "outputs": [
        {
          "output_type": "execute_result",
          "data": {
            "text/plain": [
              "(0, 1, 1)"
            ]
          },
          "metadata": {},
          "execution_count": 20
        }
      ]
    },
    {
      "cell_type": "markdown",
      "source": [
        "Thể hiện biểu thức luận lý bằng Python"
      ],
      "metadata": {
        "id": "R0AGKBqAGNS5"
      }
    },
    {
      "cell_type": "code",
      "source": [
        "def implies(a, b): \n",
        "  if a: \n",
        "    return b \n",
        "  else: \n",
        "    return True \n",
        "implies(10, 11) \n",
        "implies(1, 11) \n",
        "implies(0, 11)"
      ],
      "metadata": {
        "colab": {
          "base_uri": "https://localhost:8080/"
        },
        "id": "QCUEOakkGOtQ",
        "outputId": "45bac655-64a4-4e3a-ea8c-37b8f8f83123"
      },
      "execution_count": 21,
      "outputs": [
        {
          "output_type": "execute_result",
          "data": {
            "text/plain": [
              "True"
            ]
          },
          "metadata": {},
          "execution_count": 21
        }
      ]
    },
    {
      "cell_type": "code",
      "source": [
        "x, y = 2, 3 \n",
        "implies(x>=0 and y >=0, x*y >=0)"
      ],
      "metadata": {
        "colab": {
          "base_uri": "https://localhost:8080/"
        },
        "id": "8DucbBL4GV_b",
        "outputId": "6ad9045f-8a38-4ff4-f705-9aeacdaaab34"
      },
      "execution_count": 22,
      "outputs": [
        {
          "output_type": "execute_result",
          "data": {
            "text/plain": [
              "True"
            ]
          },
          "metadata": {},
          "execution_count": 22
        }
      ]
    },
    {
      "cell_type": "code",
      "source": [
        "x, y = 2, 3 \n",
        "implies(x>=0 and y >=0, x*y >=0)"
      ],
      "metadata": {
        "colab": {
          "base_uri": "https://localhost:8080/"
        },
        "id": "Opj5MMRjGYAl",
        "outputId": "78fe34ea-ba2c-4599-bc51-4a392c600f3a"
      },
      "execution_count": 24,
      "outputs": [
        {
          "output_type": "execute_result",
          "data": {
            "text/plain": [
              "True"
            ]
          },
          "metadata": {},
          "execution_count": 24
        }
      ]
    },
    {
      "cell_type": "markdown",
      "source": [
        "# Lý thuyết tập hợp với kiểu dữ liệu list trong Python "
      ],
      "metadata": {
        "id": "Q0QDamdeGcOF"
      }
    },
    {
      "cell_type": "code",
      "source": [
        "N = 3 \n",
        "ketqua = [] \n",
        "for i1 in range(0, N): \n",
        " for i2 in range(i1, N):\n",
        "   for i3 in range(i2, N): \n",
        "      ketqua = ketqua + [(i1, i2, i3)] \n",
        "(0, 2, 2) in ketqua"
      ],
      "metadata": {
        "colab": {
          "base_uri": "https://localhost:8080/"
        },
        "id": "a9ocKCb7GZ11",
        "outputId": "5692e18b-563f-487e-fafb-70bc003cb6c5"
      },
      "execution_count": 26,
      "outputs": [
        {
          "output_type": "execute_result",
          "data": {
            "text/plain": [
              "True"
            ]
          },
          "metadata": {},
          "execution_count": 26
        }
      ]
    },
    {
      "cell_type": "code",
      "source": [
        "(0, 2, 1) in ketqua"
      ],
      "metadata": {
        "colab": {
          "base_uri": "https://localhost:8080/"
        },
        "id": "gMj_9RgCGpdd",
        "outputId": "5b7894ec-82ff-421e-9601-bcf7e400c3ce"
      },
      "execution_count": 27,
      "outputs": [
        {
          "output_type": "execute_result",
          "data": {
            "text/plain": [
              "False"
            ]
          },
          "metadata": {},
          "execution_count": 27
        }
      ]
    },
    {
      "cell_type": "code",
      "source": [
        "A = [0, 1, 2, 3, 4, 5, 6, 7] \n",
        "B = [2, 4, 6, 8, 10] \n",
        "def intersection(A, B): \n",
        "  ketqua = [] \n",
        "  for x in A: \n",
        "    if x in B: \n",
        "      ketqua = ketqua + [x] \n",
        "  return ketqua\n",
        "intersection(A, B)"
      ],
      "metadata": {
        "colab": {
          "base_uri": "https://localhost:8080/"
        },
        "id": "qxojcpbcGsdG",
        "outputId": "0796c496-a16b-47f3-a654-4e473c2d76e5"
      },
      "execution_count": 30,
      "outputs": [
        {
          "output_type": "execute_result",
          "data": {
            "text/plain": [
              "[2, 4, 6]"
            ]
          },
          "metadata": {},
          "execution_count": 30
        }
      ]
    },
    {
      "cell_type": "code",
      "source": [
        "def difference(A, B): \n",
        "  ketqua = [] \n",
        "  for x in A: \n",
        "    if x not in B: \n",
        "      ketqua = ketqua + [x] \n",
        "  return ketqua\n",
        "A = [0, 1, 2, 3, 4, 5, 6, 7] \n",
        "B = [2, 4, 6, 8, 10] \n",
        "difference(A, B) "
      ],
      "metadata": {
        "colab": {
          "base_uri": "https://localhost:8080/"
        },
        "id": "XkVEXOUuG9X3",
        "outputId": "be302a55-8e01-4513-d5e1-ee06025a31b0"
      },
      "execution_count": 31,
      "outputs": [
        {
          "output_type": "execute_result",
          "data": {
            "text/plain": [
              "[0, 1, 3, 5, 7]"
            ]
          },
          "metadata": {},
          "execution_count": 31
        }
      ]
    },
    {
      "cell_type": "code",
      "source": [
        "def isSubSet(A, B): \n",
        "  ketqua = True \n",
        "  for x in A: \n",
        "    if x not in B: \n",
        "      ketqua = False\n",
        "  return ketqua \n",
        "A = [0, 1, 2, 3, 4, 5, 6, 7] \n",
        "B = [2, 4, 6, 8, 10] \n",
        "isSubSet(A, B)"
      ],
      "metadata": {
        "colab": {
          "base_uri": "https://localhost:8080/"
        },
        "id": "-DDS2wJ8HJw4",
        "outputId": "f338ab4e-ba6c-4459-d209-cdb97d6962c0"
      },
      "execution_count": 33,
      "outputs": [
        {
          "output_type": "execute_result",
          "data": {
            "text/plain": [
              "False"
            ]
          },
          "metadata": {},
          "execution_count": 33
        }
      ]
    },
    {
      "cell_type": "code",
      "source": [
        "B = [1, 3, 5, 7] \n",
        "isSubSet(A, B) "
      ],
      "metadata": {
        "colab": {
          "base_uri": "https://localhost:8080/"
        },
        "id": "km93ig2nHU3v",
        "outputId": "9ccac9f3-3dff-45da-ee09-582df533f0a4"
      },
      "execution_count": 34,
      "outputs": [
        {
          "output_type": "execute_result",
          "data": {
            "text/plain": [
              "False"
            ]
          },
          "metadata": {},
          "execution_count": 34
        }
      ]
    },
    {
      "cell_type": "code",
      "source": [
        "isSubSet(B, A) "
      ],
      "metadata": {
        "colab": {
          "base_uri": "https://localhost:8080/"
        },
        "id": "FoRlo1m6HXre",
        "outputId": "70e04594-3448-4e0f-bc65-db5285d41361"
      },
      "execution_count": 35,
      "outputs": [
        {
          "output_type": "execute_result",
          "data": {
            "text/plain": [
              "True"
            ]
          },
          "metadata": {},
          "execution_count": 35
        }
      ]
    },
    {
      "cell_type": "code",
      "source": [
        "def equalSets(A, B): \n",
        "  return isSubSet(A, B) and isSubSet(B, A) \n",
        "equalSets([1, 3, 5, 7], [7, 3, 1, 5]) "
      ],
      "metadata": {
        "colab": {
          "base_uri": "https://localhost:8080/"
        },
        "id": "vLHxGJLMHZRK",
        "outputId": "c1ece034-fc7d-4daa-9818-404b789f9736"
      },
      "execution_count": 36,
      "outputs": [
        {
          "output_type": "execute_result",
          "data": {
            "text/plain": [
              "True"
            ]
          },
          "metadata": {},
          "execution_count": 36
        }
      ]
    },
    {
      "cell_type": "markdown",
      "source": [
        "# Bài toán ứng dụng 1: Xây dựng danh sách tour địa điểm du lịch tại TP.HCM "
      ],
      "metadata": {
        "id": "GktE_sgVHcsJ"
      }
    },
    {
      "cell_type": "markdown",
      "source": [
        "Xây dựng dữ liệu đầu vào "
      ],
      "metadata": {
        "id": "6xlMvmBmHhi1"
      }
    },
    {
      "cell_type": "code",
      "source": [
        "sodiem_DL = 9 \n",
        "diadiem = ['Cần Giờ', 'Củ Chi', 'Chợ Bến Thành', 'Sở Thú', 'BV thẫm mỹ răng', 'Chí Hòa', \n",
        "'Dinh Độc lập', 'Bào tàng', 'Trường Văn Lang'] \n",
        "thoigian = [1.0, 1.0, 0.6, 0.4, 1.5, 0.3, 0.3, 0.3, 0.6] \n",
        "songay_dulich = 1.5"
      ],
      "metadata": {
        "id": "ZgfN2_TiHjAC"
      },
      "execution_count": 37,
      "outputs": []
    },
    {
      "cell_type": "markdown",
      "source": [
        " Phương pháp “vét cạn” tìm tất cả các giải pháp"
      ],
      "metadata": {
        "id": "hs5X4iBYHnkI"
      }
    },
    {
      "cell_type": "code",
      "source": [
        "def lietke_chuoinhiphan(n):\n",
        "  danh_sach = []\n",
        "  for i in range(0,2**n):\n",
        "    gia_tri = i\n",
        "    chuoi_np = bin(gia_tri).replace('0b','')\n",
        "    while(len(chuoi_np)<n):\n",
        "      chuoi_np = '0' + chuoi_np\n",
        "    danh_sach.append(chuoi_np)\n",
        "  return danh_sach\n",
        "bin(10)"
      ],
      "metadata": {
        "colab": {
          "base_uri": "https://localhost:8080/",
          "height": 36
        },
        "id": "yMW4zSYkHgLq",
        "outputId": "98e2a622-6ff8-488f-da52-da8a2cd6994d"
      },
      "execution_count": 38,
      "outputs": [
        {
          "output_type": "execute_result",
          "data": {
            "text/plain": [
              "'0b1010'"
            ],
            "application/vnd.google.colaboratory.intrinsic+json": {
              "type": "string"
            }
          },
          "metadata": {},
          "execution_count": 38
        }
      ]
    },
    {
      "cell_type": "code",
      "source": [
        "bin(10).replace('0b', '')"
      ],
      "metadata": {
        "colab": {
          "base_uri": "https://localhost:8080/",
          "height": 36
        },
        "id": "GRzUlrBXIW-k",
        "outputId": "856da946-0846-4aa1-8eb5-26c9ed26b85c"
      },
      "execution_count": 40,
      "outputs": [
        {
          "output_type": "execute_result",
          "data": {
            "text/plain": [
              "'1010'"
            ],
            "application/vnd.google.colaboratory.intrinsic+json": {
              "type": "string"
            }
          },
          "metadata": {},
          "execution_count": 40
        }
      ]
    },
    {
      "cell_type": "code",
      "source": [
        "n = 9 \n",
        "chuoi_np = bin(10).replace('0b','') \n",
        "while (len(chuoi_np) < n): \n",
        "  chuoi_np = '0' + chuoi_np \n",
        "chuoi_np"
      ],
      "metadata": {
        "colab": {
          "base_uri": "https://localhost:8080/",
          "height": 36
        },
        "id": "oUHPX-h_IW4J",
        "outputId": "52818e6c-1f5a-428a-8a45-15348dd4004e"
      },
      "execution_count": 41,
      "outputs": [
        {
          "output_type": "execute_result",
          "data": {
            "text/plain": [
              "'000001010'"
            ],
            "application/vnd.google.colaboratory.intrinsic+json": {
              "type": "string"
            }
          },
          "metadata": {},
          "execution_count": 41
        }
      ]
    },
    {
      "cell_type": "code",
      "source": [
        "lietke_chuoinhiphan(3)"
      ],
      "metadata": {
        "colab": {
          "base_uri": "https://localhost:8080/"
        },
        "id": "14oyI2mqIgY4",
        "outputId": "03fb2473-c401-498f-d3d5-e413de5fa9da"
      },
      "execution_count": 42,
      "outputs": [
        {
          "output_type": "execute_result",
          "data": {
            "text/plain": [
              "['000', '001', '010', '011', '100', '101', '110', '111']"
            ]
          },
          "metadata": {},
          "execution_count": 42
        }
      ]
    },
    {
      "cell_type": "code",
      "source": [
        "def kiemtra_chuoi(chuoi_dang_chon, danhsach, gioihan):\n",
        "  tong_thoigian = 0\n",
        "  for j in range(0, len(chuoi_dang_chon)):\n",
        "    if chuoi_dang_chon[j] == '1':\n",
        "      tong_thoigian = tong_thoigian + thoigian[j]\n",
        "  ketqua = True\n",
        "  if tong_thoigian > gioihan:\n",
        "    ketqua = False\n",
        "  return ketqua, tong_thoigian"
      ],
      "metadata": {
        "id": "Do823rkpIjOB"
      },
      "execution_count": 45,
      "outputs": []
    },
    {
      "cell_type": "code",
      "source": [
        "def tim_phuongan(thoigian, gioihan):\n",
        "  search = []\n",
        "  cac_phuongan = lietke_chuoinhiphan(len(thoigian))\n",
        "  for i in range (len(cac_phuongan)):\n",
        "    dc_kg, diem = kiemtra_chuoi(cac_phuongan[i], thoigian, gioihan)\n",
        "    if dc_kg == True:\n",
        "      print(cac_phuongan[i], dc_kg, diem)\n",
        "  return search"
      ],
      "metadata": {
        "id": "81yLOWGsIjdP"
      },
      "execution_count": 46,
      "outputs": []
    },
    {
      "cell_type": "code",
      "source": [
        "songay_dulich = 1.5 \n",
        "tim_phuongan(thoigian, songay_dulich) "
      ],
      "metadata": {
        "colab": {
          "base_uri": "https://localhost:8080/"
        },
        "id": "u5LuM_z2Ij1F",
        "outputId": "9193ba7d-8dcd-4109-b80c-836cebcce8a9"
      },
      "execution_count": 47,
      "outputs": [
        {
          "output_type": "stream",
          "name": "stdout",
          "text": [
            "000000000 True 0\n",
            "000000001 True 0.6\n",
            "000000010 True 0.3\n",
            "000000011 True 0.8999999999999999\n",
            "000000100 True 0.3\n",
            "000000101 True 0.8999999999999999\n",
            "000000110 True 0.6\n",
            "000000111 True 1.2\n",
            "000001000 True 0.3\n",
            "000001001 True 0.8999999999999999\n",
            "000001010 True 0.6\n",
            "000001011 True 1.2\n",
            "000001100 True 0.6\n",
            "000001101 True 1.2\n",
            "000001110 True 0.8999999999999999\n",
            "000001111 True 1.5\n",
            "000010000 True 1.5\n",
            "000100000 True 0.4\n",
            "000100001 True 1.0\n",
            "000100010 True 0.7\n",
            "000100011 True 1.2999999999999998\n",
            "000100100 True 0.7\n",
            "000100101 True 1.2999999999999998\n",
            "000100110 True 1.0\n",
            "000101000 True 0.7\n",
            "000101001 True 1.2999999999999998\n",
            "000101010 True 1.0\n",
            "000101100 True 1.0\n",
            "000101110 True 1.3\n",
            "001000000 True 0.6\n",
            "001000001 True 1.2\n",
            "001000010 True 0.8999999999999999\n",
            "001000011 True 1.5\n",
            "001000100 True 0.8999999999999999\n",
            "001000101 True 1.5\n",
            "001000110 True 1.2\n",
            "001001000 True 0.8999999999999999\n",
            "001001001 True 1.5\n",
            "001001010 True 1.2\n",
            "001001100 True 1.2\n",
            "001001110 True 1.5\n",
            "001100000 True 1.0\n",
            "001100010 True 1.3\n",
            "001100100 True 1.3\n",
            "001101000 True 1.3\n",
            "010000000 True 1.0\n",
            "010000010 True 1.3\n",
            "010000100 True 1.3\n",
            "010001000 True 1.3\n",
            "010100000 True 1.4\n",
            "100000000 True 1.0\n",
            "100000010 True 1.3\n",
            "100000100 True 1.3\n",
            "100001000 True 1.3\n",
            "100100000 True 1.4\n"
          ]
        },
        {
          "output_type": "execute_result",
          "data": {
            "text/plain": [
              "[]"
            ]
          },
          "metadata": {},
          "execution_count": 47
        }
      ]
    }
  ]
}