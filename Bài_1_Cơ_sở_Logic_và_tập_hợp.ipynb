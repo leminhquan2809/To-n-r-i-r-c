{
  "nbformat": 4,
  "nbformat_minor": 0,
  "metadata": {
    "colab": {
      "name": "Bài 1: Cơ sở Logic và tập hợp.ipynb",
      "provenance": [],
      "collapsed_sections": [],
      "authorship_tag": "ABX9TyMtp1kUWKY5Uu0Z1eH+aFN+",
      "include_colab_link": true
    },
    "kernelspec": {
      "name": "python3",
      "display_name": "Python 3"
    },
    "language_info": {
      "name": "python"
    }
  },
  "cells": [
    {
      "cell_type": "markdown",
      "metadata": {
        "id": "view-in-github",
        "colab_type": "text"
      },
      "source": [
        "<a href=\"https://colab.research.google.com/github/leminhquan2809/ToanRoiRac/blob/main/B%C3%A0i_1_C%C6%A1_s%E1%BB%9F_Logic_v%C3%A0_t%E1%BA%ADp_h%E1%BB%A3p.ipynb\" target=\"_parent\"><img src=\"https://colab.research.google.com/assets/colab-badge.svg\" alt=\"Open In Colab\"/></a>"
      ]
    },
    {
      "cell_type": "markdown",
      "source": [
        "# Các phép toán luận lý trong Python "
      ],
      "metadata": {
        "id": "BNylT6EQ_4Cx"
      }
    },
    {
      "cell_type": "markdown",
      "source": [
        "1.1. Luận lý trong Python"
      ],
      "metadata": {
        "id": "9Ln42Yr-IZ9t"
      }
    },
    {
      "cell_type": "code",
      "execution_count": 3,
      "metadata": {
        "colab": {
          "base_uri": "https://localhost:8080/"
        },
        "id": "cJ29IHId_Lwy",
        "outputId": "a63df8ca-54c4-442e-920f-dc28f4ae08ef"
      },
      "outputs": [
        {
          "output_type": "execute_result",
          "data": {
            "text/plain": [
              "False"
            ]
          },
          "metadata": {},
          "execution_count": 3
        }
      ],
      "source": [
        "a = True\n",
        "b = False \n",
        "a and b"
      ]
    },
    {
      "cell_type": "code",
      "source": [
        "a or b"
      ],
      "metadata": {
        "colab": {
          "base_uri": "https://localhost:8080/"
        },
        "id": "oHJn8v8C_uOP",
        "outputId": "efbd4e8d-37a1-4fc9-f5d2-ecebc232295d"
      },
      "execution_count": 4,
      "outputs": [
        {
          "output_type": "execute_result",
          "data": {
            "text/plain": [
              "True"
            ]
          },
          "metadata": {},
          "execution_count": 4
        }
      ]
    },
    {
      "cell_type": "code",
      "source": [
        "a ^ b"
      ],
      "metadata": {
        "colab": {
          "base_uri": "https://localhost:8080/"
        },
        "id": "82x4gOPt_wuP",
        "outputId": "f6352570-0633-4229-ec4d-9094620033fa"
      },
      "execution_count": 5,
      "outputs": [
        {
          "output_type": "execute_result",
          "data": {
            "text/plain": [
              "True"
            ]
          },
          "metadata": {},
          "execution_count": 5
        }
      ]
    },
    {
      "cell_type": "markdown",
      "source": [
        "1.2. Biểu thức điều kiện If"
      ],
      "metadata": {
        "id": "KpRhyoaaIeNl"
      }
    },
    {
      "cell_type": "code",
      "source": [
        "def kiemtra_nuocsoi(nhiet_do): \n",
        "  if nhiet_do < 100: \n",
        "    return 'Nước chưa sôi!' \n",
        "  else: \n",
        "    return 'Nước đã sôi!' \n",
        "kiemtra_nuocsoi(100)"
      ],
      "metadata": {
        "colab": {
          "base_uri": "https://localhost:8080/",
          "height": 36
        },
        "id": "S0xUPRENAdeM",
        "outputId": "4713202a-ecc0-4ba1-e546-b96d01d295ac"
      },
      "execution_count": 86,
      "outputs": [
        {
          "output_type": "execute_result",
          "data": {
            "text/plain": [
              "'Nước đã sôi!'"
            ],
            "application/vnd.google.colaboratory.intrinsic+json": {
              "type": "string"
            }
          },
          "metadata": {},
          "execution_count": 86
        }
      ]
    },
    {
      "cell_type": "code",
      "source": [
        "def kiemtra_nuocsoi1(nhiet_do):\n",
        "  return 'Nước ' + ('đã sôi!' if nhiet_do == 100 else 'chưa sôi!')\n",
        "kiemtra_nuocsoi1(100)"
      ],
      "metadata": {
        "colab": {
          "base_uri": "https://localhost:8080/",
          "height": 36
        },
        "id": "FPu_NYUPAiR8",
        "outputId": "311db973-7388-4ac0-ba9e-e3d859fc26c9"
      },
      "execution_count": 14,
      "outputs": [
        {
          "output_type": "execute_result",
          "data": {
            "text/plain": [
              "'Nước đã sôi!'"
            ],
            "application/vnd.google.colaboratory.intrinsic+json": {
              "type": "string"
            }
          },
          "metadata": {},
          "execution_count": 14
        }
      ]
    },
    {
      "cell_type": "code",
      "source": [
        "kiemtra_nuocsoi1(99)"
      ],
      "metadata": {
        "colab": {
          "base_uri": "https://localhost:8080/",
          "height": 36
        },
        "id": "oVFez-irBVPx",
        "outputId": "6f40c586-b3ba-48d5-be0c-f90a2d569941"
      },
      "execution_count": 15,
      "outputs": [
        {
          "output_type": "execute_result",
          "data": {
            "text/plain": [
              "'Nước chưa sôi!'"
            ],
            "application/vnd.google.colaboratory.intrinsic+json": {
              "type": "string"
            }
          },
          "metadata": {},
          "execution_count": 15
        }
      ]
    },
    {
      "cell_type": "code",
      "source": [
        "ds_dau = []\n",
        "for diem_so in range(10): \n",
        "   if diem_so > 5: \n",
        "     ds_dau.append(str(diem_so))\n",
        "ds_dau"
      ],
      "metadata": {
        "colab": {
          "base_uri": "https://localhost:8080/"
        },
        "id": "S9psZ7UBBcQ-",
        "outputId": "59022703-c850-49ac-93c5-f89db8b73ac1"
      },
      "execution_count": 23,
      "outputs": [
        {
          "output_type": "execute_result",
          "data": {
            "text/plain": [
              "['6', '7', '8', '9']"
            ]
          },
          "metadata": {},
          "execution_count": 23
        }
      ]
    },
    {
      "cell_type": "code",
      "source": [
        "ds_dau = [str(diem_so)for value in range(10) if diem_so > 5]\n",
        "ds_dau"
      ],
      "metadata": {
        "colab": {
          "base_uri": "https://localhost:8080/"
        },
        "id": "mvGZbzOqCqlK",
        "outputId": "d19caa9a-e59c-4ad0-a1a7-4d738c2ddf6e"
      },
      "execution_count": 25,
      "outputs": [
        {
          "output_type": "execute_result",
          "data": {
            "text/plain": [
              "['9', '9', '9', '9', '9', '9', '9', '9', '9', '9']"
            ]
          },
          "metadata": {},
          "execution_count": 25
        }
      ]
    },
    {
      "cell_type": "markdown",
      "source": [
        "1.3. Thứ tự tính toán trong Python"
      ],
      "metadata": {
        "id": "NRx58ibnIk-J"
      }
    },
    {
      "cell_type": "code",
      "source": [
        "a = True \n",
        "b = False\n",
        "if (a == b) and (1/0 > 0):\n",
        "  print('a = b')\n",
        "else:\n",
        "  print('a khác b')"
      ],
      "metadata": {
        "colab": {
          "base_uri": "https://localhost:8080/"
        },
        "id": "InS3pHruDBZQ",
        "outputId": "b97c0bf0-718e-4533-8278-4985cecd00f8"
      },
      "execution_count": 30,
      "outputs": [
        {
          "output_type": "stream",
          "name": "stdout",
          "text": [
            "a khác b\n"
          ]
        }
      ]
    },
    {
      "cell_type": "code",
      "source": [
        "a = True \n",
        "b = False \n",
        "if (1/0 > 0) and (a == b):\n",
        "  print('a = b')\n",
        "else:\n",
        "  print('a khác b')"
      ],
      "metadata": {
        "colab": {
          "base_uri": "https://localhost:8080/",
          "height": 235
        },
        "id": "g0UdGOauDvsX",
        "outputId": "4147118d-c8f3-4375-81e7-fdad162d6791"
      },
      "execution_count": 31,
      "outputs": [
        {
          "output_type": "error",
          "ename": "ZeroDivisionError",
          "evalue": "ignored",
          "traceback": [
            "\u001b[0;31m---------------------------------------------------------------------------\u001b[0m",
            "\u001b[0;31mZeroDivisionError\u001b[0m                         Traceback (most recent call last)",
            "\u001b[0;32m<ipython-input-31-6575b5f8d79d>\u001b[0m in \u001b[0;36m<module>\u001b[0;34m()\u001b[0m\n\u001b[1;32m      1\u001b[0m \u001b[0ma\u001b[0m \u001b[0;34m=\u001b[0m \u001b[0;32mTrue\u001b[0m\u001b[0;34m\u001b[0m\u001b[0;34m\u001b[0m\u001b[0m\n\u001b[1;32m      2\u001b[0m \u001b[0mb\u001b[0m \u001b[0;34m=\u001b[0m \u001b[0;32mFalse\u001b[0m\u001b[0;34m\u001b[0m\u001b[0;34m\u001b[0m\u001b[0m\n\u001b[0;32m----> 3\u001b[0;31m \u001b[0;32mif\u001b[0m \u001b[0;34m(\u001b[0m\u001b[0;36m1\u001b[0m\u001b[0;34m/\u001b[0m\u001b[0;36m0\u001b[0m \u001b[0;34m>\u001b[0m \u001b[0;36m0\u001b[0m\u001b[0;34m)\u001b[0m \u001b[0;32mand\u001b[0m \u001b[0;34m(\u001b[0m\u001b[0ma\u001b[0m \u001b[0;34m==\u001b[0m \u001b[0mb\u001b[0m\u001b[0;34m)\u001b[0m\u001b[0;34m:\u001b[0m\u001b[0;34m\u001b[0m\u001b[0;34m\u001b[0m\u001b[0m\n\u001b[0m\u001b[1;32m      4\u001b[0m   \u001b[0mprint\u001b[0m\u001b[0;34m(\u001b[0m\u001b[0;34m'a = b'\u001b[0m\u001b[0;34m)\u001b[0m\u001b[0;34m\u001b[0m\u001b[0;34m\u001b[0m\u001b[0m\n\u001b[1;32m      5\u001b[0m \u001b[0;32melse\u001b[0m\u001b[0;34m:\u001b[0m\u001b[0;34m\u001b[0m\u001b[0;34m\u001b[0m\u001b[0m\n",
            "\u001b[0;31mZeroDivisionError\u001b[0m: division by zero"
          ]
        }
      ]
    },
    {
      "cell_type": "markdown",
      "source": [
        "# Dữ liệu dạng tập hợp trong Python: Set "
      ],
      "metadata": {
        "id": "NEvJ2ctTEjL6"
      }
    },
    {
      "cell_type": "markdown",
      "source": [
        "VD1"
      ],
      "metadata": {
        "id": "nm24Z40YI6Oq"
      }
    },
    {
      "cell_type": "code",
      "source": [
        "S = [2*x for x in range(20)]\n",
        "S"
      ],
      "metadata": {
        "colab": {
          "base_uri": "https://localhost:8080/"
        },
        "id": "uDBcK4TvErjE",
        "outputId": "71debfb9-d4ca-4de3-f67c-e803c530e752"
      },
      "execution_count": 33,
      "outputs": [
        {
          "output_type": "execute_result",
          "data": {
            "text/plain": [
              "[0, 2, 4, 6, 8, 10, 12, 14, 16, 18, 20, 22, 24, 26, 28, 30, 32, 34, 36, 38]"
            ]
          },
          "metadata": {},
          "execution_count": 33
        }
      ]
    },
    {
      "cell_type": "markdown",
      "source": [
        "VD2 "
      ],
      "metadata": {
        "id": "iHaP6EKfI-Jk"
      }
    },
    {
      "cell_type": "code",
      "source": [
        "A = set([x for x in range(-50,50) if x**2 + x - 6 == 0])\n",
        "B = set([2,-3])\n",
        "A == B"
      ],
      "metadata": {
        "colab": {
          "base_uri": "https://localhost:8080/"
        },
        "id": "ZACcXW4wE7pz",
        "outputId": "cce6f54c-198f-4b47-a8a4-d175d0bd231b"
      },
      "execution_count": 39,
      "outputs": [
        {
          "output_type": "execute_result",
          "data": {
            "text/plain": [
              "True"
            ]
          },
          "metadata": {},
          "execution_count": 39
        }
      ]
    },
    {
      "cell_type": "markdown",
      "source": [
        "VD3"
      ],
      "metadata": {
        "id": "V5SQl6haJA3U"
      }
    },
    {
      "cell_type": "code",
      "source": [
        "def isPrime(N):\n",
        "  for i in [x+1 for x in range(N)]:\n",
        "    if N%i==0 and (i!=1 and i!=N):\n",
        "      return False\n",
        "  return True\n",
        "S_prime = [isPrime(k)for k in range(1,40)]\n",
        "S_prime"
      ],
      "metadata": {
        "colab": {
          "base_uri": "https://localhost:8080/"
        },
        "id": "eCej6cmSFYJk",
        "outputId": "0aa01ffd-90d1-4685-b0da-a1b926305411"
      },
      "execution_count": 44,
      "outputs": [
        {
          "output_type": "execute_result",
          "data": {
            "text/plain": [
              "[True,\n",
              " True,\n",
              " True,\n",
              " False,\n",
              " True,\n",
              " False,\n",
              " True,\n",
              " False,\n",
              " False,\n",
              " False,\n",
              " True,\n",
              " False,\n",
              " True,\n",
              " False,\n",
              " False,\n",
              " False,\n",
              " True,\n",
              " False,\n",
              " True,\n",
              " False,\n",
              " False,\n",
              " False,\n",
              " True,\n",
              " False,\n",
              " False,\n",
              " False,\n",
              " False,\n",
              " False,\n",
              " True,\n",
              " False,\n",
              " True,\n",
              " False,\n",
              " False,\n",
              " False,\n",
              " False,\n",
              " False,\n",
              " True,\n",
              " False,\n",
              " False]"
            ]
          },
          "metadata": {},
          "execution_count": 44
        }
      ]
    },
    {
      "cell_type": "code",
      "source": [
        "S_prime[37]"
      ],
      "metadata": {
        "colab": {
          "base_uri": "https://localhost:8080/"
        },
        "id": "nJm4pA23GbCQ",
        "outputId": "1eb8dded-f395-4781-fc46-9a5de13f1433"
      },
      "execution_count": 45,
      "outputs": [
        {
          "output_type": "execute_result",
          "data": {
            "text/plain": [
              "False"
            ]
          },
          "metadata": {},
          "execution_count": 45
        }
      ]
    },
    {
      "cell_type": "code",
      "source": [
        "S_prime[36]"
      ],
      "metadata": {
        "colab": {
          "base_uri": "https://localhost:8080/"
        },
        "id": "CNtRYAz9GmVN",
        "outputId": "19b43ae5-74d0-40ea-a4cb-c9d3c783b7a5"
      },
      "execution_count": 46,
      "outputs": [
        {
          "output_type": "execute_result",
          "data": {
            "text/plain": [
              "True"
            ]
          },
          "metadata": {},
          "execution_count": 46
        }
      ]
    },
    {
      "cell_type": "code",
      "source": [
        "S_prime = set([x for x in range(40)if(isPrime(x)==True and x>0)])\n",
        "S_prime"
      ],
      "metadata": {
        "colab": {
          "base_uri": "https://localhost:8080/"
        },
        "id": "uymxpo0HGqmi",
        "outputId": "a3a5b60a-76e7-4591-e861-a75fed80e9cd"
      },
      "execution_count": 48,
      "outputs": [
        {
          "output_type": "execute_result",
          "data": {
            "text/plain": [
              "{1, 2, 3, 5, 7, 11, 13, 17, 19, 23, 29, 31, 37}"
            ]
          },
          "metadata": {},
          "execution_count": 48
        }
      ]
    },
    {
      "cell_type": "markdown",
      "source": [
        "VD4"
      ],
      "metadata": {
        "id": "y3EQaOPGJETf"
      }
    },
    {
      "cell_type": "code",
      "source": [
        "Apro = set([2*x *y for x in range(-50,50) if x**2+x-6 == 0 for y in [1, 10, 100]]) \n",
        "Apro"
      ],
      "metadata": {
        "colab": {
          "base_uri": "https://localhost:8080/"
        },
        "id": "bYATm-ZeG-cQ",
        "outputId": "159f1c1d-364c-44a3-d690-5b49bf243fd3"
      },
      "execution_count": 49,
      "outputs": [
        {
          "output_type": "execute_result",
          "data": {
            "text/plain": [
              "{-600, -60, -6, 4, 40, 400}"
            ]
          },
          "metadata": {},
          "execution_count": 49
        }
      ]
    },
    {
      "cell_type": "markdown",
      "source": [
        "VD5"
      ],
      "metadata": {
        "id": "xHuRXvRJJFky"
      }
    },
    {
      "cell_type": "code",
      "source": [
        "AB = set([ (x, 2*y) for x in range(-50,50) if x**2+x-6 == 0 for y in [1, 10, 100]]) \n",
        "AB "
      ],
      "metadata": {
        "colab": {
          "base_uri": "https://localhost:8080/"
        },
        "id": "Pv8nZ5brHsbM",
        "outputId": "986113ae-5bca-4537-f0e9-83b4fb6ed642"
      },
      "execution_count": 50,
      "outputs": [
        {
          "output_type": "execute_result",
          "data": {
            "text/plain": [
              "{(-3, 2), (-3, 20), (-3, 200), (2, 2), (2, 20), (2, 200)}"
            ]
          },
          "metadata": {},
          "execution_count": 50
        }
      ]
    },
    {
      "cell_type": "markdown",
      "source": [
        "# Dữ liệu dạng tập hợp trong Sympy: FiniteSet"
      ],
      "metadata": {
        "id": "nqD-k9JJHvV6"
      }
    },
    {
      "cell_type": "markdown",
      "source": [
        "3.1. Xây dựng và các thao tác cơ bản trên tập hợp "
      ],
      "metadata": {
        "id": "AYHMeHGJNJfT"
      }
    },
    {
      "cell_type": "markdown",
      "source": [
        "3.1.1. Xây dựng tập hợp "
      ],
      "metadata": {
        "id": "x204t5NtJci1"
      }
    },
    {
      "cell_type": "code",
      "source": [
        "from sympy import FiniteSet \n",
        "S = FiniteSet(3,5,7)\n",
        "S"
      ],
      "metadata": {
        "colab": {
          "base_uri": "https://localhost:8080/",
          "height": 37
        },
        "id": "MJvK2EacH32m",
        "outputId": "46be7ead-4b07-4a5d-b0a4-8ec38c2d50f1"
      },
      "execution_count": 54,
      "outputs": [
        {
          "output_type": "execute_result",
          "data": {
            "text/plain": [
              "FiniteSet(3, 5, 7)"
            ],
            "text/latex": "$\\displaystyle \\left\\{3, 5, 7\\right\\}$"
          },
          "metadata": {},
          "execution_count": 54
        }
      ]
    },
    {
      "cell_type": "code",
      "source": [
        "from sympy import FiniteSet\n",
        "from fractions import Fraction \n",
        "S = FiniteSet(1, 1.5, Fraction(1, 5)) \n",
        "S"
      ],
      "metadata": {
        "colab": {
          "base_uri": "https://localhost:8080/",
          "height": 58
        },
        "id": "0z_JokPzJquq",
        "outputId": "a74eb777-ca2f-4153-99fc-a80e784dbdce"
      },
      "execution_count": 62,
      "outputs": [
        {
          "output_type": "execute_result",
          "data": {
            "text/plain": [
              "FiniteSet(1/5, 1, 1.5)"
            ],
            "text/latex": "$\\displaystyle \\left\\{\\frac{1}{5}, 1, 1.5\\right\\}$"
          },
          "metadata": {},
          "execution_count": 62
        }
      ]
    },
    {
      "cell_type": "code",
      "source": [
        "S = FiniteSet(1, 1.5, Fraction(8, 2)) \n",
        "S "
      ],
      "metadata": {
        "colab": {
          "base_uri": "https://localhost:8080/",
          "height": 37
        },
        "id": "Giv8X_VrJyum",
        "outputId": "42af9a18-23de-4f96-ba2c-d2bd730b7a6b"
      },
      "execution_count": 56,
      "outputs": [
        {
          "output_type": "execute_result",
          "data": {
            "text/plain": [
              "FiniteSet(1, 1.5, 4)"
            ],
            "text/latex": "$\\displaystyle \\left\\{1, 1.5, 4\\right\\}$"
          },
          "metadata": {},
          "execution_count": 56
        }
      ]
    },
    {
      "cell_type": "code",
      "source": [
        "len(S)"
      ],
      "metadata": {
        "colab": {
          "base_uri": "https://localhost:8080/"
        },
        "id": "ToV8yF8-J1WM",
        "outputId": "4b85be4d-8072-457b-e654-650d3e793d63"
      },
      "execution_count": 57,
      "outputs": [
        {
          "output_type": "execute_result",
          "data": {
            "text/plain": [
              "3"
            ]
          },
          "metadata": {},
          "execution_count": 57
        }
      ]
    },
    {
      "cell_type": "markdown",
      "source": [
        "3.1.2. Kiểm tra một số tập hợp "
      ],
      "metadata": {
        "id": "WHPYut5OJ4ND"
      }
    },
    {
      "cell_type": "code",
      "source": [
        "8 in S"
      ],
      "metadata": {
        "colab": {
          "base_uri": "https://localhost:8080/"
        },
        "id": "a1I9Z8p9J7dh",
        "outputId": "023ba291-16ea-4c86-aded-fd38da6d5903"
      },
      "execution_count": 58,
      "outputs": [
        {
          "output_type": "execute_result",
          "data": {
            "text/plain": [
              "False"
            ]
          },
          "metadata": {},
          "execution_count": 58
        }
      ]
    },
    {
      "cell_type": "code",
      "source": [
        "1 in S"
      ],
      "metadata": {
        "colab": {
          "base_uri": "https://localhost:8080/"
        },
        "id": "ZmbEP1bRJ9Za",
        "outputId": "ad057478-8ef6-4494-af3a-ea3b73f08046"
      },
      "execution_count": 59,
      "outputs": [
        {
          "output_type": "execute_result",
          "data": {
            "text/plain": [
              "True"
            ]
          },
          "metadata": {},
          "execution_count": 59
        }
      ]
    },
    {
      "cell_type": "markdown",
      "source": [
        "3.1.3. Tạo tập hợp rỗng "
      ],
      "metadata": {
        "id": "-sD1oh9NJ_77"
      }
    },
    {
      "cell_type": "code",
      "source": [
        "S = FiniteSet()\n",
        "S"
      ],
      "metadata": {
        "colab": {
          "base_uri": "https://localhost:8080/",
          "height": 37
        },
        "id": "ajPrnoudKCGN",
        "outputId": "20e7e005-1bd1-4395-9966-332156d0b708"
      },
      "execution_count": 60,
      "outputs": [
        {
          "output_type": "execute_result",
          "data": {
            "text/plain": [
              "EmptySet"
            ],
            "text/latex": "$\\displaystyle \\emptyset$"
          },
          "metadata": {},
          "execution_count": 60
        }
      ]
    },
    {
      "cell_type": "code",
      "source": [
        "from sympy import EmptySet\n",
        "S = EmptySet\n",
        "S"
      ],
      "metadata": {
        "colab": {
          "base_uri": "https://localhost:8080/",
          "height": 37
        },
        "id": "pIbL8W_jKGrv",
        "outputId": "fc100789-a83a-4782-9f56-1e3979c6ef0e"
      },
      "execution_count": 68,
      "outputs": [
        {
          "output_type": "execute_result",
          "data": {
            "text/plain": [
              "EmptySet"
            ],
            "text/latex": "$\\displaystyle \\emptyset$"
          },
          "metadata": {},
          "execution_count": 68
        }
      ]
    },
    {
      "cell_type": "markdown",
      "source": [
        "3.1.4. Tạo tập hợp từ List hoặc Truple"
      ],
      "metadata": {
        "id": "6CJzYKBvKVtE"
      }
    },
    {
      "cell_type": "code",
      "source": [
        "phantu = [2, 4, 6, 8, 10] \n",
        "tap = FiniteSet(*phantu) \n",
        "tap"
      ],
      "metadata": {
        "colab": {
          "base_uri": "https://localhost:8080/",
          "height": 37
        },
        "id": "3KU7StlSKtwu",
        "outputId": "c4aa5278-21c4-47b5-ef9d-a501a1a3439e"
      },
      "execution_count": 69,
      "outputs": [
        {
          "output_type": "execute_result",
          "data": {
            "text/plain": [
              "FiniteSet(2, 4, 6, 8, 10)"
            ],
            "text/latex": "$\\displaystyle \\left\\{2, 4, 6, 8, 10\\right\\}$"
          },
          "metadata": {},
          "execution_count": 69
        }
      ]
    },
    {
      "cell_type": "markdown",
      "source": [
        "3.1.5. Loại bỏ các phần tử trùng và sắp thứ tự tập hợp "
      ],
      "metadata": {
        "id": "gGJloFy4KzdC"
      }
    },
    {
      "cell_type": "code",
      "source": [
        "from sympy import FiniteSet \n",
        "phantu = [6, 7, 8, 9, 6, 7] \n",
        "taphop = FiniteSet(*phantu) \n",
        "taphop "
      ],
      "metadata": {
        "colab": {
          "base_uri": "https://localhost:8080/",
          "height": 37
        },
        "id": "_YclgmgxK5ur",
        "outputId": "7e549d82-5691-4cc2-9488-9a5fc24bae35"
      },
      "execution_count": 70,
      "outputs": [
        {
          "output_type": "execute_result",
          "data": {
            "text/plain": [
              "FiniteSet(6, 7, 8, 9)"
            ],
            "text/latex": "$\\displaystyle \\left\\{6, 7, 8, 9\\right\\}$"
          },
          "metadata": {},
          "execution_count": 70
        }
      ]
    },
    {
      "cell_type": "code",
      "source": [
        "for thanhphan in taphop: \n",
        " print(thanhphan) "
      ],
      "metadata": {
        "colab": {
          "base_uri": "https://localhost:8080/"
        },
        "id": "1lQNV84mK_ZA",
        "outputId": "b1dd2ff2-9295-4e42-b037-fc83cad4d242"
      },
      "execution_count": 71,
      "outputs": [
        {
          "output_type": "stream",
          "name": "stdout",
          "text": [
            "6\n",
            "7\n",
            "8\n",
            "9\n"
          ]
        }
      ]
    },
    {
      "cell_type": "code",
      "source": [
        "from sympy import FiniteSet \n",
        "ds1 = [2, 4, 6] \n",
        "ds2 = [6, 2, 4] \n",
        "ds1 == ds2"
      ],
      "metadata": {
        "colab": {
          "base_uri": "https://localhost:8080/"
        },
        "id": "8pmMqDxcLHFd",
        "outputId": "8cd9847b-5e7b-4be7-9b95-9ca8ead55249"
      },
      "execution_count": 72,
      "outputs": [
        {
          "output_type": "execute_result",
          "data": {
            "text/plain": [
              "False"
            ]
          },
          "metadata": {},
          "execution_count": 72
        }
      ]
    },
    {
      "cell_type": "code",
      "source": [
        "S = FiniteSet(*ds1) \n",
        "T = FiniteSet(*ds2) \n",
        "S == T "
      ],
      "metadata": {
        "colab": {
          "base_uri": "https://localhost:8080/"
        },
        "id": "LoBX6IqxLLYG",
        "outputId": "6faf2093-53a8-43cd-cc39-0cd484fad372"
      },
      "execution_count": 73,
      "outputs": [
        {
          "output_type": "execute_result",
          "data": {
            "text/plain": [
              "True"
            ]
          },
          "metadata": {},
          "execution_count": 73
        }
      ]
    },
    {
      "cell_type": "markdown",
      "source": [
        "3.2. Tập con (subset), tập cha (superset) và tập các tập con (power set)  "
      ],
      "metadata": {
        "id": "ojbMI8oJLQaD"
      }
    },
    {
      "cell_type": "code",
      "source": [
        "S = FiniteSet(1) \n",
        "T = FiniteSet(1,2) \n",
        "S.is_subset(T)"
      ],
      "metadata": {
        "colab": {
          "base_uri": "https://localhost:8080/"
        },
        "id": "TKOBjBqwLSSw",
        "outputId": "962d5a0e-b094-4feb-8685-e1bd8ca3df9a"
      },
      "execution_count": 74,
      "outputs": [
        {
          "output_type": "execute_result",
          "data": {
            "text/plain": [
              "True"
            ]
          },
          "metadata": {},
          "execution_count": 74
        }
      ]
    },
    {
      "cell_type": "code",
      "source": [
        "T.is_subset(S)"
      ],
      "metadata": {
        "colab": {
          "base_uri": "https://localhost:8080/"
        },
        "id": "8cI-l5KqLZBs",
        "outputId": "72be9bba-9bf8-4ea9-a1cb-615ac483b5de"
      },
      "execution_count": 75,
      "outputs": [
        {
          "output_type": "execute_result",
          "data": {
            "text/plain": [
              "False"
            ]
          },
          "metadata": {},
          "execution_count": 75
        }
      ]
    },
    {
      "cell_type": "code",
      "source": [
        "T.is_subset(T) "
      ],
      "metadata": {
        "colab": {
          "base_uri": "https://localhost:8080/"
        },
        "id": "MmacFvHcLbHl",
        "outputId": "977bf08a-1008-4989-8114-3d2890d9e843"
      },
      "execution_count": 76,
      "outputs": [
        {
          "output_type": "execute_result",
          "data": {
            "text/plain": [
              "True"
            ]
          },
          "metadata": {},
          "execution_count": 76
        }
      ]
    },
    {
      "cell_type": "code",
      "source": [
        "S.is_superset(T)"
      ],
      "metadata": {
        "colab": {
          "base_uri": "https://localhost:8080/"
        },
        "id": "pbvzUQaILfia",
        "outputId": "fa78efdd-48ff-4c31-e069-8df5a4cfe4d8"
      },
      "execution_count": 77,
      "outputs": [
        {
          "output_type": "execute_result",
          "data": {
            "text/plain": [
              "False"
            ]
          },
          "metadata": {},
          "execution_count": 77
        }
      ]
    },
    {
      "cell_type": "code",
      "source": [
        "T.is_superset(S)"
      ],
      "metadata": {
        "colab": {
          "base_uri": "https://localhost:8080/"
        },
        "id": "vMa8XcqnLjBj",
        "outputId": "1da980f8-ff07-41c7-f84b-766b73267ed9"
      },
      "execution_count": 78,
      "outputs": [
        {
          "output_type": "execute_result",
          "data": {
            "text/plain": [
              "True"
            ]
          },
          "metadata": {},
          "execution_count": 78
        }
      ]
    },
    {
      "cell_type": "code",
      "source": [
        "S = FiniteSet(1,2,3) \n",
        "Ps = S.powerset()\n",
        "len(Ps)"
      ],
      "metadata": {
        "colab": {
          "base_uri": "https://localhost:8080/"
        },
        "id": "OYu0P9jELl1A",
        "outputId": "a23d0d1d-24be-44d2-806e-e49f9c013719"
      },
      "execution_count": 79,
      "outputs": [
        {
          "output_type": "execute_result",
          "data": {
            "text/plain": [
              "8"
            ]
          },
          "metadata": {},
          "execution_count": 79
        }
      ]
    },
    {
      "cell_type": "code",
      "source": [
        "Ps"
      ],
      "metadata": {
        "colab": {
          "base_uri": "https://localhost:8080/",
          "height": 37
        },
        "id": "XiGBNfwdLu55",
        "outputId": "97e62780-050a-4bf6-f626-0dc39fff9cec"
      },
      "execution_count": 80,
      "outputs": [
        {
          "output_type": "execute_result",
          "data": {
            "text/plain": [
              "FiniteSet(FiniteSet(1), FiniteSet(1, 2), FiniteSet(1, 3), FiniteSet(1, 2, 3), FiniteSet(2), FiniteSet(2, 3), FiniteSet(3), EmptySet)"
            ],
            "text/latex": "$\\displaystyle \\left\\{\\emptyset, \\left\\{1\\right\\}, \\left\\{2\\right\\}, \\left\\{3\\right\\}, \\left\\{1, 2\\right\\}, \\left\\{1, 3\\right\\}, \\left\\{2, 3\\right\\}, \\left\\{1, 2, 3\\right\\}\\right\\}$"
          },
          "metadata": {},
          "execution_count": 80
        }
      ]
    },
    {
      "cell_type": "code",
      "source": [
        "from sympy import FiniteSet \n",
        "S = FiniteSet(1, 2, 3) \n",
        "T = FiniteSet(3, 2, 1) \n",
        "S.is_proper_subset(T)"
      ],
      "metadata": {
        "colab": {
          "base_uri": "https://localhost:8080/"
        },
        "id": "oskkQ698LxCr",
        "outputId": "db799483-00a1-49e9-e704-554d1ff60e71"
      },
      "execution_count": 81,
      "outputs": [
        {
          "output_type": "execute_result",
          "data": {
            "text/plain": [
              "False"
            ]
          },
          "metadata": {},
          "execution_count": 81
        }
      ]
    },
    {
      "cell_type": "code",
      "source": [
        "T.is_proper_powerset(S)"
      ],
      "metadata": {
        "colab": {
          "base_uri": "https://localhost:8080/",
          "height": 165
        },
        "id": "BGkAfLySL4GA",
        "outputId": "a16b474d-fdba-4e8a-db2f-7e7cdf3f488e"
      },
      "execution_count": 82,
      "outputs": [
        {
          "output_type": "error",
          "ename": "AttributeError",
          "evalue": "ignored",
          "traceback": [
            "\u001b[0;31m---------------------------------------------------------------------------\u001b[0m",
            "\u001b[0;31mAttributeError\u001b[0m                            Traceback (most recent call last)",
            "\u001b[0;32m<ipython-input-82-571f04e73b92>\u001b[0m in \u001b[0;36m<module>\u001b[0;34m()\u001b[0m\n\u001b[0;32m----> 1\u001b[0;31m \u001b[0mT\u001b[0m\u001b[0;34m.\u001b[0m\u001b[0mis_proper_powerset\u001b[0m\u001b[0;34m(\u001b[0m\u001b[0mS\u001b[0m\u001b[0;34m)\u001b[0m\u001b[0;34m\u001b[0m\u001b[0;34m\u001b[0m\u001b[0m\n\u001b[0m",
            "\u001b[0;31mAttributeError\u001b[0m: 'FiniteSet' object has no attribute 'is_proper_powerset'"
          ]
        }
      ]
    },
    {
      "cell_type": "code",
      "source": [
        "T = FiniteSet(3, 2, 1, 4) \n",
        "S.is_proper_subset(T) "
      ],
      "metadata": {
        "colab": {
          "base_uri": "https://localhost:8080/"
        },
        "id": "AxGmjAnTMqNu",
        "outputId": "9e92d29b-5cf5-4c12-9ce0-5bc8e1dbba8a"
      },
      "execution_count": 83,
      "outputs": [
        {
          "output_type": "execute_result",
          "data": {
            "text/plain": [
              "True"
            ]
          },
          "metadata": {},
          "execution_count": 83
        }
      ]
    },
    {
      "cell_type": "code",
      "source": [
        "T.is_proper_ powerset(S)  "
      ],
      "metadata": {
        "colab": {
          "base_uri": "https://localhost:8080/",
          "height": 130
        },
        "id": "Ewwe1BVbMvZf",
        "outputId": "777e8e01-69a7-44f8-8950-8ba9bdaf1012"
      },
      "execution_count": 85,
      "outputs": [
        {
          "output_type": "error",
          "ename": "SyntaxError",
          "evalue": "ignored",
          "traceback": [
            "\u001b[0;36m  File \u001b[0;32m\"<ipython-input-85-fdcd55150dc9>\"\u001b[0;36m, line \u001b[0;32m1\u001b[0m\n\u001b[0;31m    T.is_proper_ powerset (S)\u001b[0m\n\u001b[0m                        ^\u001b[0m\n\u001b[0;31mSyntaxError\u001b[0m\u001b[0;31m:\u001b[0m invalid syntax\n"
          ]
        }
      ]
    },
    {
      "cell_type": "markdown",
      "source": [
        "3.3. Các phép toán trên tập hợp "
      ],
      "metadata": {
        "id": "mdDilMrfM7QH"
      }
    },
    {
      "cell_type": "markdown",
      "source": [
        "3.3.1. Union và Intersection "
      ],
      "metadata": {
        "id": "ITKYjz29No7q"
      }
    },
    {
      "cell_type": "code",
      "source": [
        "from sympy import FiniteSet \n",
        "S = FiniteSet(2,4,6)\n",
        "T = FiniteSet(3,5,7)\n",
        "kq = S.union(T)\n",
        "kq"
      ],
      "metadata": {
        "colab": {
          "base_uri": "https://localhost:8080/",
          "height": 37
        },
        "id": "oZNEKuBKNAFT",
        "outputId": "c8061b9f-fb5d-49e0-857d-bc597e864333"
      },
      "execution_count": 87,
      "outputs": [
        {
          "output_type": "execute_result",
          "data": {
            "text/plain": [
              "FiniteSet(2, 3, 4, 5, 6, 7)"
            ],
            "text/latex": "$\\displaystyle \\left\\{2, 3, 4, 5, 6, 7\\right\\}$"
          },
          "metadata": {},
          "execution_count": 87
        }
      ]
    },
    {
      "cell_type": "code",
      "source": [
        "from sympy import FiniteSet \n",
        "U = FiniteSet(10, 20, 50) \n",
        "V = FiniteSet(1, 2, 5) \n",
        "U + V"
      ],
      "metadata": {
        "colab": {
          "base_uri": "https://localhost:8080/",
          "height": 37
        },
        "id": "ZfoG8qVaOwds",
        "outputId": "0b90f5e0-1209-4512-b12f-07b1d49b4d83"
      },
      "execution_count": 88,
      "outputs": [
        {
          "output_type": "execute_result",
          "data": {
            "text/plain": [
              "FiniteSet(1, 2, 5, 10, 20, 50)"
            ],
            "text/latex": "$\\displaystyle \\left\\{1, 2, 5, 10, 20, 50\\right\\}$"
          },
          "metadata": {},
          "execution_count": 88
        }
      ]
    },
    {
      "cell_type": "code",
      "source": [
        "from sympy import FiniteSet \n",
        "S = FiniteSet(1,2,10)\n",
        "T = FiniteSet(1,3,10)\n",
        "giao = S.intersect(T)\n",
        "giao "
      ],
      "metadata": {
        "colab": {
          "base_uri": "https://localhost:8080/",
          "height": 37
        },
        "id": "Bdo2tOcHO-xg",
        "outputId": "c68de0a6-b8d0-4a7d-d071-d63f2a5c8a8c"
      },
      "execution_count": 89,
      "outputs": [
        {
          "output_type": "execute_result",
          "data": {
            "text/plain": [
              "FiniteSet(1, 10)"
            ],
            "text/latex": "$\\displaystyle \\left\\{1, 10\\right\\}$"
          },
          "metadata": {},
          "execution_count": 89
        }
      ]
    },
    {
      "cell_type": "code",
      "source": [
        "from sympy import FiniteSet \n",
        "S = FiniteSet(1, 2, 10) \n",
        "T = FiniteSet(1, 3, 10) \n",
        "U = FiniteSet(10, 20, 50) \n",
        "hop = S.union(T).union(U) \n",
        "hop "
      ],
      "metadata": {
        "colab": {
          "base_uri": "https://localhost:8080/",
          "height": 37
        },
        "id": "bb5PXIodPQXP",
        "outputId": "863ed483-7389-4065-92bc-8e4eb3680c02"
      },
      "execution_count": 91,
      "outputs": [
        {
          "output_type": "execute_result",
          "data": {
            "text/plain": [
              "FiniteSet(1, 2, 3, 10, 20, 50)"
            ],
            "text/latex": "$\\displaystyle \\left\\{1, 2, 3, 10, 20, 50\\right\\}$"
          },
          "metadata": {},
          "execution_count": 91
        }
      ]
    },
    {
      "cell_type": "code",
      "source": [
        "giao = S.intersect(T).intersect(U) \n",
        "giao "
      ],
      "metadata": {
        "colab": {
          "base_uri": "https://localhost:8080/",
          "height": 37
        },
        "id": "0gx0NbNSPQRI",
        "outputId": "ca6069fc-28e3-4866-cccb-03b171a3783e"
      },
      "execution_count": 92,
      "outputs": [
        {
          "output_type": "execute_result",
          "data": {
            "text/plain": [
              "FiniteSet(10)"
            ],
            "text/latex": "$\\displaystyle \\left\\{10\\right\\}$"
          },
          "metadata": {},
          "execution_count": 92
        }
      ]
    },
    {
      "cell_type": "code",
      "source": [
        "from sympy import FiniteSet \n",
        "U = FiniteSet(10, 20, 50) \n",
        "V = FiniteSet(1, 2, 5) \n",
        "rong = U.intersect(V) \n",
        "rong "
      ],
      "metadata": {
        "colab": {
          "base_uri": "https://localhost:8080/",
          "height": 37
        },
        "id": "UKTbOaHgPfNr",
        "outputId": "a939f0d0-4edb-42a6-8dfc-1a3cad542ad0"
      },
      "execution_count": 96,
      "outputs": [
        {
          "output_type": "execute_result",
          "data": {
            "text/plain": [
              "EmptySet"
            ],
            "text/latex": "$\\displaystyle \\emptyset$"
          },
          "metadata": {},
          "execution_count": 96
        }
      ]
    },
    {
      "cell_type": "code",
      "source": [
        "rong = V.intersect(U)\n",
        "rong \n",
        "EmptySet()"
      ],
      "metadata": {
        "colab": {
          "base_uri": "https://localhost:8080/",
          "height": 200
        },
        "id": "yg77zaC2Pnxy",
        "outputId": "888e8559-5f69-4365-fabb-3c55b2aa19ad"
      },
      "execution_count": 98,
      "outputs": [
        {
          "output_type": "error",
          "ename": "TypeError",
          "evalue": "ignored",
          "traceback": [
            "\u001b[0;31m---------------------------------------------------------------------------\u001b[0m",
            "\u001b[0;31mTypeError\u001b[0m                                 Traceback (most recent call last)",
            "\u001b[0;32m<ipython-input-98-d687d4d05115>\u001b[0m in \u001b[0;36m<module>\u001b[0;34m()\u001b[0m\n\u001b[1;32m      1\u001b[0m \u001b[0mrong\u001b[0m \u001b[0;34m=\u001b[0m \u001b[0mV\u001b[0m\u001b[0;34m.\u001b[0m\u001b[0mintersect\u001b[0m\u001b[0;34m(\u001b[0m\u001b[0mU\u001b[0m\u001b[0;34m)\u001b[0m\u001b[0;34m\u001b[0m\u001b[0;34m\u001b[0m\u001b[0m\n\u001b[1;32m      2\u001b[0m \u001b[0mrong\u001b[0m\u001b[0;34m\u001b[0m\u001b[0;34m\u001b[0m\u001b[0m\n\u001b[0;32m----> 3\u001b[0;31m \u001b[0mEmptySet\u001b[0m\u001b[0;34m(\u001b[0m\u001b[0;34m)\u001b[0m\u001b[0;34m\u001b[0m\u001b[0;34m\u001b[0m\u001b[0m\n\u001b[0m",
            "\u001b[0;31mTypeError\u001b[0m: 'EmptySet' object is not callable"
          ]
        }
      ]
    },
    {
      "cell_type": "markdown",
      "source": [
        "3.3.2. Tích Descart – Cartesian Product"
      ],
      "metadata": {
        "id": "fGUqi9HwQXo5"
      }
    },
    {
      "cell_type": "code",
      "source": [
        "from sympy import FiniteSet \n",
        "V = FiniteSet(1, 2, 5) \n",
        "P = V ** 2 \n",
        "P"
      ],
      "metadata": {
        "colab": {
          "base_uri": "https://localhost:8080/",
          "height": 38
        },
        "id": "gJpR9n_oQZgM",
        "outputId": "36d155fe-df1e-42d7-a6aa-1bc4dac83893"
      },
      "execution_count": 99,
      "outputs": [
        {
          "output_type": "execute_result",
          "data": {
            "text/plain": [
              "ProductSet(FiniteSet(1, 2, 5), FiniteSet(1, 2, 5))"
            ],
            "text/latex": "$\\displaystyle \\left\\{1, 2, 5\\right\\}^{2}$"
          },
          "metadata": {},
          "execution_count": 99
        }
      ]
    },
    {
      "cell_type": "code",
      "source": [
        "for phantu in P:\n",
        "  print(phantu)"
      ],
      "metadata": {
        "colab": {
          "base_uri": "https://localhost:8080/"
        },
        "id": "jdKLnmxhQhUZ",
        "outputId": "c2ba6010-522f-4d89-e0e4-892b65e73c09"
      },
      "execution_count": 103,
      "outputs": [
        {
          "output_type": "stream",
          "name": "stdout",
          "text": [
            "(1, 1)\n",
            "(2, 1)\n",
            "(1, 2)\n",
            "(5, 1)\n",
            "(2, 2)\n",
            "(1, 5)\n",
            "(5, 2)\n",
            "(2, 5)\n",
            "(5, 5)\n"
          ]
        }
      ]
    },
    {
      "cell_type": "markdown",
      "source": [
        "3.3.3. Áp dụng công thức cho tập nhiều biến"
      ],
      "metadata": {
        "id": "Reo21-UjQrS5"
      }
    },
    {
      "cell_type": "code",
      "source": [
        "from sympy import FiniteSet \n",
        "K = FiniteSet(35, 18, 27, 29, 24) \n",
        "for k in K: \n",
        "  T = k/10.0 \n",
        "  print (T, k)"
      ],
      "metadata": {
        "colab": {
          "base_uri": "https://localhost:8080/"
        },
        "id": "3Qcizrq7QsxL",
        "outputId": "d3f96eee-cb99-4522-ed1f-f4c968a916d5"
      },
      "execution_count": 104,
      "outputs": [
        {
          "output_type": "stream",
          "name": "stdout",
          "text": [
            "1.80000000000000 18\n",
            "2.40000000000000 24\n",
            "2.70000000000000 27\n",
            "2.90000000000000 29\n",
            "3.50000000000000 35\n"
          ]
        }
      ]
    },
    {
      "cell_type": "markdown",
      "source": [
        "3.3.4. Ứng dụng: Tính toán xác suất sự kiện A và sự kiện B cùng xảy ra"
      ],
      "metadata": {
        "id": "Z2S9OqQVQ0Uu"
      }
    },
    {
      "cell_type": "code",
      "source": [
        "from sympy import FiniteSet \n",
        "S = FiniteSet(0, 1, 2, 3, 4, 5, 6, 7, 8, 9) \n",
        "A = FiniteSet(2, 3, 5, 7)\n",
        "B = FiniteSet(1, 3, 5, 7, 9)  \n",
        "E = A.intersect(B) \n",
        "len(E)/len(S)"
      ],
      "metadata": {
        "colab": {
          "base_uri": "https://localhost:8080/"
        },
        "id": "BpkeF0-nQ2aS",
        "outputId": "ebfdc731-56da-4cfb-adfa-18871285e02f"
      },
      "execution_count": 106,
      "outputs": [
        {
          "output_type": "execute_result",
          "data": {
            "text/plain": [
              "0.3"
            ]
          },
          "metadata": {},
          "execution_count": 106
        }
      ]
    }
  ]
}