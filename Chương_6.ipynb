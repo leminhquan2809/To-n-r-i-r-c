{
  "nbformat": 4,
  "nbformat_minor": 0,
  "metadata": {
    "colab": {
      "name": "Chương 6.ipynb",
      "provenance": [],
      "collapsed_sections": [],
      "authorship_tag": "ABX9TyN/GJ4iztvKSIyC5flEJA14",
      "include_colab_link": true
    },
    "kernelspec": {
      "name": "python3",
      "display_name": "Python 3"
    },
    "language_info": {
      "name": "python"
    }
  },
  "cells": [
    {
      "cell_type": "markdown",
      "metadata": {
        "id": "view-in-github",
        "colab_type": "text"
      },
      "source": [
        "<a href=\"https://colab.research.google.com/github/leminhquan2809/ToanRoiRac/blob/main/Ch%C6%B0%C6%A1ng_6.ipynb\" target=\"_parent\"><img src=\"https://colab.research.google.com/assets/colab-badge.svg\" alt=\"Open In Colab\"/></a>"
      ]
    },
    {
      "cell_type": "markdown",
      "source": [
        "# Cơ bản về đại số Bool với Python "
      ],
      "metadata": {
        "id": "Dv6Qx-PETbWe"
      }
    },
    {
      "cell_type": "code",
      "execution_count": 1,
      "metadata": {
        "id": "AZh4LRMZTWCa"
      },
      "outputs": [],
      "source": [
        "def bool_xy(x, y): \n",
        "  kq = 0 \n",
        "  if (x==1) and (y==1): \n",
        "    kq = 0 \n",
        "  if (x==1) and (y==0): \n",
        "    kq = 1 \n",
        "  if (x==0) and (y==1): \n",
        "    kq = 0 \n",
        "  if (x==0) and (y==0): \n",
        "    kq = 0 \n",
        "  return kq "
      ]
    },
    {
      "cell_type": "code",
      "source": [
        "for x in [1,0]: \n",
        "  for y in [1,0]: \n",
        "    print (bool_xy(x,y))"
      ],
      "metadata": {
        "colab": {
          "base_uri": "https://localhost:8080/"
        },
        "id": "8Uml4fgvTumT",
        "outputId": "5bbfe9e5-6503-43be-cb09-b21635deb804"
      },
      "execution_count": 2,
      "outputs": [
        {
          "output_type": "stream",
          "name": "stdout",
          "text": [
            "0\n",
            "1\n",
            "0\n",
            "0\n"
          ]
        }
      ]
    },
    {
      "cell_type": "code",
      "source": [
        "def bool_xy1(x,y): \n",
        "  kq = 0 \n",
        "  if (x == 1) and (y==0): \n",
        "    kq = 1 \n",
        "  return kq"
      ],
      "metadata": {
        "id": "7rI9FnqgT1R2"
      },
      "execution_count": 4,
      "outputs": []
    },
    {
      "cell_type": "code",
      "source": [
        "for x in [1,0]: \n",
        "  for y in [1,0]: \n",
        "    print (bool_xy(x,y))"
      ],
      "metadata": {
        "colab": {
          "base_uri": "https://localhost:8080/"
        },
        "id": "xqYTtgfGT6kB",
        "outputId": "593f4032-6b19-4a76-c6a7-ea902a568de8"
      },
      "execution_count": 5,
      "outputs": [
        {
          "output_type": "stream",
          "name": "stdout",
          "text": [
            "0\n",
            "1\n",
            "0\n",
            "0\n"
          ]
        }
      ]
    },
    {
      "cell_type": "markdown",
      "source": [
        "#  Ví dụ: Mạch điện đèn điều khiển tín hiệu giao thông"
      ],
      "metadata": {
        "id": "MAibhHKhUCBt"
      }
    },
    {
      "cell_type": "code",
      "source": [
        "trang_thai = 's0'\n",
        "\n",
        "def chuyen(tin_hieu):\n",
        "  global trang_thai\n",
        "  if trang_thai == 's0':\n",
        "    if tin_hieu == 0:\n",
        "      print('0 - s0')\n",
        "      trang_thai = 's0'\n",
        "    elif tin_hieu == 1:\n",
        "      print('1 - s1')\n",
        "      trang_thai = 's1'\n",
        "  elif trang_thai == 's1':\n",
        "    if tin_hieu == 0:\n",
        "      print('0 - s1')\n",
        "      trang_thai = 's1'\n",
        "    elif tin_hieu == 1:\n",
        "      print('1 - s2')\n",
        "      trang_thai = 's2' \n",
        "  elif trang_thai == 's2':\n",
        "    if tin_hieu == 0:\n",
        "      print('0 - s2')\n",
        "      trang_thai = 's2'\n",
        "    elif tin_hieu == 1:\n",
        "      print('1 - s0')\n",
        "      trang_thai = 's0' "
      ],
      "metadata": {
        "id": "ab6Hu_RlUETA"
      },
      "execution_count": 6,
      "outputs": []
    },
    {
      "cell_type": "code",
      "source": [
        "tap_tinhieu = [1, 0, 1, 0, 1, 1, 0 , 0, 1] \n",
        "for i in tap_tinhieu: \n",
        "  chuyen(i) "
      ],
      "metadata": {
        "colab": {
          "base_uri": "https://localhost:8080/"
        },
        "id": "1-1JTkFPVO3z",
        "outputId": "53c5e188-1cdf-4932-c3a6-358ee6c317e0"
      },
      "execution_count": 7,
      "outputs": [
        {
          "output_type": "stream",
          "name": "stdout",
          "text": [
            "1 - s1\n",
            "0 - s1\n",
            "1 - s2\n",
            "0 - s2\n",
            "1 - s0\n",
            "1 - s1\n",
            "0 - s1\n",
            "0 - s1\n",
            "1 - s2\n"
          ]
        }
      ]
    },
    {
      "cell_type": "code",
      "source": [
        "trang_thai = \"s0\" \n",
        "trangthai_ke = { 's0': ['s0', 's1'], \n",
        "                 's1': ['s1', 's2'], \n",
        "                 's2': ['s2', 's0']}\n",
        "ket_qua = { 's0': [ 0, 1], \n",
        "            's1': [ 0, 1], \n",
        "            's2': [ 0, 1]} "
      ],
      "metadata": {
        "id": "b98cEhbSVXgN"
      },
      "execution_count": 8,
      "outputs": []
    },
    {
      "cell_type": "code",
      "source": [
        "def chuyen_trangthai(tin_hieu):\n",
        "  global trang_thai\n",
        "  chuoi_in = str(ket_qua[trang_thai][tin_hieu])\n",
        "  chuoi_in = chuoi_in + '-' + trangthai_ke[trang_thai][tin_hieu]\n",
        "  print(chuoi_in)\n",
        "  trang_thai = trangthai_ke[trang_thai][tin_hieu]"
      ],
      "metadata": {
        "id": "jOWvBmFPVn29"
      },
      "execution_count": 9,
      "outputs": []
    },
    {
      "cell_type": "code",
      "source": [
        "tap_tinhieu = [1, 0, 1, 0, 1, 1, 0 , 0, 1] \n",
        "for i in tap_tinhieu: \n",
        "  chuyen_trangthai(i)"
      ],
      "metadata": {
        "colab": {
          "base_uri": "https://localhost:8080/"
        },
        "id": "ofQ1uZjxWLhI",
        "outputId": "c41ad596-c2ff-451c-f422-ea2bcde49635"
      },
      "execution_count": 10,
      "outputs": [
        {
          "output_type": "stream",
          "name": "stdout",
          "text": [
            "1-s1\n",
            "0-s1\n",
            "1-s2\n",
            "0-s2\n",
            "1-s0\n",
            "1-s1\n",
            "0-s1\n",
            "0-s1\n",
            "1-s2\n"
          ]
        }
      ]
    },
    {
      "cell_type": "markdown",
      "source": [
        "# Xây dựng chương trình kiểm tra ngữ pháp đơn giản"
      ],
      "metadata": {
        "id": "UGbrfXvBWYbc"
      }
    },
    {
      "cell_type": "code",
      "source": [
        "class StateMachine: \n",
        "  def __init__(self): \n",
        "    self.tap_xuly = {} \n",
        "    self.trangthaiBatdau = None \n",
        "    self.trangthaiKetThuc = [] \n",
        "  def them_Trangthai(self, trangthai, xuly, trangthai_ketthuc = 0): \n",
        "    trangthai = trangthai.upper() \n",
        "    self.tap_xuly[trangthai] = xuly \n",
        "    if trangthai_ketthuc: \n",
        "      self.trangthaiKetThuc.append(trangthai)\n",
        "    def thietlap_TrangthaiBatdau(self, trangthai): \n",
        "      self.trangthaiBatdau = trangthai.upper() \n",
        "    def thucthi(self, dauvao): \n",
        "      try: \n",
        "        xuly = self.tap_xuly[self.trangthaiBatdau] \n",
        "      except: \n",
        "        raise InitializationError(\"Phai gÍi .thietlap_TrangthaiBatdau() truoc khi goi .thucthi() \") \n",
        "      if not self.trangthaiKetThuc: \n",
        "        raise InitializationError(\"ÍT nhất 1 trạng thái phải là trạng thái kết thúc\") \n",
        "      while True: \n",
        "        (TrangThaiMoi, dauvao) = xuly(dauvao) \n",
        "        if TrangThaiMoi.upper() in self.trangthaiKetThuc: \n",
        "          print (\"Đến đích! \", TrangThaiMoi) \n",
        "          break \n",
        "      else: \n",
        "        xuly = self.tap_xuly[TrangThaiMoi.upper()]"
      ],
      "metadata": {
        "id": "6jvvvlMGWcME"
      },
      "execution_count": 13,
      "outputs": []
    },
    {
      "cell_type": "code",
      "source": [
        "from statemachine import StateMachine \n",
        "tinhtu_tichcuc = [\"vi_dai\", \"sieu\", \"vui\", \"de\", \"giai_tri\"] # danh sách tính từ tích cực \n",
        "tinhtu_tieucuc = [\"chan\", \"kho\", \"xau\", \"kem\"]"
      ],
      "metadata": {
        "id": "vtOZySMZXUdp"
      },
      "execution_count": null,
      "outputs": []
    },
    {
      "cell_type": "code",
      "source": [
        "def trangthai_bandau(txt):\n",
        "  splitted_txt = txt.split(None, 1) \n",
        "  tu, txt = splitted_txt if len(splitted_txt) > 1 else (txt, \"\") \n",
        "  if tu == \"Python\": \n",
        "    trangthaimoi = \"Python_state\" \n",
        "  else: \n",
        "    trangthaimoi = \"error_state\" \n",
        "  return (trangthaimoi, txt)"
      ],
      "metadata": {
        "id": "mQ9SZMf9XUXO"
      },
      "execution_count": 17,
      "outputs": []
    },
    {
      "cell_type": "code",
      "source": [
        "def trangthai_python(txt):\n",
        "  splitted_txt = txt.split(None, 1) \n",
        "  tu, txt = splitted_txt if len(splitted_txt) > 1 else (txt, \"\") \n",
        "  if tu == \"is\":  \n",
        "    trangthaimoi = \"is_state\" \n",
        "  else: \n",
        "    trangthaimoi = \"error_state\"\n",
        "  return (trangthaimoi, txt)"
      ],
      "metadata": {
        "id": "vZ_sy7YBXsnZ"
      },
      "execution_count": 15,
      "outputs": []
    },
    {
      "cell_type": "code",
      "source": [
        "def trangthai_is_chuyentrangthai(txt): \n",
        "  splitted_txt = txt.split(None, 1) \n",
        "  tu, txt = splitted_txt if len(splitted_txt) > 1 else (txt, \"\") \n",
        "  if tu == \"not\": \n",
        "    trangthaimoi = \"not_state\" \n",
        "  elif tu in tinhtu_tichcuc: \n",
        "    trangthaimoi = \"pos_state\" \n",
        "  elif tu in tinhtu_tieucuc: \n",
        "    trangthaimoi = \"neg_state\" \n",
        "  else: \n",
        "    trangthaimoi = \"error_state\" \n",
        "  return (trangthaimoi, txt)"
      ],
      "metadata": {
        "id": "ME_HJdFAX5ym"
      },
      "execution_count": 14,
      "outputs": []
    },
    {
      "cell_type": "code",
      "source": [
        "def trangthai_isnot_chuyentrangthai(txt): \n",
        "  splitted_txt = txt.split(None, 1) \n",
        "  tu, txt = splitted_txt if len(splitted_txt) > 1 else (txt, \"\") \n",
        "  if tu in tinhtu_tichcuc: \n",
        "    trangthaimoi = \"pos_state\"\n",
        "  elif tu in tinhtu_tieucuc: \n",
        "    trangthaimoi = \"neg_state\" \n",
        "  else: \n",
        "    trangthaimoi = \"error_state\" \n",
        "  return (trangthaimoi, txt) "
      ],
      "metadata": {
        "id": "8o81ca_7Yihv"
      },
      "execution_count": 22,
      "outputs": []
    },
    {
      "cell_type": "code",
      "source": [
        "def neg_state(txt): \n",
        "  print (\"Chao!\") \n",
        "  return (\"neg_state\",\"\") "
      ],
      "metadata": {
        "id": "qBu3fUjTYqdA"
      },
      "execution_count": 21,
      "outputs": []
    },
    {
      "cell_type": "code",
      "source": [
        "if __name__ == \"__main__\": \n",
        "  m = StateMachine() \n",
        "  m.them_Trangthai(\"Start\", trangthai_baudau) \n",
        "  m.them_Trangthai(\"Python_state\", trangthai_python) \n",
        "  m.them_Trangthai(\"is_state\", trangthai_is_chuyentrangthai) \n",
        "  m.them_Trangthai(\"not_state\", trangthai_isnot_chuyentrangthai)\n",
        "  m.them_Trangthai(\"neg_state\", None, trangthai_ketthuc = 1) \n",
        "  m.them_Trangthai(\"pos_state\", None, trangthai_ketthuc = 1) \n",
        "  m.them_Trangthai(\"error_state\", None, trangthai_ketthuc = 1) \n",
        "\n",
        "  m.thietlap_TrangthaiBatdau(\"Start\")  \n",
        "\n",
        "  m.thucthi(\"Python is vi_dai\") \n",
        "  m.thucthi(\"Python is kho\") \n",
        "  m.thucthi(\"Python is xau\") \n",
        "  m.thucthi(\"Python is xao\") "
      ],
      "metadata": {
        "id": "6ECu1qIYYsts"
      },
      "execution_count": null,
      "outputs": []
    }
  ]
}