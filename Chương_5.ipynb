{
  "nbformat": 4,
  "nbformat_minor": 0,
  "metadata": {
    "colab": {
      "name": "Chương 5.ipynb",
      "provenance": [],
      "collapsed_sections": [],
      "authorship_tag": "ABX9TyPT7813mCk8Nz9pGJnrI47G",
      "include_colab_link": true
    },
    "kernelspec": {
      "name": "python3",
      "display_name": "Python 3"
    },
    "language_info": {
      "name": "python"
    }
  },
  "cells": [
    {
      "cell_type": "markdown",
      "metadata": {
        "id": "view-in-github",
        "colab_type": "text"
      },
      "source": [
        "<a href=\"https://colab.research.google.com/github/leminhquan2809/ToanRoiRac/blob/main/Ch%C6%B0%C6%A1ng_5.ipynb\" target=\"_parent\"><img src=\"https://colab.research.google.com/assets/colab-badge.svg\" alt=\"Open In Colab\"/></a>"
      ]
    },
    {
      "cell_type": "markdown",
      "source": [
        "# Dẫn nhập: Bài toán nói dối – nói thật: Knights và Knaves "
      ],
      "metadata": {
        "id": "lwXjYqUjqBoQ"
      }
    },
    {
      "cell_type": "code",
      "execution_count": 6,
      "metadata": {
        "id": "8H8tnIwipuvC"
      },
      "outputs": [],
      "source": [
        "James = [True, True, True, True, False, False, False, True] \n",
        "Jonathan =[True, True, True, True, False, False, False, True] \n",
        "ngay_trong_tuan = [\"Thứ 2\", \"Thứ 3\", \"Thứ 4\", \"Thứ 5\", \"Thứ 6\", \"Thứ 7\", \"Chủ nhật\", \n",
        "\"Thứ 2\"]"
      ]
    },
    {
      "cell_type": "markdown",
      "source": [
        "Code chưa rút gọn"
      ],
      "metadata": {
        "id": "k4Mi7azwr1q3"
      }
    },
    {
      "cell_type": "code",
      "source": [
        "for i in range(0,6):\n",
        "  if((James[i] == True and James[i+1] == False)\n",
        "    or((James[i] == False and James[i+1] == True))):\n",
        "      if((Jonathan[i] == True and Jonathan[i+1] == False)\n",
        "        or((Jonathan[i] == False and Jonathan[i+1] == True))):\n",
        "          print(ngay_trong_tuan[i])"
      ],
      "metadata": {
        "colab": {
          "base_uri": "https://localhost:8080/"
        },
        "id": "GC4LmQ-qr1Jk",
        "outputId": "0eecfaa9-580b-42b7-ed4d-e7ba50ce7d55"
      },
      "execution_count": 7,
      "outputs": [
        {
          "output_type": "stream",
          "name": "stdout",
          "text": [
            "Thứ 5\n"
          ]
        }
      ]
    },
    {
      "cell_type": "markdown",
      "source": [
        "Code rút gọn "
      ],
      "metadata": {
        "id": "bLd_zinQrwqH"
      }
    },
    {
      "cell_type": "code",
      "source": [
        "for i in range(0,6): \n",
        "  if ((James[i] and not James[i+1]) and (Jonathan[i] and not Jonathan[i+1])): \n",
        "    print(ngay_trong_tuan[i])"
      ],
      "metadata": {
        "colab": {
          "base_uri": "https://localhost:8080/"
        },
        "id": "ZBoAXbNsrpSQ",
        "outputId": "8498bc8a-4c2e-41ff-e3b3-56f72cd90987"
      },
      "execution_count": 5,
      "outputs": [
        {
          "output_type": "stream",
          "name": "stdout",
          "text": [
            "Thứ 5\n"
          ]
        }
      ]
    },
    {
      "cell_type": "markdown",
      "source": [
        "# Tóm lược: Quan hệ trên các tập hợp và biểu diễn quan hệ"
      ],
      "metadata": {
        "id": "WzgfKIwfr-ho"
      }
    },
    {
      "cell_type": "code",
      "source": [
        "import random\n",
        "S = random.sample(range(1, 100), 10) \n",
        "print (S) "
      ],
      "metadata": {
        "colab": {
          "base_uri": "https://localhost:8080/"
        },
        "id": "BFIicgGPsIwx",
        "outputId": "6614de31-0bba-4bec-8424-689bcf69dbb4"
      },
      "execution_count": 8,
      "outputs": [
        {
          "output_type": "stream",
          "name": "stdout",
          "text": [
            "[54, 60, 38, 86, 62, 89, 42, 3, 77, 35]\n"
          ]
        }
      ]
    },
    {
      "cell_type": "code",
      "source": [
        "tS = [] \n",
        "for i in range(len(S)): \n",
        "  tS.append(0) \n",
        "  for j in range(i, len(S)): \n",
        "    if S[i] < S[j]:\n",
        "      tS[i] = tS[i] + 1 \n",
        "print(tS)"
      ],
      "metadata": {
        "colab": {
          "base_uri": "https://localhost:8080/"
        },
        "id": "K65hRFxPsOi5",
        "outputId": "3fac3f78-17fc-4d7f-bf08-3df8639ba100"
      },
      "execution_count": 9,
      "outputs": [
        {
          "output_type": "stream",
          "name": "stdout",
          "text": [
            "[5, 4, 5, 1, 2, 0, 1, 2, 0, 0]\n"
          ]
        }
      ]
    }
  ]
}