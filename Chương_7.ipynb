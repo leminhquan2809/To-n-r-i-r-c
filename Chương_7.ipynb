{
  "nbformat": 4,
  "nbformat_minor": 0,
  "metadata": {
    "colab": {
      "name": "Chương 7.ipynb",
      "provenance": [],
      "collapsed_sections": [],
      "authorship_tag": "ABX9TyOmi7b5Xpq2qs9Nir8ABxwY",
      "include_colab_link": true
    },
    "kernelspec": {
      "name": "python3",
      "display_name": "Python 3"
    },
    "language_info": {
      "name": "python"
    }
  },
  "cells": [
    {
      "cell_type": "markdown",
      "metadata": {
        "id": "view-in-github",
        "colab_type": "text"
      },
      "source": [
        "<a href=\"https://colab.research.google.com/github/leminhquan2809/ToanRoiRac/blob/main/Ch%C6%B0%C6%A1ng_7.ipynb\" target=\"_parent\"><img src=\"https://colab.research.google.com/assets/colab-badge.svg\" alt=\"Open In Colab\"/></a>"
      ]
    },
    {
      "cell_type": "markdown",
      "source": [
        "# Tạo lập đồ thị vô hướng với networkx "
      ],
      "metadata": {
        "id": "4R-hb03DTAzm"
      }
    },
    {
      "cell_type": "code",
      "execution_count": 2,
      "metadata": {
        "colab": {
          "base_uri": "https://localhost:8080/"
        },
        "id": "QErCmxTIQR2y",
        "outputId": "b526320e-3564-4555-ad7d-27e19fdad9b2"
      },
      "outputs": [
        {
          "output_type": "stream",
          "name": "stdout",
          "text": [
            "6\n"
          ]
        }
      ],
      "source": [
        "import networkx as nx\n",
        "g = nx.Graph()\n",
        "g.add_node('TP.HCM')\n",
        "g.add_node('Dong Nai')\n",
        "g.add_node('Ba Ria Vung Tau')\n",
        "g.add_node('Lam Dong')\n",
        "g.add_node('Can Tho')\n",
        "g.add_node('Long An')\n",
        "g.add_edge('TP.HCM', 'Dong Nai')\n",
        "g.add_edge('TP.HCM', 'Ba Ria Vung Tau')\n",
        "g.add_edge('TP.HCM', 'Long An')\n",
        "g.add_edge('Dong Nai', 'Lam Dong')\n",
        "g.add_edge('Dong Nai', 'Ba Ria Vung Tau')\n",
        "print (g.number_of_nodes())"
      ]
    },
    {
      "cell_type": "code",
      "source": [
        "print (g.number_of_edges())"
      ],
      "metadata": {
        "colab": {
          "base_uri": "https://localhost:8080/"
        },
        "id": "hk6C9civRzVB",
        "outputId": "e5d3927d-da56-48db-e6ef-f379203d69b9"
      },
      "execution_count": 3,
      "outputs": [
        {
          "output_type": "stream",
          "name": "stdout",
          "text": [
            "5\n"
          ]
        }
      ]
    },
    {
      "cell_type": "code",
      "source": [
        "print (g.nodes())"
      ],
      "metadata": {
        "colab": {
          "base_uri": "https://localhost:8080/"
        },
        "id": "iX4ZgEojR71A",
        "outputId": "3597bc4f-983f-42eb-b3e9-2f62d6e45800"
      },
      "execution_count": 4,
      "outputs": [
        {
          "output_type": "stream",
          "name": "stdout",
          "text": [
            "['TP.HCM', 'Dong Nai', 'Ba Ria Vung Tau', 'Lam Dong', 'Can Tho', 'Long An']\n"
          ]
        }
      ]
    },
    {
      "cell_type": "code",
      "source": [
        "print (g.edges())"
      ],
      "metadata": {
        "colab": {
          "base_uri": "https://localhost:8080/"
        },
        "id": "SUF4vfd4R-r4",
        "outputId": "27e51be5-7214-4b55-b216-630446570cd0"
      },
      "execution_count": 5,
      "outputs": [
        {
          "output_type": "stream",
          "name": "stdout",
          "text": [
            "[('TP.HCM', 'Dong Nai'), ('TP.HCM', 'Ba Ria Vung Tau'), ('TP.HCM', 'Long An'), ('Dong Nai', 'Lam Dong'), ('Dong Nai', 'Ba Ria Vung Tau')]\n"
          ]
        }
      ]
    },
    {
      "cell_type": "code",
      "source": [
        " print (g.degree('TP.HCM'))"
      ],
      "metadata": {
        "colab": {
          "base_uri": "https://localhost:8080/"
        },
        "id": "T4KtDzFBSCvh",
        "outputId": "9af96bb6-cad1-4d56-e013-06532beeced4"
      },
      "execution_count": 6,
      "outputs": [
        {
          "output_type": "stream",
          "name": "stdout",
          "text": [
            "3\n"
          ]
        }
      ]
    },
    {
      "cell_type": "code",
      "source": [
        "print (list(g.neighbors('TP.HCM')))"
      ],
      "metadata": {
        "colab": {
          "base_uri": "https://localhost:8080/"
        },
        "id": "nRzZUo_wSG04",
        "outputId": "b0612502-7caa-4796-cb26-a80ddaca1454"
      },
      "execution_count": 7,
      "outputs": [
        {
          "output_type": "stream",
          "name": "stdout",
          "text": [
            "['Dong Nai', 'Ba Ria Vung Tau', 'Long An']\n"
          ]
        }
      ]
    },
    {
      "cell_type": "code",
      "source": [
        "g.has_edge('Lam Dong', 'Long An')"
      ],
      "metadata": {
        "colab": {
          "base_uri": "https://localhost:8080/"
        },
        "id": "-qU_0sDpSI3D",
        "outputId": "985b503d-c93a-4f3b-a5eb-3a9a98f87b95"
      },
      "execution_count": 9,
      "outputs": [
        {
          "output_type": "execute_result",
          "data": {
            "text/plain": [
              "False"
            ]
          },
          "metadata": {},
          "execution_count": 9
        }
      ]
    },
    {
      "cell_type": "code",
      "source": [
        "nx.shortest_path(g, 'Lam Dong', 'Long An') "
      ],
      "metadata": {
        "colab": {
          "base_uri": "https://localhost:8080/"
        },
        "id": "wBWhf3k0SMZX",
        "outputId": "6b1b0c37-c1d9-4402-be77-b83880585446"
      },
      "execution_count": 10,
      "outputs": [
        {
          "output_type": "execute_result",
          "data": {
            "text/plain": [
              "['Lam Dong', 'Dong Nai', 'TP.HCM', 'Long An']"
            ]
          },
          "metadata": {},
          "execution_count": 10
        }
      ]
    },
    {
      "cell_type": "code",
      "source": [
        "nx.shortest_path(g, 'Lam Dong', 'Can Tho')"
      ],
      "metadata": {
        "colab": {
          "base_uri": "https://localhost:8080/",
          "height": 311
        },
        "id": "omAsJ8leSP5i",
        "outputId": "e2babfb6-bafb-42f0-cd30-bc22ea491e0b"
      },
      "execution_count": 11,
      "outputs": [
        {
          "output_type": "error",
          "ename": "NetworkXNoPath",
          "evalue": "ignored",
          "traceback": [
            "\u001b[0;31m---------------------------------------------------------------------------\u001b[0m",
            "\u001b[0;31mNetworkXNoPath\u001b[0m                            Traceback (most recent call last)",
            "\u001b[0;32m<ipython-input-11-10e73aac47db>\u001b[0m in \u001b[0;36m<module>\u001b[0;34m()\u001b[0m\n\u001b[0;32m----> 1\u001b[0;31m \u001b[0mnx\u001b[0m\u001b[0;34m.\u001b[0m\u001b[0mshortest_path\u001b[0m\u001b[0;34m(\u001b[0m\u001b[0mg\u001b[0m\u001b[0;34m,\u001b[0m \u001b[0;34m'Lam Dong'\u001b[0m\u001b[0;34m,\u001b[0m \u001b[0;34m'Can Tho'\u001b[0m\u001b[0;34m)\u001b[0m\u001b[0;34m\u001b[0m\u001b[0;34m\u001b[0m\u001b[0m\n\u001b[0m",
            "\u001b[0;32m/usr/local/lib/python3.7/dist-packages/networkx/algorithms/shortest_paths/generic.py\u001b[0m in \u001b[0;36mshortest_path\u001b[0;34m(G, source, target, weight, method)\u001b[0m\n\u001b[1;32m    158\u001b[0m             \u001b[0;31m# Find shortest source-target path.\u001b[0m\u001b[0;34m\u001b[0m\u001b[0;34m\u001b[0m\u001b[0;34m\u001b[0m\u001b[0m\n\u001b[1;32m    159\u001b[0m             \u001b[0;32mif\u001b[0m \u001b[0mmethod\u001b[0m \u001b[0;34m==\u001b[0m \u001b[0;34m\"unweighted\"\u001b[0m\u001b[0;34m:\u001b[0m\u001b[0;34m\u001b[0m\u001b[0;34m\u001b[0m\u001b[0m\n\u001b[0;32m--> 160\u001b[0;31m                 \u001b[0mpaths\u001b[0m \u001b[0;34m=\u001b[0m \u001b[0mnx\u001b[0m\u001b[0;34m.\u001b[0m\u001b[0mbidirectional_shortest_path\u001b[0m\u001b[0;34m(\u001b[0m\u001b[0mG\u001b[0m\u001b[0;34m,\u001b[0m \u001b[0msource\u001b[0m\u001b[0;34m,\u001b[0m \u001b[0mtarget\u001b[0m\u001b[0;34m)\u001b[0m\u001b[0;34m\u001b[0m\u001b[0;34m\u001b[0m\u001b[0m\n\u001b[0m\u001b[1;32m    161\u001b[0m             \u001b[0;32melif\u001b[0m \u001b[0mmethod\u001b[0m \u001b[0;34m==\u001b[0m \u001b[0;34m\"dijkstra\"\u001b[0m\u001b[0;34m:\u001b[0m\u001b[0;34m\u001b[0m\u001b[0;34m\u001b[0m\u001b[0m\n\u001b[1;32m    162\u001b[0m                 \u001b[0m_\u001b[0m\u001b[0;34m,\u001b[0m \u001b[0mpaths\u001b[0m \u001b[0;34m=\u001b[0m \u001b[0mnx\u001b[0m\u001b[0;34m.\u001b[0m\u001b[0mbidirectional_dijkstra\u001b[0m\u001b[0;34m(\u001b[0m\u001b[0mG\u001b[0m\u001b[0;34m,\u001b[0m \u001b[0msource\u001b[0m\u001b[0;34m,\u001b[0m \u001b[0mtarget\u001b[0m\u001b[0;34m,\u001b[0m \u001b[0mweight\u001b[0m\u001b[0;34m)\u001b[0m\u001b[0;34m\u001b[0m\u001b[0;34m\u001b[0m\u001b[0m\n",
            "\u001b[0;32m/usr/local/lib/python3.7/dist-packages/networkx/algorithms/shortest_paths/unweighted.py\u001b[0m in \u001b[0;36mbidirectional_shortest_path\u001b[0;34m(G, source, target)\u001b[0m\n\u001b[1;32m    222\u001b[0m \u001b[0;34m\u001b[0m\u001b[0m\n\u001b[1;32m    223\u001b[0m     \u001b[0;31m# call helper to do the real work\u001b[0m\u001b[0;34m\u001b[0m\u001b[0;34m\u001b[0m\u001b[0;34m\u001b[0m\u001b[0m\n\u001b[0;32m--> 224\u001b[0;31m     \u001b[0mresults\u001b[0m \u001b[0;34m=\u001b[0m \u001b[0m_bidirectional_pred_succ\u001b[0m\u001b[0;34m(\u001b[0m\u001b[0mG\u001b[0m\u001b[0;34m,\u001b[0m \u001b[0msource\u001b[0m\u001b[0;34m,\u001b[0m \u001b[0mtarget\u001b[0m\u001b[0;34m)\u001b[0m\u001b[0;34m\u001b[0m\u001b[0;34m\u001b[0m\u001b[0m\n\u001b[0m\u001b[1;32m    225\u001b[0m     \u001b[0mpred\u001b[0m\u001b[0;34m,\u001b[0m \u001b[0msucc\u001b[0m\u001b[0;34m,\u001b[0m \u001b[0mw\u001b[0m \u001b[0;34m=\u001b[0m \u001b[0mresults\u001b[0m\u001b[0;34m\u001b[0m\u001b[0;34m\u001b[0m\u001b[0m\n\u001b[1;32m    226\u001b[0m \u001b[0;34m\u001b[0m\u001b[0m\n",
            "\u001b[0;32m/usr/local/lib/python3.7/dist-packages/networkx/algorithms/shortest_paths/unweighted.py\u001b[0m in \u001b[0;36m_bidirectional_pred_succ\u001b[0;34m(G, source, target)\u001b[0m\n\u001b[1;32m    290\u001b[0m                         \u001b[0;32mreturn\u001b[0m \u001b[0mpred\u001b[0m\u001b[0;34m,\u001b[0m \u001b[0msucc\u001b[0m\u001b[0;34m,\u001b[0m \u001b[0mw\u001b[0m\u001b[0;34m\u001b[0m\u001b[0;34m\u001b[0m\u001b[0m\n\u001b[1;32m    291\u001b[0m \u001b[0;34m\u001b[0m\u001b[0m\n\u001b[0;32m--> 292\u001b[0;31m     \u001b[0;32mraise\u001b[0m \u001b[0mnx\u001b[0m\u001b[0;34m.\u001b[0m\u001b[0mNetworkXNoPath\u001b[0m\u001b[0;34m(\u001b[0m\u001b[0;34mf\"No path between {source} and {target}.\"\u001b[0m\u001b[0;34m)\u001b[0m\u001b[0;34m\u001b[0m\u001b[0;34m\u001b[0m\u001b[0m\n\u001b[0m\u001b[1;32m    293\u001b[0m \u001b[0;34m\u001b[0m\u001b[0m\n\u001b[1;32m    294\u001b[0m \u001b[0;34m\u001b[0m\u001b[0m\n",
            "\u001b[0;31mNetworkXNoPath\u001b[0m: No path between Lam Dong and Can Tho."
          ]
        }
      ]
    },
    {
      "cell_type": "code",
      "source": [
        "g.add_node('Tien Giang')\n",
        "g.add_edge('Tien Giang', 'Long An')\n",
        "g.add_edge('Tien Giang', 'Can Tho')\n",
        "nx.shortest_path(g, 'Lam Dong', 'Can Tho')"
      ],
      "metadata": {
        "colab": {
          "base_uri": "https://localhost:8080/"
        },
        "id": "iIEaeiV4SXcr",
        "outputId": "c688455b-4f28-4f08-bfef-6a98b9ef5618"
      },
      "execution_count": 12,
      "outputs": [
        {
          "output_type": "execute_result",
          "data": {
            "text/plain": [
              "['Lam Dong', 'Dong Nai', 'TP.HCM', 'Long An', 'Tien Giang', 'Can Tho']"
            ]
          },
          "metadata": {},
          "execution_count": 12
        }
      ]
    },
    {
      "cell_type": "code",
      "source": [
        "nx.shortest_path_length(g, 'Lam Dong', 'Ba Ria Vung Tau')"
      ],
      "metadata": {
        "colab": {
          "base_uri": "https://localhost:8080/"
        },
        "id": "MmyRzEv8SXYE",
        "outputId": "f32e1d07-003e-4b1d-f683-9b4ae592add7"
      },
      "execution_count": 13,
      "outputs": [
        {
          "output_type": "execute_result",
          "data": {
            "text/plain": [
              "2"
            ]
          },
          "metadata": {},
          "execution_count": 13
        }
      ]
    },
    {
      "cell_type": "code",
      "source": [
        "nx.shortest_path_length(g, 'Dong Nai', 'Ba Ria Vung Tau')"
      ],
      "metadata": {
        "colab": {
          "base_uri": "https://localhost:8080/"
        },
        "id": "mEZ5xdHRSmVG",
        "outputId": "6d86fe85-90c5-4634-a3f3-d2e5bd86979c"
      },
      "execution_count": 14,
      "outputs": [
        {
          "output_type": "execute_result",
          "data": {
            "text/plain": [
              "1"
            ]
          },
          "metadata": {},
          "execution_count": 14
        }
      ]
    },
    {
      "cell_type": "code",
      "source": [
        "nx.shortest_path_length(g, 'Lam Dong', 'Long An')"
      ],
      "metadata": {
        "colab": {
          "base_uri": "https://localhost:8080/"
        },
        "id": "PNE2_B-sSnN1",
        "outputId": "6d0c223a-1e06-4e29-b224-2b15895e1c7a"
      },
      "execution_count": 15,
      "outputs": [
        {
          "output_type": "execute_result",
          "data": {
            "text/plain": [
              "3"
            ]
          },
          "metadata": {},
          "execution_count": 15
        }
      ]
    },
    {
      "cell_type": "markdown",
      "source": [
        "# Thuật toán đường đi ngắn nhất (Dijkstra’s)"
      ],
      "metadata": {
        "id": "qtsDh7aHTFoH"
      }
    },
    {
      "cell_type": "markdown",
      "source": [
        "Thực hành 1"
      ],
      "metadata": {
        "id": "KW5HjQ_OY2Xv"
      }
    },
    {
      "cell_type": "code",
      "source": [
        "import math\n",
        "import sys\n",
        "class Graph():\n",
        "  def __init__(cung, dinh):\n",
        "    cung.x = dinh\n",
        "    cung.graph = [[0 for column in range(dinh)] \n",
        "                  for row in range(dinh)]\n",
        "  def inketqua(cung, L, a):\n",
        "    print (\"Đỉnh nguồn xuất phát từ:\")\n",
        "    for nut in range(cung.x):\n",
        "      print (a,\"đến đỉnh\",nut,\"độ dài đường đi là:\", L[nut])\n",
        "  def duongdinhonhat(cung, L, P):\n",
        "    min = sys.maxsize\n",
        "    for x in range(cung.x):\n",
        "      if L[x] < min and P[x] == False:\n",
        "        min = L[x]\n",
        "        min_index = x\n",
        "        return min_index\n",
        "  def timduongdi(cung, a):\n",
        "    L = [sys.maxsize] * cung.x\n",
        "    L[a] = 0\n",
        "    P = [False] * cung.x\n",
        "    for cout in range(cung.x):\n",
        "      u = cung.duongdinhonhat(L, P)\n",
        "      P[u] = True\n",
        "      for x in range(cung.x):\n",
        "        if cung.graph[u][x] > 0 and P[x] == False and L[x] > L[u] + cung.graph[u][x]:\n",
        "          L[x] = L[u] + cung.graph[u][x]\n",
        "          cung.inketqua(L, a)\n",
        "  \n",
        "g = Graph(6) "
      ],
      "metadata": {
        "id": "KF-AGC5VTJF7"
      },
      "execution_count": 61,
      "outputs": []
    },
    {
      "cell_type": "code",
      "source": [
        "g.graph = [[0, 2, 0, 1, 0, 0],\n",
        " [3, 0, 8, 4, 0, 0],\n",
        " [0, 2, 0, 0, 7, 4],\n",
        " [4, 2, 0, 0, 2, 0],\n",
        " [0, 0, 11, 1, 0, 5],\n",
        " [0, 0, 3, 0, 5, 0]\n",
        " ]\n",
        "g.timduongdi(0)"
      ],
      "metadata": {
        "colab": {
          "base_uri": "https://localhost:8080/"
        },
        "id": "mZ09Oi_2UFuF",
        "outputId": "a943d2ca-547e-4748-b367-e6dd447f0ff7"
      },
      "execution_count": 62,
      "outputs": [
        {
          "output_type": "stream",
          "name": "stdout",
          "text": [
            "Đỉnh nguồn xuất phát từ:\n",
            "0 đến đỉnh 0 độ dài đường đi là: 0\n",
            "0 đến đỉnh 1 độ dài đường đi là: 2\n",
            "0 đến đỉnh 2 độ dài đường đi là: 9223372036854775807\n",
            "0 đến đỉnh 3 độ dài đường đi là: 9223372036854775807\n",
            "0 đến đỉnh 4 độ dài đường đi là: 9223372036854775807\n",
            "0 đến đỉnh 5 độ dài đường đi là: 9223372036854775807\n",
            "Đỉnh nguồn xuất phát từ:\n",
            "0 đến đỉnh 0 độ dài đường đi là: 0\n",
            "0 đến đỉnh 1 độ dài đường đi là: 2\n",
            "0 đến đỉnh 2 độ dài đường đi là: 9223372036854775807\n",
            "0 đến đỉnh 3 độ dài đường đi là: 1\n",
            "0 đến đỉnh 4 độ dài đường đi là: 9223372036854775807\n",
            "0 đến đỉnh 5 độ dài đường đi là: 9223372036854775807\n",
            "Đỉnh nguồn xuất phát từ:\n",
            "0 đến đỉnh 0 độ dài đường đi là: 0\n",
            "0 đến đỉnh 1 độ dài đường đi là: 2\n",
            "0 đến đỉnh 2 độ dài đường đi là: 10\n",
            "0 đến đỉnh 3 độ dài đường đi là: 1\n",
            "0 đến đỉnh 4 độ dài đường đi là: 9223372036854775807\n",
            "0 đến đỉnh 5 độ dài đường đi là: 9223372036854775807\n",
            "Đỉnh nguồn xuất phát từ:\n",
            "0 đến đỉnh 0 độ dài đường đi là: 0\n",
            "0 đến đỉnh 1 độ dài đường đi là: 2\n",
            "0 đến đỉnh 2 độ dài đường đi là: 10\n",
            "0 đến đỉnh 3 độ dài đường đi là: 1\n",
            "0 đến đỉnh 4 độ dài đường đi là: 17\n",
            "0 đến đỉnh 5 độ dài đường đi là: 9223372036854775807\n",
            "Đỉnh nguồn xuất phát từ:\n",
            "0 đến đỉnh 0 độ dài đường đi là: 0\n",
            "0 đến đỉnh 1 độ dài đường đi là: 2\n",
            "0 đến đỉnh 2 độ dài đường đi là: 10\n",
            "0 đến đỉnh 3 độ dài đường đi là: 1\n",
            "0 đến đỉnh 4 độ dài đường đi là: 17\n",
            "0 đến đỉnh 5 độ dài đường đi là: 14\n",
            "Đỉnh nguồn xuất phát từ:\n",
            "0 đến đỉnh 0 độ dài đường đi là: 0\n",
            "0 đến đỉnh 1 độ dài đường đi là: 2\n",
            "0 đến đỉnh 2 độ dài đường đi là: 10\n",
            "0 đến đỉnh 3 độ dài đường đi là: 1\n",
            "0 đến đỉnh 4 độ dài đường đi là: 3\n",
            "0 đến đỉnh 5 độ dài đường đi là: 14\n",
            "Đỉnh nguồn xuất phát từ:\n",
            "0 đến đỉnh 0 độ dài đường đi là: 0\n",
            "0 đến đỉnh 1 độ dài đường đi là: 2\n",
            "0 đến đỉnh 2 độ dài đường đi là: 10\n",
            "0 đến đỉnh 3 độ dài đường đi là: 1\n",
            "0 đến đỉnh 4 độ dài đường đi là: 3\n",
            "0 đến đỉnh 5 độ dài đường đi là: 8\n"
          ]
        }
      ]
    },
    {
      "cell_type": "markdown",
      "source": [
        "Thực hành 2 "
      ],
      "metadata": {
        "id": "UzbXREEhVbKC"
      }
    },
    {
      "cell_type": "code",
      "source": [
        "g.graph = [[0, 3, 0, 1, 0, 0],\n",
        " [3, 0, 5, 2, 0, 0],\n",
        " [0, 5, 0, 0, 4, 2],\n",
        " [1, 2, 0, 0, 6, 0],\n",
        " [0, 0, 4, 6, 0, 7],\n",
        " [0, 0, 2, 0, 7, 0]\n",
        " ]\n",
        "g.timduongdi(0)"
      ],
      "metadata": {
        "colab": {
          "base_uri": "https://localhost:8080/"
        },
        "id": "F_-0R1ElVcgi",
        "outputId": "20ef1933-5dcf-4d48-986e-1efc0ae79b9d"
      },
      "execution_count": 58,
      "outputs": [
        {
          "output_type": "stream",
          "name": "stdout",
          "text": [
            "Đỉnh nguồn xuất phát từ:\n",
            "0 đến đỉnh 0 độ dài đường đi là: 0\n",
            "0 đến đỉnh 1 độ dài đường đi là: 3\n",
            "0 đến đỉnh 2 độ dài đường đi là: 9223372036854775807\n",
            "0 đến đỉnh 3 độ dài đường đi là: 9223372036854775807\n",
            "0 đến đỉnh 4 độ dài đường đi là: 9223372036854775807\n",
            "0 đến đỉnh 5 độ dài đường đi là: 9223372036854775807\n",
            "Đỉnh nguồn xuất phát từ:\n",
            "0 đến đỉnh 0 độ dài đường đi là: 0\n",
            "0 đến đỉnh 1 độ dài đường đi là: 3\n",
            "0 đến đỉnh 2 độ dài đường đi là: 9223372036854775807\n",
            "0 đến đỉnh 3 độ dài đường đi là: 1\n",
            "0 đến đỉnh 4 độ dài đường đi là: 9223372036854775807\n",
            "0 đến đỉnh 5 độ dài đường đi là: 9223372036854775807\n",
            "Đỉnh nguồn xuất phát từ:\n",
            "0 đến đỉnh 0 độ dài đường đi là: 0\n",
            "0 đến đỉnh 1 độ dài đường đi là: 3\n",
            "0 đến đỉnh 2 độ dài đường đi là: 8\n",
            "0 đến đỉnh 3 độ dài đường đi là: 1\n",
            "0 đến đỉnh 4 độ dài đường đi là: 9223372036854775807\n",
            "0 đến đỉnh 5 độ dài đường đi là: 9223372036854775807\n",
            "Đỉnh nguồn xuất phát từ:\n",
            "0 đến đỉnh 0 độ dài đường đi là: 0\n",
            "0 đến đỉnh 1 độ dài đường đi là: 3\n",
            "0 đến đỉnh 2 độ dài đường đi là: 8\n",
            "0 đến đỉnh 3 độ dài đường đi là: 1\n",
            "0 đến đỉnh 4 độ dài đường đi là: 12\n",
            "0 đến đỉnh 5 độ dài đường đi là: 9223372036854775807\n",
            "Đỉnh nguồn xuất phát từ:\n",
            "0 đến đỉnh 0 độ dài đường đi là: 0\n",
            "0 đến đỉnh 1 độ dài đường đi là: 3\n",
            "0 đến đỉnh 2 độ dài đường đi là: 8\n",
            "0 đến đỉnh 3 độ dài đường đi là: 1\n",
            "0 đến đỉnh 4 độ dài đường đi là: 12\n",
            "0 đến đỉnh 5 độ dài đường đi là: 10\n",
            "Đỉnh nguồn xuất phát từ:\n",
            "0 đến đỉnh 0 độ dài đường đi là: 0\n",
            "0 đến đỉnh 1 độ dài đường đi là: 3\n",
            "0 đến đỉnh 2 độ dài đường đi là: 8\n",
            "0 đến đỉnh 3 độ dài đường đi là: 1\n",
            "0 đến đỉnh 4 độ dài đường đi là: 7\n",
            "0 đến đỉnh 5 độ dài đường đi là: 10\n"
          ]
        }
      ]
    },
    {
      "cell_type": "markdown",
      "source": [
        "Thực hành 3 "
      ],
      "metadata": {
        "id": "MywpPtXKWF9N"
      }
    },
    {
      "cell_type": "code",
      "source": [
        "g.graph = [[0, 4, 0, 1, 0, 0],\n",
        " [0, 0, 8, 0, 0, 0],\n",
        " [0, 0, 0, 0, 0, 4],\n",
        " [0, 0, 9, 0, 5, 0],\n",
        " [0, 0, 1, 0, 0, 7],\n",
        " [0, 0, 0, 0, 0, 0]\n",
        " ]\n",
        "g.timduongdi(0)"
      ],
      "metadata": {
        "colab": {
          "base_uri": "https://localhost:8080/"
        },
        "id": "imrWhmEjWHNC",
        "outputId": "85cbb435-c806-409b-a240-47ae74db42ca"
      },
      "execution_count": 57,
      "outputs": [
        {
          "output_type": "stream",
          "name": "stdout",
          "text": [
            "Đỉnh nguồn xuất phát từ:\n",
            "0 đến đỉnh 0 độ dài đường đi là: 0\n",
            "0 đến đỉnh 1 độ dài đường đi là: 4\n",
            "0 đến đỉnh 2 độ dài đường đi là: 9223372036854775807\n",
            "0 đến đỉnh 3 độ dài đường đi là: 9223372036854775807\n",
            "0 đến đỉnh 4 độ dài đường đi là: 9223372036854775807\n",
            "0 đến đỉnh 5 độ dài đường đi là: 9223372036854775807\n",
            "Đỉnh nguồn xuất phát từ:\n",
            "0 đến đỉnh 0 độ dài đường đi là: 0\n",
            "0 đến đỉnh 1 độ dài đường đi là: 4\n",
            "0 đến đỉnh 2 độ dài đường đi là: 9223372036854775807\n",
            "0 đến đỉnh 3 độ dài đường đi là: 1\n",
            "0 đến đỉnh 4 độ dài đường đi là: 9223372036854775807\n",
            "0 đến đỉnh 5 độ dài đường đi là: 9223372036854775807\n",
            "Đỉnh nguồn xuất phát từ:\n",
            "0 đến đỉnh 0 độ dài đường đi là: 0\n",
            "0 đến đỉnh 1 độ dài đường đi là: 4\n",
            "0 đến đỉnh 2 độ dài đường đi là: 12\n",
            "0 đến đỉnh 3 độ dài đường đi là: 1\n",
            "0 đến đỉnh 4 độ dài đường đi là: 9223372036854775807\n",
            "0 đến đỉnh 5 độ dài đường đi là: 9223372036854775807\n",
            "Đỉnh nguồn xuất phát từ:\n",
            "0 đến đỉnh 0 độ dài đường đi là: 0\n",
            "0 đến đỉnh 1 độ dài đường đi là: 4\n",
            "0 đến đỉnh 2 độ dài đường đi là: 12\n",
            "0 đến đỉnh 3 độ dài đường đi là: 1\n",
            "0 đến đỉnh 4 độ dài đường đi là: 9223372036854775807\n",
            "0 đến đỉnh 5 độ dài đường đi là: 16\n",
            "Đỉnh nguồn xuất phát từ:\n",
            "0 đến đỉnh 0 độ dài đường đi là: 0\n",
            "0 đến đỉnh 1 độ dài đường đi là: 4\n",
            "0 đến đỉnh 2 độ dài đường đi là: 12\n",
            "0 đến đỉnh 3 độ dài đường đi là: 1\n",
            "0 đến đỉnh 4 độ dài đường đi là: 6\n",
            "0 đến đỉnh 5 độ dài đường đi là: 16\n",
            "Đỉnh nguồn xuất phát từ:\n",
            "0 đến đỉnh 0 độ dài đường đi là: 0\n",
            "0 đến đỉnh 1 độ dài đường đi là: 4\n",
            "0 đến đỉnh 2 độ dài đường đi là: 12\n",
            "0 đến đỉnh 3 độ dài đường đi là: 1\n",
            "0 đến đỉnh 4 độ dài đường đi là: 6\n",
            "0 đến đỉnh 5 độ dài đường đi là: 13\n"
          ]
        }
      ]
    }
  ]
}