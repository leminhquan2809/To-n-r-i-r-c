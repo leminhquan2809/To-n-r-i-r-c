{
  "nbformat": 4,
  "nbformat_minor": 0,
  "metadata": {
    "colab": {
      "name": "Chương 2.ipynb",
      "provenance": [],
      "collapsed_sections": [],
      "authorship_tag": "ABX9TyN8uUh9JsE5uj3n7rTmx+o/",
      "include_colab_link": true
    },
    "kernelspec": {
      "name": "python3",
      "display_name": "Python 3"
    },
    "language_info": {
      "name": "python"
    }
  },
  "cells": [
    {
      "cell_type": "markdown",
      "metadata": {
        "id": "view-in-github",
        "colab_type": "text"
      },
      "source": [
        "<a href=\"https://colab.research.google.com/github/leminhquan2809/ToanRoiRac/blob/main/Ch%C6%B0%C6%A1ng_2.ipynb\" target=\"_parent\"><img src=\"https://colab.research.google.com/assets/colab-badge.svg\" alt=\"Open In Colab\"/></a>"
      ]
    },
    {
      "cell_type": "markdown",
      "source": [
        "# Ôn luyện kiến thức cơ bản Python "
      ],
      "metadata": {
        "id": "XtsqcmJWEFQd"
      }
    },
    {
      "cell_type": "markdown",
      "source": [
        "1.1 Viết hàm trong Python "
      ],
      "metadata": {
        "id": "jaTLkBFBEMyY"
      }
    },
    {
      "cell_type": "code",
      "execution_count": 1,
      "metadata": {
        "colab": {
          "base_uri": "https://localhost:8080/"
        },
        "id": "y3kM8bPnD_JA",
        "outputId": "ae7658ae-45f1-4aa9-d9b5-03093a49b5cf"
      },
      "outputs": [
        {
          "output_type": "execute_result",
          "data": {
            "text/plain": [
              "2"
            ]
          },
          "metadata": {},
          "execution_count": 1
        }
      ],
      "source": [
        "def luythua(x, n): \n",
        " ketqua= 1 \n",
        " for i in range(n): \n",
        "    ketqua = ketqua *x \n",
        " return ketqua \n",
        "luythua(2,1)"
      ]
    },
    {
      "cell_type": "code",
      "source": [
        "luythua(2,0)"
      ],
      "metadata": {
        "colab": {
          "base_uri": "https://localhost:8080/"
        },
        "id": "J2jc9cVOEaiJ",
        "outputId": "a69dac07-f994-46fa-8dd0-1193a088d9ea"
      },
      "execution_count": 3,
      "outputs": [
        {
          "output_type": "execute_result",
          "data": {
            "text/plain": [
              "1"
            ]
          },
          "metadata": {},
          "execution_count": 3
        }
      ]
    },
    {
      "cell_type": "markdown",
      "source": [
        "1.2 Kiểu dữ liệu tập hợp (set) trong Python "
      ],
      "metadata": {
        "id": "N2fWGyCgEqxf"
      }
    },
    {
      "cell_type": "code",
      "source": [
        "{2,4,6}"
      ],
      "metadata": {
        "colab": {
          "base_uri": "https://localhost:8080/"
        },
        "id": "haZ-DhcPE3t0",
        "outputId": "c3795d1f-bf36-4d42-f1bf-7e048dc7c834"
      },
      "execution_count": 4,
      "outputs": [
        {
          "output_type": "execute_result",
          "data": {
            "text/plain": [
              "{2, 4, 6}"
            ]
          },
          "metadata": {},
          "execution_count": 4
        }
      ]
    },
    {
      "cell_type": "code",
      "source": [
        "{ n for n in range(100) if n % 2 == 1 }"
      ],
      "metadata": {
        "colab": {
          "base_uri": "https://localhost:8080/"
        },
        "id": "VTSsCtEgE7nM",
        "outputId": "c90d6f61-1edd-4055-de04-c017217ebb3b"
      },
      "execution_count": 5,
      "outputs": [
        {
          "output_type": "execute_result",
          "data": {
            "text/plain": [
              "{1,\n",
              " 3,\n",
              " 5,\n",
              " 7,\n",
              " 9,\n",
              " 11,\n",
              " 13,\n",
              " 15,\n",
              " 17,\n",
              " 19,\n",
              " 21,\n",
              " 23,\n",
              " 25,\n",
              " 27,\n",
              " 29,\n",
              " 31,\n",
              " 33,\n",
              " 35,\n",
              " 37,\n",
              " 39,\n",
              " 41,\n",
              " 43,\n",
              " 45,\n",
              " 47,\n",
              " 49,\n",
              " 51,\n",
              " 53,\n",
              " 55,\n",
              " 57,\n",
              " 59,\n",
              " 61,\n",
              " 63,\n",
              " 65,\n",
              " 67,\n",
              " 69,\n",
              " 71,\n",
              " 73,\n",
              " 75,\n",
              " 77,\n",
              " 79,\n",
              " 81,\n",
              " 83,\n",
              " 85,\n",
              " 87,\n",
              " 89,\n",
              " 91,\n",
              " 93,\n",
              " 95,\n",
              " 97,\n",
              " 99}"
            ]
          },
          "metadata": {},
          "execution_count": 5
        }
      ]
    },
    {
      "cell_type": "code",
      "source": [
        "tap_rong = set() \n",
        "print (tap_rong) "
      ],
      "metadata": {
        "colab": {
          "base_uri": "https://localhost:8080/"
        },
        "id": "dSY5PDS3E-_p",
        "outputId": "97f7e61e-a911-4d83-9cad-30364b92a2ae"
      },
      "execution_count": 6,
      "outputs": [
        {
          "output_type": "stream",
          "name": "stdout",
          "text": [
            "set()\n"
          ]
        }
      ]
    },
    {
      "cell_type": "code",
      "source": [
        "setA = { n for n in range(100) if n % 2 == 1 } \n",
        "setB = { n for n in range(100) if n % 2 == 1 } \n",
        "setA | setB "
      ],
      "metadata": {
        "colab": {
          "base_uri": "https://localhost:8080/"
        },
        "id": "l4xuz-A_FEX8",
        "outputId": "5505315a-7e69-415c-94e2-60f9615e09b1"
      },
      "execution_count": 7,
      "outputs": [
        {
          "output_type": "execute_result",
          "data": {
            "text/plain": [
              "{1,\n",
              " 3,\n",
              " 5,\n",
              " 7,\n",
              " 9,\n",
              " 11,\n",
              " 13,\n",
              " 15,\n",
              " 17,\n",
              " 19,\n",
              " 21,\n",
              " 23,\n",
              " 25,\n",
              " 27,\n",
              " 29,\n",
              " 31,\n",
              " 33,\n",
              " 35,\n",
              " 37,\n",
              " 39,\n",
              " 41,\n",
              " 43,\n",
              " 45,\n",
              " 47,\n",
              " 49,\n",
              " 51,\n",
              " 53,\n",
              " 55,\n",
              " 57,\n",
              " 59,\n",
              " 61,\n",
              " 63,\n",
              " 65,\n",
              " 67,\n",
              " 69,\n",
              " 71,\n",
              " 73,\n",
              " 75,\n",
              " 77,\n",
              " 79,\n",
              " 81,\n",
              " 83,\n",
              " 85,\n",
              " 87,\n",
              " 89,\n",
              " 91,\n",
              " 93,\n",
              " 95,\n",
              " 97,\n",
              " 99}"
            ]
          },
          "metadata": {},
          "execution_count": 7
        }
      ]
    },
    {
      "cell_type": "code",
      "source": [
        "setA & setB"
      ],
      "metadata": {
        "colab": {
          "base_uri": "https://localhost:8080/"
        },
        "id": "zdOkalYsFIiQ",
        "outputId": "49104ff1-d4f1-45aa-e2ec-f21faa8ee73a"
      },
      "execution_count": 8,
      "outputs": [
        {
          "output_type": "execute_result",
          "data": {
            "text/plain": [
              "{1,\n",
              " 3,\n",
              " 5,\n",
              " 7,\n",
              " 9,\n",
              " 11,\n",
              " 13,\n",
              " 15,\n",
              " 17,\n",
              " 19,\n",
              " 21,\n",
              " 23,\n",
              " 25,\n",
              " 27,\n",
              " 29,\n",
              " 31,\n",
              " 33,\n",
              " 35,\n",
              " 37,\n",
              " 39,\n",
              " 41,\n",
              " 43,\n",
              " 45,\n",
              " 47,\n",
              " 49,\n",
              " 51,\n",
              " 53,\n",
              " 55,\n",
              " 57,\n",
              " 59,\n",
              " 61,\n",
              " 63,\n",
              " 65,\n",
              " 67,\n",
              " 69,\n",
              " 71,\n",
              " 73,\n",
              " 75,\n",
              " 77,\n",
              " 79,\n",
              " 81,\n",
              " 83,\n",
              " 85,\n",
              " 87,\n",
              " 89,\n",
              " 91,\n",
              " 93,\n",
              " 95,\n",
              " 97,\n",
              " 99}"
            ]
          },
          "metadata": {},
          "execution_count": 8
        }
      ]
    },
    {
      "cell_type": "code",
      "source": [
        "setA - setB"
      ],
      "metadata": {
        "colab": {
          "base_uri": "https://localhost:8080/"
        },
        "id": "lfiKa1n1FKUp",
        "outputId": "3f87635e-e106-4de7-bff6-155f9baaaccb"
      },
      "execution_count": 13,
      "outputs": [
        {
          "output_type": "execute_result",
          "data": {
            "text/plain": [
              "set()"
            ]
          },
          "metadata": {},
          "execution_count": 13
        }
      ]
    },
    {
      "cell_type": "code",
      "source": [
        "setA < setB"
      ],
      "metadata": {
        "colab": {
          "base_uri": "https://localhost:8080/"
        },
        "id": "0ydHu1PNFOzg",
        "outputId": "5cd3fa71-0dd4-4993-d249-195e949e73fd"
      },
      "execution_count": 12,
      "outputs": [
        {
          "output_type": "execute_result",
          "data": {
            "text/plain": [
              "False"
            ]
          },
          "metadata": {},
          "execution_count": 12
        }
      ]
    },
    {
      "cell_type": "code",
      "source": [
        "setA <= setB "
      ],
      "metadata": {
        "colab": {
          "base_uri": "https://localhost:8080/"
        },
        "id": "NvK6khlcFQwU",
        "outputId": "83e73282-f3d9-4b76-b42b-372b96ab5be1"
      },
      "execution_count": 14,
      "outputs": [
        {
          "output_type": "execute_result",
          "data": {
            "text/plain": [
              "True"
            ]
          },
          "metadata": {},
          "execution_count": 14
        }
      ]
    },
    {
      "cell_type": "code",
      "source": [
        "10 in setA"
      ],
      "metadata": {
        "colab": {
          "base_uri": "https://localhost:8080/"
        },
        "id": "o8CbsGHLFd7p",
        "outputId": "535fb2a6-a6a7-4e47-828a-4908556ef35e"
      },
      "execution_count": 16,
      "outputs": [
        {
          "output_type": "execute_result",
          "data": {
            "text/plain": [
              "False"
            ]
          },
          "metadata": {},
          "execution_count": 16
        }
      ]
    },
    {
      "cell_type": "code",
      "source": [
        "11 in setA"
      ],
      "metadata": {
        "colab": {
          "base_uri": "https://localhost:8080/"
        },
        "id": "uOkKA7iNFgym",
        "outputId": "11577de8-e302-4919-df06-a85a629ddded"
      },
      "execution_count": 17,
      "outputs": [
        {
          "output_type": "execute_result",
          "data": {
            "text/plain": [
              "True"
            ]
          },
          "metadata": {},
          "execution_count": 17
        }
      ]
    },
    {
      "cell_type": "code",
      "source": [
        "setA.add(0) \n",
        "setA"
      ],
      "metadata": {
        "colab": {
          "base_uri": "https://localhost:8080/"
        },
        "id": "OoiWlXs5FjFJ",
        "outputId": "34422736-0fc7-475c-f8ba-630727218cce"
      },
      "execution_count": 21,
      "outputs": [
        {
          "output_type": "execute_result",
          "data": {
            "text/plain": [
              "{0,\n",
              " 1,\n",
              " 3,\n",
              " 5,\n",
              " 7,\n",
              " 9,\n",
              " 11,\n",
              " 13,\n",
              " 15,\n",
              " 17,\n",
              " 19,\n",
              " 21,\n",
              " 23,\n",
              " 25,\n",
              " 27,\n",
              " 29,\n",
              " 31,\n",
              " 33,\n",
              " 35,\n",
              " 37,\n",
              " 39,\n",
              " 41,\n",
              " 43,\n",
              " 45,\n",
              " 47,\n",
              " 49,\n",
              " 51,\n",
              " 53,\n",
              " 55,\n",
              " 57,\n",
              " 59,\n",
              " 61,\n",
              " 63,\n",
              " 65,\n",
              " 67,\n",
              " 69,\n",
              " 71,\n",
              " 73,\n",
              " 75,\n",
              " 77,\n",
              " 79,\n",
              " 81,\n",
              " 83,\n",
              " 85,\n",
              " 87,\n",
              " 89,\n",
              " 91,\n",
              " 93,\n",
              " 95,\n",
              " 97,\n",
              " 99}"
            ]
          },
          "metadata": {},
          "execution_count": 21
        }
      ]
    },
    {
      "cell_type": "code",
      "source": [
        "setA > setB"
      ],
      "metadata": {
        "colab": {
          "base_uri": "https://localhost:8080/"
        },
        "id": "Y2zEwXGkFnCc",
        "outputId": "20dcae04-f788-449d-87ea-8034faf4cf67"
      },
      "execution_count": 20,
      "outputs": [
        {
          "output_type": "execute_result",
          "data": {
            "text/plain": [
              "True"
            ]
          },
          "metadata": {},
          "execution_count": 20
        }
      ]
    },
    {
      "cell_type": "markdown",
      "source": [
        "1.3 Hàm Lambda trong Python "
      ],
      "metadata": {
        "id": "9EPKlP3KFvts"
      }
    },
    {
      "cell_type": "code",
      "source": [
        "def f(x): \n",
        "  return x**2\n",
        "print (f(8))"
      ],
      "metadata": {
        "colab": {
          "base_uri": "https://localhost:8080/"
        },
        "id": "faLgDLTPF0RP",
        "outputId": "3ec52b2e-0e3c-4147-8fcc-0eacb0f86334"
      },
      "execution_count": 25,
      "outputs": [
        {
          "output_type": "stream",
          "name": "stdout",
          "text": [
            "64\n"
          ]
        }
      ]
    },
    {
      "cell_type": "code",
      "source": [
        "g = lambda x: x**2\n",
        "print(g(8))"
      ],
      "metadata": {
        "colab": {
          "base_uri": "https://localhost:8080/"
        },
        "id": "OvT8_eA7GAFY",
        "outputId": "c212515b-6270-4cc6-a038-d9cca56d0892"
      },
      "execution_count": 26,
      "outputs": [
        {
          "output_type": "stream",
          "name": "stdout",
          "text": [
            "64\n"
          ]
        }
      ]
    },
    {
      "cell_type": "code",
      "source": [
        "g = lambda x: x**3\n",
        "print(g(8))"
      ],
      "metadata": {
        "colab": {
          "base_uri": "https://localhost:8080/"
        },
        "id": "bjzMRjVkGNdL",
        "outputId": "288091d4-555b-42de-c889-76f0eb1576fb"
      },
      "execution_count": 27,
      "outputs": [
        {
          "output_type": "stream",
          "name": "stdout",
          "text": [
            "512\n"
          ]
        }
      ]
    },
    {
      "cell_type": "code",
      "source": [
        "def thue(phan_tram):\n",
        "  hcm = thue(0.012) \n",
        "  hn = thue(0.01)\n",
        "  hcm(1000000)\n",
        "  return lambda x: x * phan_tram\n",
        "print(hcm)"
      ],
      "metadata": {
        "colab": {
          "base_uri": "https://localhost:8080/"
        },
        "id": "91ATo662GUN5",
        "outputId": "63ef2843-49a1-4231-b7e9-0483562119aa"
      },
      "execution_count": 56,
      "outputs": [
        {
          "output_type": "stream",
          "name": "stdout",
          "text": [
            "hcm\n"
          ]
        }
      ]
    },
    {
      "cell_type": "code",
      "source": [
        "from functools import reduce \n",
        "day_so = range(2, 50)\n",
        "print filter(lambda x: x % 3 == 0, day_so)"
      ],
      "metadata": {
        "id": "5IKVYQCqHlLb"
      },
      "execution_count": null,
      "outputs": []
    },
    {
      "cell_type": "code",
      "source": [
        "print map(lambda x: x * x , day_so)"
      ],
      "metadata": {
        "id": "pSC5yK1FLWLn"
      },
      "execution_count": null,
      "outputs": []
    },
    {
      "cell_type": "code",
      "source": [
        "day_so = range(1, 11) \n",
        "print reduce(lambda x, y: x+y, day_so)"
      ],
      "metadata": {
        "id": "grj1LdHULafF"
      },
      "execution_count": null,
      "outputs": []
    },
    {
      "cell_type": "code",
      "source": [
        "f = lambda a,b: a if (a>b) else b\n",
        "print reduce(f, ds) "
      ],
      "metadata": {
        "id": "G2QTjcIaLfmn"
      },
      "execution_count": null,
      "outputs": []
    },
    {
      "cell_type": "code",
      "source": [
        "imatrix = lambda n:[[1 if j==i else 0 for j in range(n)] for i in range(n)] \n",
        "imatrix(3)"
      ],
      "metadata": {
        "id": "ygBVZ4GILpOz"
      },
      "execution_count": null,
      "outputs": []
    },
    {
      "cell_type": "code",
      "source": [
        "import numpy \n",
        "list_eye = lambda n: numpy.eye(n).tolist() \n",
        "list_eye(4) "
      ],
      "metadata": {
        "id": "1SQP06LoLsjg"
      },
      "execution_count": null,
      "outputs": []
    },
    {
      "cell_type": "code",
      "source": [
        "g = lambda n:\n",
        "  [[1 if (j+1==i or j==i+1) \n",
        "  else math.sqrt(2) \n",
        "  for j in range(n)] \n",
        "  for i in range(n)] \n",
        "g(3)"
      ],
      "metadata": {
        "id": "Y0F4bLQfLvWq"
      },
      "execution_count": null,
      "outputs": []
    },
    {
      "cell_type": "code",
      "source": [
        " g = lambda n:\n",
        "  [[1 if (j+1==i or j==i+1) \n",
        "  else math.sqrt(2) \n",
        "  for j in range(n)] \n",
        "  for i in range(n)] \n",
        "g(3)"
      ],
      "metadata": {
        "id": "kdRuBlanLydp"
      },
      "execution_count": null,
      "outputs": []
    },
    {
      "cell_type": "markdown",
      "source": [
        "# Ánh xạ và hàm hợp "
      ],
      "metadata": {
        "id": "v83dOkBYMMU3"
      }
    },
    {
      "cell_type": "markdown",
      "source": [
        "2.1 Phân loại ánh xạ và một số tính chất "
      ],
      "metadata": {
        "id": "FeCS1iQ4MLgS"
      }
    },
    {
      "cell_type": "markdown",
      "source": [
        "2.2 Hàm hợp trong Python "
      ],
      "metadata": {
        "id": "Fa-VJhTJMe2A"
      }
    },
    {
      "cell_type": "code",
      "source": [
        "def alpha(a): \n",
        "  return a+10 \n",
        "def beta(b): \n",
        "  return b*3 \n",
        "def ham_hop(g, f):\n",
        "  return (lambda x: g(f(x))) \n",
        "h = ham_hop(alpha, beta)\n",
        "h(1)"
      ],
      "metadata": {
        "colab": {
          "base_uri": "https://localhost:8080/"
        },
        "id": "u-PLn9jzMKDW",
        "outputId": "8cbca4f3-6f1b-490a-f354-f748cb006497"
      },
      "execution_count": 64,
      "outputs": [
        {
          "output_type": "execute_result",
          "data": {
            "text/plain": [
              "13"
            ]
          },
          "metadata": {},
          "execution_count": 64
        }
      ]
    },
    {
      "cell_type": "code",
      "source": [
        "g = ham_hop(beta, alpha) \n",
        "g(1)"
      ],
      "metadata": {
        "colab": {
          "base_uri": "https://localhost:8080/"
        },
        "id": "8F6ZHPeIMtHq",
        "outputId": "c200f8aa-f515-4e89-99b3-9b58c1de0abf"
      },
      "execution_count": 67,
      "outputs": [
        {
          "output_type": "execute_result",
          "data": {
            "text/plain": [
              "33"
            ]
          },
          "metadata": {},
          "execution_count": 67
        }
      ]
    },
    {
      "cell_type": "markdown",
      "source": [
        "# Quy nạp toán học và xây dựng hàm đệ quy trong Python "
      ],
      "metadata": {
        "id": "4e-6d4ZMMxjN"
      }
    },
    {
      "cell_type": "code",
      "source": [
        "from datetime import datetime \n",
        "from datetime import timedelta \n",
        "def millis(start_time): \n",
        "  dt = datetime.now() - start_time \n",
        "  ms = (dt.days * 24 * 60 * 60 + dt.seconds) * 1000 + dt.microseconds / 1000.0 \n",
        "  return ms \n",
        "def milisec_passed(start_time): \n",
        "  thoigian_troi_qua = millis(start_time)\n",
        "  s = \"Thời gian đã trôi qua: \" + str(int(thoigian_troi_qua)) + \" mili giây.\" \n",
        "  return s"
      ],
      "metadata": {
        "id": "5Uehal6yMwcw"
      },
      "execution_count": 71,
      "outputs": []
    },
    {
      "cell_type": "code",
      "source": [
        "def tong(n): \n",
        "  bat_dau = datetime.now() \n",
        "  ketqua = 0 \n",
        "  for i in range(n+1): \n",
        "    ketqua = ketqua + i \n",
        "  thoi_gian = str(milisec_passed(bat_dau))\n",
        "  print(thoi_gian) \n",
        "  return ketqua \n",
        "tong(100000000)"
      ],
      "metadata": {
        "colab": {
          "base_uri": "https://localhost:8080/"
        },
        "id": "QeTwDzg9NPnU",
        "outputId": "9dd86f2a-811b-41df-b012-99d4b442279b"
      },
      "execution_count": 72,
      "outputs": [
        {
          "output_type": "stream",
          "name": "stdout",
          "text": [
            "Thời gian đã trôi qua: 7262 mili giây.\n"
          ]
        },
        {
          "output_type": "execute_result",
          "data": {
            "text/plain": [
              "5000000050000000"
            ]
          },
          "metadata": {},
          "execution_count": 72
        }
      ]
    },
    {
      "cell_type": "code",
      "source": [
        " def tong1(n): \n",
        "  bat_dau = datetime.now() \n",
        "  ket_qua = n*(n+1)/2 \n",
        "  thoi_gian = str(milisec_passed(bat_dau)) \n",
        "  print(thoi_gian) \n",
        "  return ket_qua\n",
        "tong1(1000000)"
      ],
      "metadata": {
        "colab": {
          "base_uri": "https://localhost:8080/"
        },
        "id": "V0A7mnFONumK",
        "outputId": "cfc8d44d-b263-4b64-ffb1-c2fae0a1383a"
      },
      "execution_count": 73,
      "outputs": [
        {
          "output_type": "stream",
          "name": "stdout",
          "text": [
            "Thời gian đã trôi qua: 0 mili giây.\n"
          ]
        },
        {
          "output_type": "execute_result",
          "data": {
            "text/plain": [
              "500000500000.0"
            ]
          },
          "metadata": {},
          "execution_count": 73
        }
      ]
    },
    {
      "cell_type": "code",
      "source": [
        "def fibo(n): \n",
        "  if (n == 0) or (n == 1): \n",
        "    return 1 \n",
        "  else: \n",
        "    return fibo(n-1) + fibo(n-2)\n",
        "fibo(2)"
      ],
      "metadata": {
        "colab": {
          "base_uri": "https://localhost:8080/"
        },
        "id": "LPpNKNIvN8Ux",
        "outputId": "e8dd169e-48a1-432a-b976-cb3807c0fdec"
      },
      "execution_count": 74,
      "outputs": [
        {
          "output_type": "execute_result",
          "data": {
            "text/plain": [
              "2"
            ]
          },
          "metadata": {},
          "execution_count": 74
        }
      ]
    },
    {
      "cell_type": "code",
      "source": [
        "fibo(3)"
      ],
      "metadata": {
        "colab": {
          "base_uri": "https://localhost:8080/"
        },
        "id": "xInFTxOeOElr",
        "outputId": "bd2cce35-6979-4cdc-d1dd-af5c09bf8289"
      },
      "execution_count": 75,
      "outputs": [
        {
          "output_type": "execute_result",
          "data": {
            "text/plain": [
              "3"
            ]
          },
          "metadata": {},
          "execution_count": 75
        }
      ]
    },
    {
      "cell_type": "code",
      "source": [
        "fibo(4)"
      ],
      "metadata": {
        "colab": {
          "base_uri": "https://localhost:8080/"
        },
        "id": "de2oCT-BOFFc",
        "outputId": "efa4f87b-85cd-4c18-dbaf-a7a647b981e6"
      },
      "execution_count": 76,
      "outputs": [
        {
          "output_type": "execute_result",
          "data": {
            "text/plain": [
              "5"
            ]
          },
          "metadata": {},
          "execution_count": 76
        }
      ]
    },
    {
      "cell_type": "code",
      "source": [
        "fibo(5)"
      ],
      "metadata": {
        "colab": {
          "base_uri": "https://localhost:8080/"
        },
        "id": "ebj3pSQDOFaV",
        "outputId": "45d700a1-df95-4386-df62-7a312c7a5c1c"
      },
      "execution_count": 78,
      "outputs": [
        {
          "output_type": "execute_result",
          "data": {
            "text/plain": [
              "8"
            ]
          },
          "metadata": {},
          "execution_count": 78
        }
      ]
    },
    {
      "cell_type": "markdown",
      "source": [
        "Kỹ thuật Memoization áp dụng trong đệ quy với Python"
      ],
      "metadata": {
        "id": "Y6p9KYOFONKi"
      }
    },
    {
      "cell_type": "code",
      "source": [
        "def fibo_mem(n, so_da_tinh = {0:0, 1: 1}): \n",
        "  if n not in so_da_tinh: \n",
        "    so_da_tinh[n] = fibo_mem(n-1, so_da_tinh) + fibo_mem(n-2, so_da_tinh) \n",
        "  return so_da_tinh[n]\n",
        "fibo_mem(3)"
      ],
      "metadata": {
        "colab": {
          "base_uri": "https://localhost:8080/"
        },
        "id": "a1bTF8PMOO9C",
        "outputId": "4ec5037d-4320-4e42-eacb-972b68f1287c"
      },
      "execution_count": 80,
      "outputs": [
        {
          "output_type": "execute_result",
          "data": {
            "text/plain": [
              "2"
            ]
          },
          "metadata": {},
          "execution_count": 80
        }
      ]
    },
    {
      "cell_type": "code",
      "source": [
        "fibo_mem(4)"
      ],
      "metadata": {
        "colab": {
          "base_uri": "https://localhost:8080/"
        },
        "id": "lPbqrdSmOXpj",
        "outputId": "4cd15c26-11ef-47e7-8ab0-bd52805bff3c"
      },
      "execution_count": 84,
      "outputs": [
        {
          "output_type": "execute_result",
          "data": {
            "text/plain": [
              "3"
            ]
          },
          "metadata": {},
          "execution_count": 84
        }
      ]
    },
    {
      "cell_type": "code",
      "source": [
        "fibo_mem(5)"
      ],
      "metadata": {
        "colab": {
          "base_uri": "https://localhost:8080/"
        },
        "id": "rBRKpxVnOY1E",
        "outputId": "3fc734f5-7c89-46ea-eeba-fc1364541d90"
      },
      "execution_count": 83,
      "outputs": [
        {
          "output_type": "execute_result",
          "data": {
            "text/plain": [
              "5"
            ]
          },
          "metadata": {},
          "execution_count": 83
        }
      ]
    },
    {
      "cell_type": "code",
      "source": [
        "fibo_mem(200)"
      ],
      "metadata": {
        "colab": {
          "base_uri": "https://localhost:8080/"
        },
        "id": "Ar39xIb0OZGo",
        "outputId": "d84b7b1d-820b-47e7-d6e5-f1ab2190bcf9"
      },
      "execution_count": 82,
      "outputs": [
        {
          "output_type": "execute_result",
          "data": {
            "text/plain": [
              "280571172992510140037611932413038677189525"
            ]
          },
          "metadata": {},
          "execution_count": 82
        }
      ]
    },
    {
      "cell_type": "code",
      "source": [
        "fibo_mem(500)"
      ],
      "metadata": {
        "colab": {
          "base_uri": "https://localhost:8080/"
        },
        "id": "UJ50qx9nOZUG",
        "outputId": "12e4bd98-8ace-46ef-b4e6-bed2368cd74e"
      },
      "execution_count": 81,
      "outputs": [
        {
          "output_type": "execute_result",
          "data": {
            "text/plain": [
              "139423224561697880139724382870407283950070256587697307264108962948325571622863290691557658876222521294125"
            ]
          },
          "metadata": {},
          "execution_count": 81
        }
      ]
    }
  ]
}
